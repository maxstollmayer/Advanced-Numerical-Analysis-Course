{
 "cells": [
  {
   "cell_type": "markdown",
   "id": "5d6ca74d-9dce-48c6-931a-5cfe36a6611c",
   "metadata": {},
   "source": [
    "# Advanced Numerical Analysis\n",
    "\n",
    "## Exercise 38"
   ]
  },
  {
   "cell_type": "markdown",
   "id": "26646e63-3907-4681-ad87-eeb6cc54b312",
   "metadata": {},
   "source": [
    "*For real* $\\varepsilon > 0,$ *consider the regularizing Möbius transform* $\\mathbb{C} \\ni \\lambda \\rightarrow \\lambda_\\varepsilon := \\frac{\\lambda}{1 - \\varepsilon \\lambda}.$\n",
    "\n",
    "$\\textrm{(i)} \\quad$ *Show that the complex half-plane* $\\textrm{Re}(\\lambda) \\le \\mu$ *is transformed into a circle* $|\\lambda_\\varepsilon - \\xi_\\varepsilon| \\le r_\\varepsilon.$ *Determine* $\\xi_\\varepsilon$ *and* $r_\\varepsilon$ *as expressions in* $\\mu$ *and* $\\varepsilon.$\n",
    "\n",
    "Hint: Make the denominator real by multiplying with the complex conjugate, then simplify."
   ]
  },
  {
   "cell_type": "markdown",
   "id": "da6d04f1-6494-4ae6-a8b8-527614df9e4d",
   "metadata": {},
   "source": [
    "Let $\\lambda = x + i y$ with $x, y \\in \\mathbb{R} and x \\le \\mu.$ Then $\\lambda_\\varepsilon = \\frac{\\lambda}{1 - \\varepsilon \\lambda} = \\frac{x + i y}{1 - \\varepsilon (x + i y)} \\frac{\\overline{1 - \\varepsilon (x + i y)}}{\\overline{1 - \\varepsilon (x + i y)}} = \\frac{}{(1 - \\varepsilon x)^2 + }$"
   ]
  },
  {
   "cell_type": "markdown",
   "id": "0bd646ec-61a3-45f2-a71f-37bddbe10b44",
   "metadata": {},
   "source": [
    "$$ $$\n",
    "$\\textrm{(ii)} \\quad$ *Deduce that* $\\textrm{Re}(\\lambda) \\le 0$ *implies* $\\textrm{Re}(\\lambda_\\varepsilon) \\le 0.$ *(Thus regularization with the above Möbius\n",
    "transform preserves stability.)*"
   ]
  },
  {
   "cell_type": "markdown",
   "id": "d48b0d2d-4c63-4140-a63f-ff2e07ad650d",
   "metadata": {},
   "source": []
  },
  {
   "cell_type": "markdown",
   "id": "cf497c53-a509-41ee-94f7-a1cdaede2587",
   "metadata": {},
   "source": [
    "$$ $$\n",
    "$\\textrm{(iii)} \\quad$ *Find the circle* $|\\lambda - \\zeta_\\varepsilon| < s_\\varepsilon$ *that is mapped onto the complex half-plane* $\\textrm{Re}(\\lambda_\\varepsilon) \\ge 0.$"
   ]
  },
  {
   "cell_type": "markdown",
   "id": "03854423-f9e7-4df3-a497-b905a48b3c11",
   "metadata": {},
   "source": []
  }
 ],
 "metadata": {
  "kernelspec": {
   "display_name": "Octave",
   "language": "octave",
   "name": "octave"
  },
  "language_info": {
   "file_extension": ".m",
   "help_links": [
    {
     "text": "GNU Octave",
     "url": "https://www.gnu.org/software/octave/support.html"
    },
    {
     "text": "Octave Kernel",
     "url": "https://github.com/Calysto/octave_kernel"
    },
    {
     "text": "MetaKernel Magics",
     "url": "https://metakernel.readthedocs.io/en/latest/source/README.html"
    }
   ],
   "mimetype": "text/x-octave",
   "name": "octave",
   "version": "6.2.0"
  }
 },
 "nbformat": 4,
 "nbformat_minor": 5
}
