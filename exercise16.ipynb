{
 "cells": [
  {
   "cell_type": "markdown",
   "id": "sonic-strengthening",
   "metadata": {},
   "source": [
    "# Advanced Numerical Analysis"
   ]
  },
  {
   "cell_type": "markdown",
   "id": "decimal-mercy",
   "metadata": {},
   "source": [
    "## Exercise 16"
   ]
  },
  {
   "cell_type": "markdown",
   "id": "thick-status",
   "metadata": {},
   "source": [
    "*A rod with circular cross section, supported and hinged at both ends, is loaded with a force* $P$ *along its symmetry axis. Physics tells us that the rod buckles once this force exceeds a value* $P_1,$ *given by the smallest eigenvalue of the boundary-eigenvalue problem for the displacement* $y(x)$ *from the unloaded position.*\n",
    "\n",
    "*Determine approximately the smallest eigenvalue of this problem for* $\\alpha = 10.132115.$\n",
    "\n",
    "*Calculate for* $n = 15$ *its smallest eigenvalue by inverse iteration with the Rayleigh quotient shift* $\\sigma_k = \\frac{(u^{(k)})^* A u^{(k)}}{(u^{(k)})^* u^{(k)}}.$ *In each iteration give the values of* $\\sigma_k$ *and the corresponding error bound* $\\Delta_k = \\frac{||A u^{(k)} - \\sigma_k u^{(k)}||}{||u^{(k)}||_2}.$ *Compare with* $P = 100.$"
   ]
  },
  {
   "cell_type": "markdown",
   "id": "preliminary-analyst",
   "metadata": {},
   "source": [
    "For $n\\in\\mathbb{N}$ let $h := \\frac{1}{n+1}$ and for $k\\in\\{0,\\dots,n+1\\}$ define $x_k := kh$ and $y_k := y(x_k).$ Then $y''(x_k)$ can be approximated by the second-order central difference $\\frac{y_{k-1}-2y_k+y_{k+1}}{h^2}.$\n",
    "\n",
    "Substituting into the differential equation yields $\\alpha^{-1} P y_k + \\frac{y_{k-1}-2y_k+y_{k+1}}{h^2} \\iff P y_k = \\frac{\\alpha}{h^2} (2y_k -y_{k-1}-y_{k+1}) \\ \\forall k \\in \\{1,\\dots,n\\},$ also $y_0 = y_{n+1} = 0.$ Therefore we can write this as an eigenvalue problem $Au = Pu$ for $u=(y_1,\\dots,y_n)^\\top$ and\n",
    "$$ A = \\frac{\\alpha}{h^2}\n",
    "\\begin{pmatrix}\n",
    " 2 & -1  \\\\\n",
    "-1 &  2 & -1  \\\\\n",
    "   & -1 &  2 & -1 \\\\\n",
    "   &    &    & \\ddots \\\\\n",
    "   &    &    & -1 &  2\n",
    "\\end{pmatrix}.$$"
   ]
  },
  {
   "cell_type": "markdown",
   "id": "built-native",
   "metadata": {},
   "source": [
    "Using the inverse iteration function for $\\alpha = 10.132115$ and $n=15$ we get the following estimations and errors."
   ]
  },
  {
   "cell_type": "code",
   "execution_count": 1,
   "id": "spectacular-valve",
   "metadata": {
    "scrolled": false
   },
   "outputs": [
    {
     "name": "stdout",
     "output_type": "stream",
     "text": [
      "shift_1 = 345.842859,  error_bound_1 = 2.625258e+02\n",
      "shift_2 = 118.481327,  error_bound_2 = 1.902161e+01\n",
      "shift_3 = 99.690163,  error_bound_3 = 1.105995e-02\n",
      "shift_4 = 99.679103,  error_bound_4 = 2.243581e-12\n",
      "shift_5 = 99.679103,  error_bound_5 = 3.323782e-13\n",
      "shift_6 = 99.679103,  error_bound_6 = 3.183324e-13\n",
      "shift_7 = 99.679103,  error_bound_7 = 3.183621e-13\n",
      "shift_8 = 99.679103,  error_bound_8 = 3.183621e-13\n",
      "shift_9 = 99.679103,  error_bound_9 = 3.183621e-13\n",
      "difference to P: 3.208967e-01"
     ]
    }
   ],
   "source": [
    "alpha = 10.132115;\n",
    "n = 15;\n",
    "P = 100;\n",
    "\n",
    "h = 1 / (n+1);\n",
    "u = ones(n, 1);\n",
    "A = alpha / h^2 * spdiags(-ones(n, 2), [-1, 1], 2 * speye(n));\n",
    "\n",
    "for k = 1:9\n",
    "    shift = (u' * A * u) / (u' * u);\n",
    "    u = linsolve(A - shift * eye(n), u);\n",
    "    [max_value, index] = max(abs(u));\n",
    "    u = u / u(index);\n",
    "    error_bound = norm(A * u - shift * u) / norm(u);\n",
    "    \n",
    "    printf(\"shift_%d = %f,  error_bound_%d = %e\\n\", k, shift, k, error_bound)    \n",
    "endfor\n",
    "\n",
    "printf(\"difference to P: %e\", abs(shift - P))"
   ]
  }
 ],
 "metadata": {
  "kernelspec": {
   "display_name": "Octave",
   "language": "octave",
   "name": "octave"
  },
  "language_info": {
   "file_extension": ".m",
   "help_links": [
    {
     "text": "GNU Octave",
     "url": "https://www.gnu.org/software/octave/support.html"
    },
    {
     "text": "Octave Kernel",
     "url": "https://github.com/Calysto/octave_kernel"
    },
    {
     "text": "MetaKernel Magics",
     "url": "https://metakernel.readthedocs.io/en/latest/source/README.html"
    }
   ],
   "mimetype": "text/x-octave",
   "name": "octave",
   "version": "6.2.0"
  }
 },
 "nbformat": 4,
 "nbformat_minor": 5
}
