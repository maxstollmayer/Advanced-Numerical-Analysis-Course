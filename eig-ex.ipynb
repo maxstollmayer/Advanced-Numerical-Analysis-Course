{
 "cells": [
  {
   "cell_type": "markdown",
   "id": "clinical-christianity",
   "metadata": {},
   "source": [
    "# Advanced Numerical Analysis\n",
    "## Eigenvalue Problems"
   ]
  },
  {
   "cell_type": "markdown",
   "id": "handled-peoples",
   "metadata": {},
   "source": [
    "### Exercise 1\n",
    "1. For which $t\\in\\mathbb{R}$ do the eigenvalues of the matrix $A=\\big(\\begin{smallmatrix}1+3s & 4|s| \\\\ 4|s| & 1−3s \\end{smallmatrix}\\big)$ depend continuously on $s$? When can the eigenvectors be normalized such that they depend continuously on $s$? Justify your answer."
   ]
  },
  {
   "cell_type": "markdown",
   "id": "stone-steering",
   "metadata": {},
   "source": [
    "_Answer._"
   ]
  },
  {
   "cell_type": "markdown",
   "id": "respiratory-cooling",
   "metadata": {},
   "source": [
    "2. What is the appropriate criterion for a general $2\\times2$ matrix $A$ depending on $s$?"
   ]
  },
  {
   "cell_type": "markdown",
   "id": "modular-microwave",
   "metadata": {},
   "source": [
    "_Answer._"
   ]
  },
  {
   "cell_type": "markdown",
   "id": "trained-pearl",
   "metadata": {},
   "source": [
    "### Exercise 2\n",
    "Compute for $n= 2^l$ ($l= 1$ until the largest possible integer where the problem fits into the memory) the eigenvalues of the $n\\times n$ matrix $A$ with entries\n",
    "1. $A_{ik} = i+k$\n",
    "2. $A_{ik} = i+k^2$\n",
    "3. $A_{ik} = \\sqrt{ik+i+1}$\n",
    "4. $A_{ik} = -\\max(3-|i-k|,0)$ in full representation\n",
    "5. $A_{ik} = -\\max(3-|i-k|,0)$ in sparse representation\n",
    "\n",
    "Measure time with `tic;lam=eig(A);tim(l,fall)=toc` in cases 1. to 4. and in case 5. with `tic;lam=eigs(A);tim(l,4)=toc`.\n",
    "\n",
    "Plot the times with `loglog` in the same diagram. Interpret the findings."
   ]
  },
  {
   "cell_type": "code",
   "execution_count": 1,
   "id": "amateur-customer",
   "metadata": {},
   "outputs": [],
   "source": [
    "function time = timer(A)\n",
    "    tic();\n",
    "    eig(A);\n",
    "    time = toc();\n",
    "endfunction"
   ]
  },
  {
   "cell_type": "code",
   "execution_count": 2,
   "id": "constitutional-gross",
   "metadata": {},
   "outputs": [],
   "source": [
    "maximum = 11;\n",
    "\n",
    "for i = 1:maximum;\n",
    "    n = 2^i;\n",
    "    m = 1:n;\n",
    "    \n",
    "    A{1} = m + m';\n",
    "    A{2} = m + (m.^2)';\n",
    "    A{3} = sqrt(m .* m' + m + 1);\n",
    "    A{4} = -max(3 - abs(m - m'), 0);\n",
    "    A{5} = sparse(A{4});\n",
    "    \n",
    "    for j = 1:5\n",
    "        time(i, j) = timer(A{j});\n",
    "    endfor\n",
    "    \n",
    "endfor"
   ]
  },
  {
   "cell_type": "code",
   "execution_count": 7,
   "id": "marked-edwards",
   "metadata": {},
   "outputs": [
    {
     "data": {
      "image/png": "[encoded data removed]",
      "text/plain": [
       "<IPython.core.display.Image object>"
      ]
     },
     "metadata": {},
     "output_type": "display_data"
    }
   ],
   "source": [
    "x = 2.^[1:maximum];\n",
    "loglog(x, time);\n",
    "legend show\n",
    "legend boxoff "
   ]
  },
  {
   "cell_type": "code",
   "execution_count": null,
   "id": "dried-chest",
   "metadata": {},
   "outputs": [],
   "source": []
  }
 ],
 "metadata": {
  "kernelspec": {
   "display_name": "Octave",
   "language": "octave",
   "name": "octave"
  },
  "language_info": {
   "file_extension": ".m",
   "help_links": [
    {
     "text": "GNU Octave",
     "url": "https://www.gnu.org/software/octave/support.html"
    },
    {
     "text": "Octave Kernel",
     "url": "https://github.com/Calysto/octave_kernel"
    },
    {
     "text": "MetaKernel Magics",
     "url": "https://metakernel.readthedocs.io/en/latest/source/README.html"
    }
   ],
   "mimetype": "text/x-octave",
   "name": "octave",
   "version": "5.2.0"
  }
 },
 "nbformat": 4,
 "nbformat_minor": 5
}
