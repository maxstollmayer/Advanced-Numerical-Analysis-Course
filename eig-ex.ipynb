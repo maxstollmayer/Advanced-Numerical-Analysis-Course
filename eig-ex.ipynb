{
 "cells": [
  {
   "cell_type": "markdown",
   "id": "clinical-christianity",
   "metadata": {},
   "source": [
    "# Advanced Numerical Analysis\n",
    "## Eigenvalue Problems"
   ]
  },
  {
   "cell_type": "markdown",
   "id": "facial-interim",
   "metadata": {},
   "source": [
    "### Exercise 2\n",
    "Compute for $n= 2^l$ ($l= 1$ until the largest possible integer where the problem fits into the memory) the eigenvalues of the $n\\times n$ matrix $A$ with entries\n",
    "1. $A_{ik} = i+k$\n",
    "2. $A_{ik} = i+k^2$\n",
    "3. $A_{ik} = \\sqrt{ik+i+1}$\n",
    "4. $A_{ik} = -\\max(3-|i-k|,0)$ in full representation\n",
    "5. $A_{ik} = -\\max(3-|i-k|,0)$ in sparse representation\n",
    "\n",
    "Measure time with `tic;lam=eig(A);tim(l,fall)=toc` in cases 1. - 4. and in case 5. with `tic;lam=eigs(A);tim(l,4)=toc`.\n",
    "\n",
    "Plot the times with `loglog` in the same diagram. Interpret the findings."
   ]
  },
  {
   "cell_type": "code",
   "execution_count": null,
   "id": "metric-digit",
   "metadata": {},
   "outputs": [],
   "source": []
  }
 ],
 "metadata": {
  "kernelspec": {
   "display_name": "Octave",
   "language": "octave",
   "name": "octave"
  },
  "language_info": {
   "file_extension": ".m",
   "help_links": [
    {
     "text": "GNU Octave",
     "url": "https://www.gnu.org/software/octave/support.html"
    },
    {
     "text": "Octave Kernel",
     "url": "https://github.com/Calysto/octave_kernel"
    },
    {
     "text": "MetaKernel Magics",
     "url": "https://metakernel.readthedocs.io/en/latest/source/README.html"
    }
   ],
   "mimetype": "text/x-octave",
   "name": "octave",
   "version": "5.2.0"
  }
 },
 "nbformat": 4,
 "nbformat_minor": 5
}
