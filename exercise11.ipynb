{
 "cells": [
  {
   "cell_type": "markdown",
   "id": "spread-artist",
   "metadata": {},
   "source": [
    "# Advanced Numerical Analysis"
   ]
  },
  {
   "cell_type": "markdown",
   "id": "indian-protocol",
   "metadata": {},
   "source": [
    "## Exercise 11"
   ]
  },
  {
   "cell_type": "markdown",
   "id": "filled-environment",
   "metadata": {},
   "source": [
    "$(\\textrm{i})\\quad$ *Suppose that* $A$ *is an invertible matrix with permuted triangular factorization* $PA=LU$ *where* $P$ *is a permutation matrix,* $L$ *is lower triangular, and* $U$ *is upper triangular. Show that the following block matrix factorization holds.*\n",
    "\n",
    "$$\\begin{pmatrix} A & B \\\\ C & D \\end{pmatrix}\n",
    "=\n",
    "\\begin{pmatrix} P^{-1} & 0 \\\\ 0 & I \\end{pmatrix}\n",
    "\\begin{pmatrix} L & 0 \\\\ CU^{-1} & I \\end{pmatrix}\n",
    "\\begin{pmatrix} U & L^{-1}PB \\\\ 0 & D-CA^{-1}B \\end{pmatrix}$$"
   ]
  },
  {
   "cell_type": "markdown",
   "id": "informed-approval",
   "metadata": {},
   "source": [
    "Multiplying the factorization matrices and simplifying yields the original matrix.\n",
    "\n",
    "$$\\begin{align*}\n",
    "\\begin{pmatrix} P^{-1} & 0 \\\\ 0 & I \\end{pmatrix}\n",
    "\\begin{pmatrix} L & 0 \\\\ CU^{-1} & I \\end{pmatrix}\n",
    "\\begin{pmatrix} U & L^{-1}PB \\\\ 0 & D-CA^{-1}B \\end{pmatrix}\n",
    "&=\n",
    "\\begin{pmatrix} P^{-1}L & 0 \\\\ CU^{-1} & I \\end{pmatrix}\n",
    "\\begin{pmatrix} U & L^{-1}PB \\\\ 0 & D-CA^{-1}B \\end{pmatrix} \\\\\n",
    "&=\n",
    "\\begin{pmatrix} P^{-1}LU & P^{-1}LL^{-1}PB \\\\ CU^{-1}U & CU^{-1}L^{-1}PB+D-CA^{-1}B \\end{pmatrix} \\\\\n",
    "&=\n",
    "\\begin{pmatrix} A & P^{-1}PB \\\\ C & CA^{-1}B+D-CA^{-1}B \\end{pmatrix} \\\\\n",
    "&=\n",
    "\\begin{pmatrix} A & B \\\\ C & D \\end{pmatrix} \\\\\n",
    "\\end{align*}$$"
   ]
  },
  {
   "cell_type": "markdown",
   "id": "italic-health",
   "metadata": {},
   "source": [
    "$(\\textrm{ii})\\quad$ *Use Laplace expansions to deduce from* $(\\textrm{i})$ *that* $\\det \\big(\\begin{smallmatrix} A & B \\\\ C & D \\end{smallmatrix}\\big) = \\det A \\det(D-CA^{-1}B)$ if $\\det A \\ne 0.$"
   ]
  },
  {
   "cell_type": "markdown",
   "id": "textile-submission",
   "metadata": {},
   "source": [
    "$A$ has an LU decomposition since $\\det A \\ne 0.$ Using the multiplicity of the determinant on the factorization from above gives us the following.\n",
    "\n",
    "$$\\det\\begin{pmatrix} A & B \\\\ C & D \\end{pmatrix} =\n",
    "\\det \\begin{pmatrix} P^{-1} & 0 \\\\ 0 & I \\end{pmatrix}\n",
    "\\det \\begin{pmatrix} L & 0 \\\\ CU^{-1} & I \\end{pmatrix}\n",
    "\\det \\begin{pmatrix} U & L^{-1}PB \\\\ 0 & D-CA^{-1}B \\end{pmatrix}$$\n",
    "\n",
    "$$\\det \\begin{pmatrix} P^{-1} & 0 \\\\ 0 & I \\end{pmatrix} = \\det P^{-1} \\det I + 0\\cdot \\dots - 0 \\cdot \\dots = \\det P^{-1}$$\n",
    "\n",
    "$$\\det \\begin{pmatrix} L & 0 \\\\ CU^{-1} & I \\end{pmatrix} = \\det L \\det I + 0\\cdot \\dots - 0 \\cdot \\dots = \\det L$$\n",
    "\n",
    "$$\\det \\begin{pmatrix} U & L^{-1}PB \\\\ 0 & D-CA^{-1}B \\end{pmatrix} = \\det U \\det(D-CA^{-1}B) + 0\\cdot \\dots - 0 \\cdot \\dots$$\n",
    "\n",
    "$$\\Rightarrow \\det\\begin{pmatrix} A & B \\\\ C & D \\end{pmatrix} = \\det P^{-1} \\det L \\det U \\det(D-CA^{-1}B) = \\det(P^{-1}LU)\\det(D-CA^{-1}B) = \\det A \\det(D-CA^{-1}B)$$"
   ]
  },
  {
   "cell_type": "markdown",
   "id": "alternate-tuning",
   "metadata": {},
   "source": [
    "$(\\textrm{iii})\\quad$ *Deduce from* $(\\textrm{ii})$ *that* $\\det \\big(\\begin{smallmatrix} A & B \\\\ C & D \\end{smallmatrix}\\big) = \\det A \\det D$ *if* $B=0$ *or* $C=0$ *even when* $A$ *is singular.*"
   ]
  },
  {
   "cell_type": "markdown",
   "id": "greatest-proxy",
   "metadata": {},
   "source": [
    "If $B=0$ or $C=0$ and $A$ is not singular then $\\det \\big(\\begin{smallmatrix} A & B \\\\ C & D \\end{smallmatrix}\\big) = \\det A \\det(D-CA^{-1}B) = \\det A \\det D.$ On the other hand if $A$ is singular then $\\det A = 0$ and $\\det \\big(\\begin{smallmatrix} A & B \\\\ C & D \\end{smallmatrix}\\big) = \\det A + 0\\cdot \\dots - 0 \\cdot \\dots = \\det A = 0 = \\det A \\det D.$"
   ]
  },
  {
   "cell_type": "markdown",
   "id": "patient-title",
   "metadata": {},
   "source": [
    "$(\\textrm{iv})\\quad$ *Prove the following identity for block triangular matrices.*\n",
    "\n",
    "$$\\det\\begin{pmatrix}\n",
    "A_{11} & A_{12} & \\cdots & A_{1n} \\\\\n",
    " & A_{22} & \\cdots & A_{2n} \\\\\n",
    " & & \\ddots & \\vdots \\\\\n",
    " & & & A_{nn} \\end{pmatrix}\n",
    "= \\det A_{11} \\det A_{22} \\dots \\det A_{nn}$$"
   ]
  },
  {
   "cell_type": "markdown",
   "id": "legislative-renewal",
   "metadata": {},
   "source": [
    "The result follows iteratively from $(\\textrm{iii}).$\n",
    "\n",
    "$$\\begin{align*}\n",
    "\\det\n",
    "\\begin{pmatrix}\n",
    "A_{11} & A_{12} & \\cdots & A_{1n} \\\\\n",
    " & A_{22} & \\cdots & A_{2n} \\\\\n",
    " & & \\ddots & \\vdots \\\\\n",
    " & & & A_{nn}\n",
    "\\end{pmatrix}\n",
    "&= \\det A_{11}\n",
    "\\det\n",
    "\\begin{pmatrix}\n",
    "A_{22} & \\cdots & A_{2n} \\\\\n",
    "& \\ddots & \\vdots \\\\\n",
    "& & A_{nn}\n",
    "\\end{pmatrix} \\\\\n",
    "&= \\dots = \\det A_{11} \\det A_{22} \\dots \\det A_{nn}\n",
    "\\end{align*}$$"
   ]
  }
 ],
 "metadata": {
  "kernelspec": {
   "display_name": "Octave",
   "language": "octave",
   "name": "octave"
  },
  "language_info": {
   "file_extension": ".m",
   "help_links": [
    {
     "text": "GNU Octave",
     "url": "https://www.gnu.org/software/octave/support.html"
    },
    {
     "text": "Octave Kernel",
     "url": "https://github.com/Calysto/octave_kernel"
    },
    {
     "text": "MetaKernel Magics",
     "url": "https://metakernel.readthedocs.io/en/latest/source/README.html"
    }
   ],
   "mimetype": "text/x-octave",
   "name": "octave",
   "version": "6.2.0"
  }
 },
 "nbformat": 4,
 "nbformat_minor": 5
}
