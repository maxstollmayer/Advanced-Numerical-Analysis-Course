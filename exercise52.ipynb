{
 "cells": [
  {
   "cell_type": "markdown",
   "id": "85974931-ad79-444b-913b-6eff5f48eff0",
   "metadata": {},
   "source": [
    "# Advanced Numerical Analysis\n",
    "\n",
    "## Exercise 52 - Heat flow through a thin strip"
   ]
  },
  {
   "cell_type": "markdown",
   "id": "1b7b1161-b020-4415-b5fa-bdae60b10432",
   "metadata": {},
   "source": [
    "*Heat flow through a thin strip may be modeled by the heat equation* $u_t = c u_{xx}$ *on* $[0, T] \\times [-L, L]$ *with initial conditions* $u(0, x) = u_0(x)$ *for* $x \\in [-L, L]$ *and spatial boundary conditions* $u(t, x) = 0$ *for* $|x| = L.$ *For the numerical examples, let* $c = 1, L = \\pi,$ *and* $T = 10.$"
   ]
  },
  {
   "cell_type": "markdown",
   "id": "987f79e9-a2f0-4db2-b97a-8d0aed7bbcca",
   "metadata": {},
   "source": [
    "$\\textrm{(i)} \\quad$ *Write a program for finding* $u$ *given* $u_0,$ *using the method of lines with constant step size* $h$ *in time and finite differences for the spatial discretization, with constant mesh size* $\\frac{L}{N}.$ *Allow solving the resulting ODE with any of the three half-step methods. In the implicit case (Crank–Nicholson method), use a sparse representation of the linear system.*"
   ]
  },
  {
   "cell_type": "code",
   "execution_count": null,
   "id": "6472d046-7820-4fed-af76-53776a6e743c",
   "metadata": {},
   "outputs": [],
   "source": [
    "function u = solve_heat(c, u0, h, method=1)\n",
    "    \n",
    "endfunction"
   ]
  }
 ],
 "metadata": {
  "kernelspec": {
   "display_name": "Octave",
   "language": "octave",
   "name": "octave"
  },
  "language_info": {
   "file_extension": ".m",
   "help_links": [
    {
     "text": "GNU Octave",
     "url": "https://www.gnu.org/software/octave/support.html"
    },
    {
     "text": "Octave Kernel",
     "url": "https://github.com/Calysto/octave_kernel"
    },
    {
     "text": "MetaKernel Magics",
     "url": "https://metakernel.readthedocs.io/en/latest/source/README.html"
    }
   ],
   "mimetype": "text/x-octave",
   "name": "octave",
   "version": "6.2.0"
  }
 },
 "nbformat": 4,
 "nbformat_minor": 5
}
