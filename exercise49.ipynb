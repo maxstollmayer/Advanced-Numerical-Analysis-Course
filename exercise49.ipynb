{
 "cells": [
  {
   "cell_type": "markdown",
   "id": "023e194d-838e-435a-87eb-0ea527701de7",
   "metadata": {},
   "source": [
    "# Advanced Numerical Analysis\n",
    "\n",
    "## Exercise 49"
   ]
  },
  {
   "cell_type": "markdown",
   "id": "2fb12b79-4511-4dd8-bf92-e447d130fe38",
   "metadata": {},
   "source": [
    "$\\textrm{(i)} \\quad$ *Rewrite the scalar linear second order differential operator* $L := \\gamma(x) + \\sum_j c_j(x) \\partial_j + \\sum_{j,k} C_{jk}(x) \\partial_j \\partial_k$ *with continuously differentiable functions* $\\gamma, c_j$ *and* $C_{jk} = C_{kj},$ *in divergence form.*"
   ]
  },
  {
   "cell_type": "markdown",
   "id": "883dbab0-2268-4fa7-b3cf-ea01765affa6",
   "metadata": {},
   "source": [
    "We say a scalar linear second order differential operator is in divergence form if there are $G_{jk}, b_j$ and $a$ such that it can be written as $a(x) + \\langle b(x), D \\rangle - \\textrm{div}(G(x) D).$ Now we expand that form and compare coefficients with $L.$\n",
    "\n",
    "$$\\begin{align*}\n",
    "L = \\gamma + \\sum_j c_j \\partial_j + \\sum_{j,k} C_{jk} \\partial_j \\partial_k &= a + \\langle b, D \\rangle - \\textrm{div}(G D) \\\\\n",
    "&= a + \\sum_j b_j \\partial_j - \\sum_j \\partial_j \\bigg( \\sum_k G_{jk} \\partial_k \\bigg) \\\\\n",
    "&= a + \\sum_j b_j \\partial_j - \\sum_{j,k} \\big( \\partial_j G_{jk} \\partial_k + G_{jk} \\partial_j \\partial_k \\big) \\\\\n",
    "&= a + \\sum_j b_j \\partial_j - \\sum_k \\bigg( \\sum_j \\partial_j G_{jk} \\bigg) \\partial_k - \\sum_{j,k} G_{jk} \\partial_j \\partial_k \\\\\n",
    "&= a + \\sum_j \\bigg( b_j - \\sum_k \\partial_k G_{kj} \\bigg) \\partial_j + \\sum_{j,k} \\big(-G_{jk}\\big) \\partial_j \\partial_k \\\\\n",
    "\\end{align*}$$\n",
    "\n",
    "Thus we obtain the equations\n",
    "$$\\begin{cases}\n",
    "a = \\gamma \\\\\n",
    "b_j - \\sum_k \\partial_k G_{kj} = c_j \\\\\n",
    "-G_{jk} = C_{jk}.\n",
    "\\end{cases}$$\n",
    "\n",
    "Choosing $a = \\gamma, G_{jk} = -C_{jk}$ and $b_j = c_j - \\sum_k \\partial_k C_{jk}$ then $L$ can be written in divergence form."
   ]
  },
  {
   "cell_type": "markdown",
   "id": "8d33d91b-e4b2-4ac8-b81e-7cf122b35104",
   "metadata": {},
   "source": [
    "$$ $$\n",
    "$\\textrm{(ii)} \\quad$ *Apply the resulting formula to the Laplacian in polar coordinates* $\\Delta f(r,\\varphi) = f_{rr}(r,\\varphi) + r^{-1} f_r(r,\\varphi) + r^{-2} f_{\\varphi\\varphi}(r,\\varphi).$"
   ]
  },
  {
   "cell_type": "markdown",
   "id": "4b6a2e02-1770-4914-ba8f-9d0d659ae3e7",
   "metadata": {},
   "source": [
    "With $\\gamma \\equiv 0, c = \\big(\\begin{smallmatrix} r^{-1} \\\\ 0 \\end{smallmatrix}\\big)$ and $C = \\big(\\begin{smallmatrix} 1 & 0 \\\\ 0 & r^{-2} \\end{smallmatrix}\\big)$ the Laplacian can be written in the given form of $L$ from above. Therefore $\\Delta f = \\big(\\begin{smallmatrix} r^{-1} \\\\ 0 \\end{smallmatrix}\\big) Df - \\textrm{div} \\bigg( \\big(\\begin{smallmatrix} -1 & 0 \\\\ 0 & -r^{-2} \\end{smallmatrix}\\big) Df \\bigg)$ is the divergence form of the Laplacian."
   ]
  }
 ],
 "metadata": {
  "kernelspec": {
   "display_name": "Octave",
   "language": "octave",
   "name": "octave"
  },
  "language_info": {
   "file_extension": ".m",
   "help_links": [
    {
     "text": "GNU Octave",
     "url": "https://www.gnu.org/software/octave/support.html"
    },
    {
     "text": "Octave Kernel",
     "url": "https://github.com/Calysto/octave_kernel"
    },
    {
     "text": "MetaKernel Magics",
     "url": "https://metakernel.readthedocs.io/en/latest/source/README.html"
    }
   ],
   "mimetype": "text/x-octave",
   "name": "octave",
   "version": "6.2.0"
  }
 },
 "nbformat": 4,
 "nbformat_minor": 5
}
