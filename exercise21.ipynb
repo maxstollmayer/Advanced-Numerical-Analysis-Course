{
 "cells": [
  {
   "cell_type": "markdown",
   "id": "aaec95c3",
   "metadata": {},
   "source": [
    "# Advanced Numerical Analysis"
   ]
  },
  {
   "cell_type": "markdown",
   "id": "6e4bf3c9",
   "metadata": {},
   "source": [
    "## Exercise 21"
   ]
  },
  {
   "cell_type": "markdown",
   "id": "13803d8c",
   "metadata": {},
   "source": [
    "*Prove that each Gershgorin circle of a* $2\\times 2$ *real symmetric matrix contains at least one eigenvalue. Find an example of a* $3\\times 3$ *real symmetric matrix where some Gershgorin circle contains no eigenvalue.*"
   ]
  },
  {
   "cell_type": "markdown",
   "id": "53dec574",
   "metadata": {},
   "source": [
    "Let $A = \\big(\\begin{smallmatrix} a_1 & a_3 \\\\ a_3 & a_2 \\end{smallmatrix}\\big)$ for $a_1, a_2, a_3 \\in \\mathbb{R}.$ Then $A$ is symmetric and has the real eigenvalues $\\lambda_{1,2} = \\frac{1}{2} \\big( a_1 + a_2 \\pm \\sqrt{(a_1 - a_2)^2 + 4a_3^2} \\big)$ and Gershgorin circles $C_1 = \\{z\\in\\mathbb{C} : |z-\\max\\{a_1, a_2\\}| \\le |a_3|\\}$ and $C_2 = \\{z\\in\\mathbb{C} : |z-\\min\\{a_1, a_2\\}| \\le |a_3|\\}.$ Then\n",
    "\n",
    "$\\lambda_1 \\le \\frac{1}{2} \\big( a_1 + a_2 + |a_1 - a_2| + 2 |a_3| \\big) = \\max\\{a_1, a_2\\} + |a_3| \\Rightarrow \\lambda_1 \\ge \\max\\{a_1, a_2\\}$\n",
    "\n",
    "$\\lambda_2 \\ge \\frac{1}{2} \\big( a_1 + a_2 - |a_1 - a_2| - 2 |a_3| \\big) = \\min\\{a_1, a_2\\} - |a_3| \\Rightarrow \\lambda_2 \\le \\min\\{a_1, a_2\\}$\n",
    "\n",
    "$\\Rightarrow \\lambda_1 \\in C_1$ and $\\lambda_2 \\in C_2.$"
   ]
  },
  {
   "cell_type": "markdown",
   "id": "07093daa",
   "metadata": {},
   "source": [
    "The following plots Gershgorin circles and eigenvalues of a random $2 \\times 2$ matrix with uniformly sampled entries from $(-1, 1).$"
   ]
  },
  {
   "cell_type": "code",
   "execution_count": 8,
   "id": "a569425c",
   "metadata": {},
   "outputs": [],
   "source": [
    "function plot_Gershgorin(A)\n",
    "    % A ... any n by n matrix with complex entries\n",
    "    % plots Gershgorin circles and eigenvalues in the complex plane\n",
    "    \n",
    "    hold on\n",
    "    \n",
    "    % plotting eigenvalues\n",
    "    eigenvalues = eig(A);\n",
    "    scatter(eigenvalues, zeros(length(A), 1), \"linewidth\", 25);\n",
    "    \n",
    "    % plotting Gershgoring circles\n",
    "    centers = diag(A);\n",
    "    radii = sum(abs(A), dim=2) - abs(centers);\n",
    "    t = linspace(0, 2*pi, 100);\n",
    "    for i=1:length(A)\n",
    "        circle_x = radii(i) .* cos(t) + real(centers(i));\n",
    "        circle_y = radii(i) .* sin(t) + imag(centers(i));\n",
    "        plot(circle_x, circle_y, \"linewidth\", 5);\n",
    "    endfor\n",
    "    \n",
    "    title(\"Gershgorin circles and eigenvalues\");\n",
    "    xlabel(\"Real axis\");\n",
    "    ylabel(\"Imaginary axis\");\n",
    "    \n",
    "endfunction"
   ]
  },
  {
   "cell_type": "code",
   "execution_count": 9,
   "id": "a82e1f61",
   "metadata": {},
   "outputs": [
    {
     "data": {
      "image/png": "[encoded data removed]",
      "text/plain": [
       "<IPython.core.display.Image object>"
      ]
     },
     "metadata": {},
     "output_type": "display_data"
    }
   ],
   "source": [
    "%plot -s 1280,720\n",
    "diagonal = 2 * rand(2, 1) - 1;\n",
    "corner = 2 * rand() - 1;\n",
    "A = diag(diagonal) + diag(corner, -1) + diag(corner, 1);\n",
    "plot_Gershgorin(A)"
   ]
  },
  {
   "cell_type": "markdown",
   "id": "0181d8d9",
   "metadata": {},
   "source": [
    "To find a real symmetric $3 \\times 3$ matrix which has a Gershgorin circle that does not contain an eigenvalue I tried two different brute force approaches. The first one exhaustes every matrix with integer entries up to a maximum value and the second tries random matrices with entries uniformly sampled in a given interval.\n",
    "\n",
    "Neither variant found such a matrix."
   ]
  },
  {
   "cell_type": "code",
   "execution_count": 3,
   "id": "1f8d814b",
   "metadata": {},
   "outputs": [],
   "source": [
    "function found = brute_force(limit)\n",
    "    range = -limit : limit;\n",
    "    for d1 = range\n",
    "        for d2 = range\n",
    "            for d3 = range\n",
    "                for a1 = range\n",
    "                    for a2 = range\n",
    "                        for b = range\n",
    "                        \n",
    "                            A = [[d1 a1 b];[a1 d2 a2];[b a2 d3]];\n",
    "                            eigenvalues = eig(A);\n",
    "                            centers = diag(A);\n",
    "                            radii = sum(abs(A), dim=2) - abs(centers);\n",
    "\n",
    "                            for i = 1:3\n",
    "                                if all(abs(eigenvalues - centers(i)) > radii(i))\n",
    "                                    found = A;\n",
    "                                    return\n",
    "                                endif\n",
    "                            endfor\n",
    "                            \n",
    "                        endfor\n",
    "                    endfor\n",
    "                endfor\n",
    "            endfor\n",
    "        endfor\n",
    "    endfor\n",
    "\n",
    "    printf(\"No matrix was found with integer entries in {-%d,...,%d}.\", limit, limit)\n",
    "endfunction"
   ]
  },
  {
   "cell_type": "code",
   "execution_count": 4,
   "id": "7537b406",
   "metadata": {},
   "outputs": [
    {
     "name": "stdout",
     "output_type": "stream",
     "text": [
      "No matrix was found with integer entries in {-4,...,4}."
     ]
    }
   ],
   "source": [
    "brute_force(4)"
   ]
  },
  {
   "cell_type": "code",
   "execution_count": 5,
   "id": "b223903b",
   "metadata": {},
   "outputs": [],
   "source": [
    "function found = brute_force_rand(limit, max_iterations=10000)\n",
    "    for _ = 1 : max_iterations\n",
    "        diagonal = limit * (2 * rand(3, 1) - 1);\n",
    "        middle = limit * (2 * rand(1, 2) - 1);\n",
    "        corner = limit * (2 * rand() - 1);\n",
    "        A = diag(diagonal) + diag(middle, 1) + diag(middle, -1) + diag(corner, 2) + diag(corner, -2);\n",
    "\n",
    "        eigenvalues = eig(A);\n",
    "        centers = diag(A);\n",
    "        radii = sum(abs(A), dim=2) - abs(centers);\n",
    "\n",
    "        for i = 1:3\n",
    "            if all(abs(eigenvalues - centers(i)) > radii(i))\n",
    "                found = A;\n",
    "                return\n",
    "            endif\n",
    "        endfor\n",
    "    endfor\n",
    "    printf(\"No matrix was found with random entries in (-%d, %d) in %d iterations.\", limit, limit, max_iterations)\n",
    "endfunction"
   ]
  },
  {
   "cell_type": "code",
   "execution_count": 6,
   "id": "8a098449",
   "metadata": {},
   "outputs": [
    {
     "name": "stdout",
     "output_type": "stream",
     "text": [
      "No matrix was found with random entries in (-10, 10) in 100000 iterations."
     ]
    }
   ],
   "source": [
    "brute_force_rand(10, 100000)"
   ]
  }
 ],
 "metadata": {
  "kernelspec": {
   "display_name": "Octave",
   "language": "octave",
   "name": "octave"
  },
  "language_info": {
   "file_extension": ".m",
   "help_links": [
    {
     "text": "GNU Octave",
     "url": "https://www.gnu.org/software/octave/support.html"
    },
    {
     "text": "Octave Kernel",
     "url": "https://github.com/Calysto/octave_kernel"
    },
    {
     "text": "MetaKernel Magics",
     "url": "https://metakernel.readthedocs.io/en/latest/source/README.html"
    }
   ],
   "mimetype": "text/x-octave",
   "name": "octave",
   "version": "6.2.0"
  }
 },
 "nbformat": 4,
 "nbformat_minor": 5
}
