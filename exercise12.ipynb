{
 "cells": [
  {
   "cell_type": "markdown",
   "metadata": {},
   "source": [
    "# Advanced Numerical Analysis"
   ]
  },
  {
   "cell_type": "markdown",
   "metadata": {},
   "source": [
    "## Exercise 12\n",
    "_Let_ $A\\in\\mathbb{C}^{n\\times n}$ _and_ $u,v\\in\\mathbb{C}^n.$"
   ]
  },
  {
   "cell_type": "markdown",
   "metadata": {},
   "source": [
    "$(\\textrm{i})\\quad$ _Use exercise 11(ii) to show that_ $\\det(A-u v^*) = (1-v^* A^{-1}u)\\det(A)$ if $A$ _is nonsingular._"
   ]
  },
  {
   "cell_type": "markdown",
   "metadata": {},
   "source": []
  },
  {
   "cell_type": "markdown",
   "metadata": {},
   "source": [
    "$(\\textrm{ii})\\quad$ _Show that if_ $u$ _is not an eigenvector of_ $A$ _then the eigenvalues of the rank 1 modification_ $A-uv^*$ _are precisely the solutions of the equation_ $v^* (A-\\lambda I)^{-1}u=1.$"
   ]
  },
  {
   "cell_type": "markdown",
   "metadata": {},
   "source": []
  }
 ],
 "metadata": {
  "kernelspec": {
   "display_name": "Python 3",
   "language": "python",
   "name": "python3"
  },
  "language_info": {
   "codemirror_mode": {
    "name": "ipython",
    "version": 3
   },
   "file_extension": ".py",
   "mimetype": "text/x-python",
   "name": "python",
   "nbconvert_exporter": "python",
   "pygments_lexer": "ipython3",
   "version": "3.8.5"
  }
 },
 "nbformat": 4,
 "nbformat_minor": 4
}
