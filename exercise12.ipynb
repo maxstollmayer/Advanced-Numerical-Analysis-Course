{
 "cells": [
  {
   "cell_type": "markdown",
   "metadata": {},
   "source": [
    "# Advanced Numerical Analysis"
   ]
  },
  {
   "cell_type": "markdown",
   "metadata": {},
   "source": [
    "## Exercise 12\n",
    "_Let_ $A\\in\\mathbb{C}^{n\\times n}$ _and_ $u,v\\in\\mathbb{C}^n.$"
   ]
  },
  {
   "cell_type": "markdown",
   "metadata": {},
   "source": [
    "$(\\textrm{i})\\quad$ _Use exercise 11(ii) to show that_ $\\det(A-u v^*) = (1-v^* A^{-1}u)\\det A$ if $A$ _is not singular._"
   ]
  },
  {
   "cell_type": "markdown",
   "metadata": {},
   "source": [
    "$$\\det(A-uv^*) = \\det\\big(A(I-A^{-1}uv^*)\\big) = \\det A \\det(I-A^{-1}uv^*)$$\n",
    "\n",
    "$$\\det(I-A^{-1}uv^*) = \\det \\begin{pmatrix} I-A^{-1}uv^* & A^{-1}u \\\\ 0 & 1 \\end{pmatrix} = \\det \\begin{pmatrix} I & 0 \\\\ v^* & 1 \\end{pmatrix} \\det \\begin{pmatrix} I & A^{-1}u \\\\ 0 & 1-v^*A^{-1}u \\end{pmatrix} \\det \\begin{pmatrix} I & 0 \\\\ -v^* & 1 \\end{pmatrix} = 1 \\cdot (1-v^*A^{-1}u) \\cdot 1 = 1-v^*A^{-1}u$$"
   ]
  },
  {
   "cell_type": "markdown",
   "metadata": {},
   "source": [
    "$(\\textrm{ii})\\quad$ _Show that if_ $u$ _is not an eigenvector of_ $A$ _then the eigenvalues of the rank 1 modification_ $A-uv^*$ _are precisely the solutions of the equation_ $v^* (A-\\lambda I)^{-1}u=1.$"
   ]
  },
  {
   "cell_type": "markdown",
   "metadata": {},
   "source": [
    "If $\\lambda$ is an eigenvalue of $A-uv^*$ but not of $A$ then $A-\\lambda I$ is not singular and\n",
    "\n",
    "$$\\begin{align*}\n",
    "\\det(A-uv^*-\\lambda I) = 0 &\\iff (1-v^*(A-\\lambda I)^{-1}u))\\det(A-\\lambda I) = 0 \\\\\n",
    "&\\iff 1-v^*(A-\\lambda I)^{-1}u) = 0 \\\\\n",
    "&\\iff v^*(A-\\lambda I)^{-1}u) = 1.\n",
    "\\end{align*}$$"
   ]
  }
 ],
 "metadata": {
  "kernelspec": {
   "display_name": "Python 3",
   "language": "python",
   "name": "python3"
  },
  "language_info": {
   "codemirror_mode": {
    "name": "ipython",
    "version": 3
   },
   "file_extension": ".py",
   "mimetype": "text/x-python",
   "name": "python",
   "nbconvert_exporter": "python",
   "pygments_lexer": "ipython3",
   "version": "3.8.8"
  }
 },
 "nbformat": 4,
 "nbformat_minor": 4
}
