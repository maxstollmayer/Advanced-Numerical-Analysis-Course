{
 "cells": [
  {
   "cell_type": "markdown",
   "id": "amazing-teddy",
   "metadata": {},
   "source": [
    "# Advanced Numerical Analysis"
   ]
  },
  {
   "cell_type": "markdown",
   "id": "incomplete-spray",
   "metadata": {},
   "source": [
    "## Exercise 14"
   ]
  },
  {
   "cell_type": "markdown",
   "id": "white-specialist",
   "metadata": {},
   "source": [
    "*Write a Matlab program for determining eigenpairs by using inverse iteration with a fixed shift. Test your program by computing all eigenpairs of the matrix*\n",
    "\n",
    "$$ A =\n",
    "\\begin{pmatrix}\n",
    "-4 & 10 &  8 \\\\\n",
    "10 & -7 & -2 \\\\\n",
    " 8 & -2 &  3\n",
    "\\end{pmatrix}.$$\n",
    "\n",
    "*Take as shifts the approximations found by* `eig(A)` *and display the results after each\n",
    "iteration.*"
   ]
  },
  {
   "cell_type": "code",
   "execution_count": 5,
   "id": "listed-makeup",
   "metadata": {},
   "outputs": [],
   "source": [
    "function [shift, x] = inverse_iteration(A, B, shift_0, x_0, print=false, max_iterations=10, threshold=1e-8, shift_type=\"constant\")\n",
    "                                        \n",
    "    % A, B ......... n by n matrices, G(t) = t B - A\n",
    "    % shift_0 ...... float, \n",
    "    % x_0 .......... n dimensional vector\n",
    "    % type ......... \"constant\", \"quotient\" or \"Rayleigh\"\n",
    "    % iterations ... positive integer\n",
    "    % threshold .... float\n",
    "    % print ........ true or false\n",
    "    % \n",
    "    % returns tuple of float and n dimensional vector as approximation of an eigenpair    \n",
    "    \n",
    "    n = length(x_0);\n",
    "    x = x_0;\n",
    "    \n",
    "    for i = 1:max_iterations\n",
    "        if shift_type == \"constant\"\n",
    "            shift = shift_0;\n",
    "        elseif shift_type == \"quotient\"\n",
    "            [max_value, index] = max(x);\n",
    "            a = zeros(n);\n",
    "            a(index) = 1;\n",
    "            shift = (a' * A * x) / (a' * B * x)\n",
    "        elseif shift_type == \"Rayleigh\"\n",
    "            shift = (x' * A * x) / (x' * B * x);\n",
    "        else\n",
    "            disp(\"Not a valid shift type. Assuming 'constant'.\")\n",
    "            shift = shift_0;\n",
    "        endif\n",
    "        \n",
    "        x_new = (A - shift * B) \\ (B * x);\n",
    "        x_new = x_new / abs(max(x_new));\n",
    "        \n",
    "        if print\n",
    "            printf(\"x_%d  =\", i)\n",
    "            disp(x_new')\n",
    "        endif\n",
    "        \n",
    "        if max(abs(x - x_new)) <= threshold\n",
    "            break\n",
    "        endif\n",
    "        \n",
    "        x = x_new;\n",
    "        \n",
    "    endfor\n",
    "endfunction"
   ]
  },
  {
   "cell_type": "code",
   "execution_count": 6,
   "id": "incorrect-congress",
   "metadata": {
    "scrolled": false
   },
   "outputs": [
    {
     "name": "stdout",
     "output_type": "stream",
     "text": [
      "eigenvalue = -17.893302\n",
      "x_1  =   1.0000   0.7114   0.5934\n",
      "x_2  =   1.0000   0.7996   0.4081\n",
      "x_3  =   1.0000   0.9078   0.1810\n",
      "x_4  =   0.968908   1.000000  -0.077353\n",
      "x_5  =   0.8586   1.0000  -0.3074\n",
      "x_6  =   0.7721   1.0000  -0.4882\n",
      "x_7  =   0.7070   1.0000  -0.6239\n",
      "x_8  =   0.6598   1.0000  -0.7223\n",
      "x_9  =   0.6264   1.0000  -0.7921\n",
      "x_10  =   0.6032   1.0000  -0.8406\n",
      "\n",
      "\n",
      "eigenvalue = 0.424980\n",
      "x_1  =   1.0000   0.3396   0.9466\n",
      "x_2  =   0.8533   0.4712   1.0000\n",
      "x_3  =   0.9502   0.4175   1.0000\n",
      "x_4  =   0.9016   0.4445   1.0000\n",
      "x_5  =   0.9254   0.4313   1.0000\n",
      "x_6  =   0.9136   0.4378   1.0000\n",
      "x_7  =   0.9194   0.4346   1.0000\n",
      "x_8  =   0.9165   0.4362   1.0000\n",
      "x_9  =   0.9179   0.4354   1.0000\n",
      "x_10  =   0.9172   0.4358   1.0000\n",
      "\n",
      "\n",
      "eigenvalue = 9.468322\n",
      "x_1  =  -0.3610  -1.5351   1.0000\n",
      "x_2  =   0.4316   1.0000  -0.8317\n",
      "x_3  =  -0.5650  -1.1055   1.0000\n",
      "x_4  =   0.5394   1.0000  -0.9305\n",
      "x_5  =  -0.5844  -1.0646   1.0000\n",
      "x_6  =   0.5522   1.0000  -0.9423\n",
      "x_7  =  -0.5865  -1.0602   1.0000\n",
      "x_8  =   0.5536   1.0000  -0.9435\n",
      "x_9  =  -0.5868  -1.0597   1.0000\n",
      "x_10  =   0.5537   1.0000  -0.9437\n",
      "\n",
      "\n"
     ]
    }
   ],
   "source": [
    "A = [[-4 10 8]; [10 -7 -2]; [8 -2 3]];\n",
    "B = eye(3);\n",
    "x_0 = [1; 1; 1];\n",
    "\n",
    "for shift_0 = eig(A)'\n",
    "    printf(\"eigenvalue = %f\\n\", shift_0)\n",
    "    inverse_iteration(A, B, shift_0, x_0, print=true);\n",
    "    disp(\"\\n\")\n",
    "endfor"
   ]
  },
  {
   "cell_type": "code",
   "execution_count": null,
   "id": "least-institute",
   "metadata": {},
   "outputs": [],
   "source": []
  }
 ],
 "metadata": {
  "kernelspec": {
   "display_name": "Octave",
   "language": "octave",
   "name": "octave"
  },
  "language_info": {
   "file_extension": ".m",
   "help_links": [
    {
     "text": "GNU Octave",
     "url": "https://www.gnu.org/software/octave/support.html"
    },
    {
     "text": "Octave Kernel",
     "url": "https://github.com/Calysto/octave_kernel"
    },
    {
     "text": "MetaKernel Magics",
     "url": "https://metakernel.readthedocs.io/en/latest/source/README.html"
    }
   ],
   "mimetype": "text/x-octave",
   "name": "octave",
   "version": "6.2.0"
  }
 },
 "nbformat": 4,
 "nbformat_minor": 5
}
