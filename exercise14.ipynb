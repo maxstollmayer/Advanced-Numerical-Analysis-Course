{
 "cells": [
  {
   "cell_type": "markdown",
   "id": "amazing-teddy",
   "metadata": {},
   "source": [
    "# Advanced Numerical Analysis"
   ]
  },
  {
   "cell_type": "markdown",
   "id": "incomplete-spray",
   "metadata": {},
   "source": [
    "## Exercise 14"
   ]
  },
  {
   "cell_type": "markdown",
   "id": "white-specialist",
   "metadata": {},
   "source": [
    "*Write a Matlab program for determining eigenpairs by using inverse iteration with a fixed shift. Test your program by computing all eigenpairs of the matrix*\n",
    "\n",
    "$$ A =\n",
    "\\begin{pmatrix}\n",
    "-4 & 10 &  8 \\\\\n",
    "10 & -7 & -2 \\\\\n",
    " 8 & -2 &  3\n",
    "\\end{pmatrix}.$$\n",
    "\n",
    "*Take as shifts the approximations found by* `eig(A)` *and display the results after each\n",
    "iteration.*"
   ]
  },
  {
   "cell_type": "code",
   "execution_count": 1,
   "id": "listed-makeup",
   "metadata": {},
   "outputs": [],
   "source": [
    "function [shift, x] = inverse_iteration(A, B, shift_0, x_0, print=false, shift_type=\"constant\", max_iterations=10, threshold=1e-8)\n",
    "                                        \n",
    "    % A, B ............. n by n matrices, G(t) = t * B - A\n",
    "    % shift_0 .......... float, starting approximation for an eigenvalue\n",
    "    % x_0 .............. n dimensional vector, starting approximation of an eigenvector\n",
    "    % print ............ bool, if true prints each iteration\n",
    "    % shift_type ....... \"quotient\" or \"Rayleigh\" otherwise assumes a constant shift\n",
    "    % max_iterations ... positive integer, maximum number of iterations\n",
    "    % threshold ........ float, if the difference between consecutive approximation is below this threshold the iteration stops\n",
    "    % \n",
    "    % returns tuple of float and n dimensional vector as approximation of an eigenpair    \n",
    "    \n",
    "    n = length(x_0);\n",
    "    [max_value, index] = max(abs(x_0));\n",
    "    x = x_0 / x_0(index);\n",
    "    shift = shift_0;\n",
    "    \n",
    "    for i = 1:max_iterations\n",
    "        if shift_type == \"quotient\"\n",
    "            a = zeros(n);\n",
    "            a(index) = 1;\n",
    "            shift = (a' * A * x) / (a' * B * x)\n",
    "        elseif shift_type == \"Rayleigh\"\n",
    "            shift = (x' * A * x) / (x' * B * x);\n",
    "        endif\n",
    "        \n",
    "        M = A - shift * B;\n",
    "        b = B * x;\n",
    "        \n",
    "        [L, U, P] = lu(M);\n",
    "        opts1.LT = true;\n",
    "        x_new = linsolve(L, P*b, opts1);\n",
    "        opts2.UT = true;\n",
    "        x_new = linsolve(U, x_new, opts2);\n",
    "                \n",
    "        [max_value, index] = max(abs(x_new));\n",
    "        x_new = x_new / x_new(index);\n",
    "        \n",
    "        if print\n",
    "            printf(\"s_%d = %f, x_%d =\", i, shift, i)\n",
    "            disp(x_new')\n",
    "        endif\n",
    "        \n",
    "        if max(abs(x - x_new)) <= threshold\n",
    "            x = x_new;\n",
    "            break\n",
    "        endif\n",
    "        \n",
    "        x = x_new;\n",
    "        \n",
    "    endfor\n",
    "endfunction"
   ]
  },
  {
   "cell_type": "code",
   "execution_count": 3,
   "id": "incorrect-congress",
   "metadata": {
    "scrolled": false
   },
   "outputs": [
    {
     "name": "stdout",
     "output_type": "stream",
     "text": [
      "eigenvalue = -17.893302, eigenvector =   -0.9941   1.0000   0.4763\n",
      "s_1 = -17.893302, x_1 =  -0.9941   1.0000   0.4763\n",
      "s_2 = -17.893302, x_2 =  -0.9941   1.0000   0.4763\n",
      "\n",
      "\n",
      "eigenvalue = 0.424980, eigenvector =    0.5538   1.0000  -0.9437\n",
      "s_1 = 0.424980, x_1 =   0.5538   1.0000  -0.9437\n",
      "s_2 = 0.424980, x_2 =   0.5538   1.0000  -0.9437\n",
      "\n",
      "\n",
      "eigenvalue = 9.468322, eigenvector =    0.9175   0.4357   1.0000\n",
      "s_1 = 9.468322, x_1 =   0.9175   0.4357   1.0000\n",
      "s_2 = 9.468322, x_2 =   0.9175   0.4357   1.0000\n",
      "\n",
      "\n"
     ]
    }
   ],
   "source": [
    "warning(\"off\") % suppresses warning messages since matrices get very close to being singular\n",
    "\n",
    "A = [[-4 10 8]; [10 -7 -2]; [8 -2 3]];\n",
    "n = length(A);\n",
    "B = eye(n);\n",
    "x_0 = ones(n, 1);\n",
    "[V, Lambda] = eig(A);\n",
    "\n",
    "for i = 1:n\n",
    "    shift_0 = diag(Lambda)(i);\n",
    "    v = V(:, i);\n",
    "    [max_value, index] = max(abs(v));\n",
    "    v = v / v(index);\n",
    "    printf(\"eigenvalue = %f, eigenvector = \", shift_0)\n",
    "    disp(v')\n",
    "    inverse_iteration(A, B, shift_0, x_0, print=true);\n",
    "    disp(\"\\n\")\n",
    "endfor"
   ]
  }
 ],
 "metadata": {
  "kernelspec": {
   "display_name": "Octave",
   "language": "octave",
   "name": "octave"
  },
  "language_info": {
   "file_extension": ".m",
   "help_links": [
    {
     "text": "GNU Octave",
     "url": "https://www.gnu.org/software/octave/support.html"
    },
    {
     "text": "Octave Kernel",
     "url": "https://github.com/Calysto/octave_kernel"
    },
    {
     "text": "MetaKernel Magics",
     "url": "https://metakernel.readthedocs.io/en/latest/source/README.html"
    }
   ],
   "mimetype": "text/x-octave",
   "name": "octave",
   "version": "6.2.0"
  }
 },
 "nbformat": 4,
 "nbformat_minor": 5
}
