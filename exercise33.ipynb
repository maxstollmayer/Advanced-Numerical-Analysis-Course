{
 "cells": [
  {
   "cell_type": "markdown",
   "id": "9b842aa2-eb56-4249-8a3b-1324e14d9c12",
   "metadata": {},
   "source": [
    "# Advanced Numerical Analysis\n",
    "\n",
    "## Exercise 33"
   ]
  },
  {
   "cell_type": "markdown",
   "id": "ddbff00c-610b-4092-a94a-9d14be42b205",
   "metadata": {},
   "source": [
    "*Show that the implicit trapezoidal rule* $y^{i+1} = y^i + \\frac{h_i}{2} \\big( F(y^i) + F(y^{i+1}) \\big)$"
   ]
  },
  {
   "cell_type": "markdown",
   "id": "e1239404-054e-403f-8f98-6ee1b161445e",
   "metadata": {},
   "source": [
    "$\\textrm{(i)} \\quad$ *has order of consistency 2.*"
   ]
  },
  {
   "cell_type": "markdown",
   "id": "e4abae7c-9ff9-4bc4-9518-7aa051a09eaa",
   "metadata": {},
   "source": [
    "Consider a single step $y^1 = y^0 + \\frac{h}{2} \\big( F(y^0) + F(y^1) \\big)$ from $t$ to $t+h,$ where $y^0 = y(t)$ is known exactly. Then the order of the local discretization error can be determined using Taylor expansions.\n",
    "\n",
    "$$\\begin{align*}\n",
    "y(t+h) - y^1 &= y(t+h) - y(t) - \\frac{h}{2} \\big( F(y(t)) + F(y(t+h)) \\big) \\\\\n",
    "&= y(t+h) - y(t) - \\frac{h}{2} \\big( y'(t) + y'(t+h) \\big) \\\\\n",
    "&= y(t) + h y'(t) + \\frac{h^2}{2} y''(t) + \\mathcal{O}(h^3) - y(t) - \\frac{h}{2} \\big( y'(t) + y'(t) + h y''(t) + \\mathcal{O}(h^2) \\big) \\\\\n",
    "&= h y'(t) + \\frac{h^2}{2} y''(t) - h y'(t) - \\frac{h^2}{2} y''(t) + \\mathcal{O}(h^3) \\\\\n",
    "&= \\mathcal{O}(h^3) \\\\\n",
    "\\end{align*}$$\n",
    "\n",
    "Therefore we conclude that the implicit trapezoidal rule is consistent of order 2."
   ]
  },
  {
   "cell_type": "markdown",
   "id": "2e7f7836-06a2-4253-8970-f841a2e5ba56",
   "metadata": {},
   "source": [
    "$$ $$\n",
    "$\\textrm{(ii)} \\quad$ *is A-stable.*"
   ]
  },
  {
   "cell_type": "markdown",
   "id": "e0839b85-cb99-4953-a907-00cf48327097",
   "metadata": {},
   "source": [
    "Consider $y' = \\lambda y$ for $\\textrm{Re}(\\lambda) < 0.$ The implicit trapezoidal rule ..\n",
    "\n",
    "$$\\begin{align*}\n",
    "y^{i+1} = y^i + \\frac{h_i}{2} \\big( F(y^i) + F(y^{i+1}) \\big) &\\iff y^{i+1} = y^i + \\frac{h_i}{2} \\big( \\lambda y^i + \\lambda y^{i+1} \\big) \\\\\n",
    "&\\iff (1 - \\frac{h \\lambda}{2}) y^{i+1} = (1 + \\frac{h \\lambda}{2}) y^i \\\\\n",
    "&\\iff y^{i+1} = \\frac{2 + h \\lambda}{2 - h \\lambda} y^i\n",
    "\\end{align*}$$\n",
    "\n",
    "Thus the region of stability is $\\mathcal{S} = \\{ z \\in \\mathbb{C} \\ : \\ \\big| \\frac{2 + h z}{2 - h z} \\big| \\le 1 \\},$ which contains the left half plane. The implicit trapezoidal rule is therefore A-stable."
   ]
  },
  {
   "cell_type": "markdown",
   "id": "5a37867f-c8af-4bb4-a526-2e5c706257fb",
   "metadata": {},
   "source": [
    "$$ $$\n",
    "$\\textrm{(iii)} \\quad$ *is not B-stable.*"
   ]
  },
  {
   "cell_type": "markdown",
   "id": "31a9cbfc-4e1e-4728-91ee-2cf5c8fa38a3",
   "metadata": {},
   "source": [
    "to be solved..."
   ]
  }
 ],
 "metadata": {
  "kernelspec": {
   "display_name": "Octave",
   "language": "octave",
   "name": "octave"
  },
  "language_info": {
   "file_extension": ".m",
   "help_links": [
    {
     "text": "GNU Octave",
     "url": "https://www.gnu.org/software/octave/support.html"
    },
    {
     "text": "Octave Kernel",
     "url": "https://github.com/Calysto/octave_kernel"
    },
    {
     "text": "MetaKernel Magics",
     "url": "https://metakernel.readthedocs.io/en/latest/source/README.html"
    }
   ],
   "mimetype": "text/x-octave",
   "name": "octave",
   "version": "6.2.0"
  }
 },
 "nbformat": 4,
 "nbformat_minor": 5
}
