{
 "cells": [
  {
   "cell_type": "markdown",
   "id": "9dd6a605-4347-4c52-bfc2-537b60b31af9",
   "metadata": {},
   "source": [
    "# Advanced Numerical Analysis\n",
    "\n",
    "## Exercise 40"
   ]
  },
  {
   "cell_type": "markdown",
   "id": "1153f3a7-e86a-4bb2-9db2-f7eb197b2b6a",
   "metadata": {},
   "source": [
    "*Determine the Fourier series of the following* $2 \\pi$*-periodic functions and verify that their decay behavior corresponds to their degree of smoothness.*"
   ]
  },
  {
   "cell_type": "markdown",
   "id": "e812f33a-a63b-47e5-b0f5-542091ce1882",
   "metadata": {},
   "source": [
    "$\\textrm{(i)} \\quad$ *commutated sine function* $f_1(x) := |\\sin(x)|$"
   ]
  },
  {
   "cell_type": "markdown",
   "id": "c96cfadd-e20b-41d3-9505-7aa9cdb5f875",
   "metadata": {},
   "source": []
  },
  {
   "cell_type": "markdown",
   "id": "e36e2381-1495-44df-97f9-70edc7536a25",
   "metadata": {},
   "source": [
    "$$ $$\n",
    "$\\textrm{(ii)} \\quad$ *rectified sine function* $f_2(x) := \\begin{cases} sin(x) & \\textrm{ for } 0 \\le x \\le \\pi \\\\ 0 & \\textrm{ for } \\pi < x \\le 2 \\pi \\end{cases}$"
   ]
  },
  {
   "cell_type": "markdown",
   "id": "7e9a0bd5-dd7d-4218-ac1a-85acfc9550d5",
   "metadata": {},
   "source": []
  },
  {
   "cell_type": "markdown",
   "id": "fe751108-ab5d-4358-bdb7-90b005ea5aaa",
   "metadata": {},
   "source": [
    "$$ $$\n",
    "$\\textrm{(iii)} \\quad$ *square wave function* $f_3(x) := \\begin{cases} \\phantom{-}1 & \\textrm{ for } 0 \\le x \\le \\pi \\\\ -1 & \\textrm{ for } \\pi < x \\le 2 \\pi \\end{cases}$"
   ]
  },
  {
   "cell_type": "markdown",
   "id": "be49034c-7bcb-4e67-8adb-797230ea2c69",
   "metadata": {},
   "source": []
  },
  {
   "cell_type": "markdown",
   "id": "a1d8f994-171e-4b40-b4f5-4ad65c4dcd2e",
   "metadata": {},
   "source": [
    "$$ $$\n",
    "$\\textrm{(iv)} \\quad$ *sawtooth function* $f_4(x) := x - \\pi \\textrm{ for } 0 \\le x < 2 \\pi$"
   ]
  },
  {
   "cell_type": "markdown",
   "id": "fbaecaa5-edb4-4e13-b140-0992d70fab8f",
   "metadata": {},
   "source": []
  }
 ],
 "metadata": {
  "kernelspec": {
   "display_name": "Octave",
   "language": "octave",
   "name": "octave"
  },
  "language_info": {
   "file_extension": ".m",
   "help_links": [
    {
     "text": "GNU Octave",
     "url": "https://www.gnu.org/software/octave/support.html"
    },
    {
     "text": "Octave Kernel",
     "url": "https://github.com/Calysto/octave_kernel"
    },
    {
     "text": "MetaKernel Magics",
     "url": "https://metakernel.readthedocs.io/en/latest/source/README.html"
    }
   ],
   "mimetype": "text/x-octave",
   "name": "octave",
   "version": "6.2.0"
  }
 },
 "nbformat": 4,
 "nbformat_minor": 5
}
