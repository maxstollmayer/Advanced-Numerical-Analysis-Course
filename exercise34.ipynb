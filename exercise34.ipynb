{
 "cells": [
  {
   "cell_type": "markdown",
   "id": "07f2eb45-5e73-4641-81f0-4dd7ce460a41",
   "metadata": {},
   "source": [
    "# Advanced Numerical Analysis\n",
    "\n",
    "## Exercise 34"
   ]
  },
  {
   "cell_type": "code",
   "execution_count": null,
   "id": "00e7c68a-50ea-4698-87ad-73060ad5d187",
   "metadata": {},
   "outputs": [],
   "source": []
  }
 ],
 "metadata": {
  "kernelspec": {
   "display_name": "Octave",
   "language": "octave",
   "name": "octave"
  },
  "language_info": {
   "file_extension": ".m",
   "help_links": [
    {
     "text": "GNU Octave",
     "url": "https://www.gnu.org/software/octave/support.html"
    },
    {
     "text": "Octave Kernel",
     "url": "https://github.com/Calysto/octave_kernel"
    },
    {
     "text": "MetaKernel Magics",
     "url": "https://metakernel.readthedocs.io/en/latest/source/README.html"
    }
   ],
   "mimetype": "text/x-octave",
   "name": "octave",
   "version": "6.2.0"
  }
 },
 "nbformat": 4,
 "nbformat_minor": 5
}
