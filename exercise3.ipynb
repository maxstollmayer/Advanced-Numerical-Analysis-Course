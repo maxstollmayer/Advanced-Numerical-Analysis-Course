{
 "cells": [
  {
   "cell_type": "markdown",
   "id": "clinical-christianity",
   "metadata": {},
   "source": [
    "# Advanced Numerical Analysis"
   ]
  },
  {
   "cell_type": "markdown",
   "id": "referenced-assist",
   "metadata": {},
   "source": [
    "## Exercise 3"
   ]
  },
  {
   "cell_type": "markdown",
   "id": "designed-municipality",
   "metadata": {},
   "source": [
    "_The reflection_ $S(u)$ _is defined by_ $S(u):=I-\\gamma u u^*$ for $\\gamma:=\\frac{2}{u^* u},$ where $u\\ne0$ _is an_ $n$_-dimensional vector._\n",
    "\n",
    "$(\\textrm{i})\\quad$ _Give transformation formulae from which, for a given matrix_ $A\\in\\mathbb{C}^{n\\times n}$ _and a vector_ $u\\in\\mathbb{C}^n\\setminus \\{0\\},$ _the transformed matrix_ $S(u)AS^{-1}(u)$ _may be calculated with the smallest possible computational cost. Count the number of operations which are required, correct to leading order._"
   ]
  },
  {
   "cell_type": "markdown",
   "id": "adapted-shelter",
   "metadata": {},
   "source": [
    "Instead of calculating $S(u)$ and doing the matrix multiplications we apply the reflection to each column of $A$ and then to each row of $S(u)A.$ $\\gamma$ uses $2n$ operations. Let $x$ be a column vector, then $S(u)x = x - (\\gamma u^*x) u$ is $6n$ flops. Similarly for a row vector $y^\\top,\\ y^\\top S(u) = y^\\top - (\\gamma y^\\top u) u^*$ is also $6n$ flops. Applying those to first each column and then to each row of $A$ leaves us with a total of $12n^2$ flops. Just the matrix multiplication of the naive approach would already cost $4n^3-2n^2$ flops."
   ]
  },
  {
   "cell_type": "markdown",
   "id": "roman-vehicle",
   "metadata": {},
   "source": [
    "$(\\textrm{ii})\\quad$ _Write a program that implements the transformation in_ $(\\textrm{i})$ _for real_ $A$ _and_ $u.$"
   ]
  },
  {
   "cell_type": "code",
   "execution_count": 1,
   "id": "armed-onion",
   "metadata": {},
   "outputs": [],
   "source": [
    "function T = transform(A, u)\n",
    "    % A: real n by n matrix\n",
    "    % u: real n-dim. non-zero column vector\n",
    "    % returns matrix S*A*S for reflection S about hyperplane normal to u\n",
    "    \n",
    "    gamma_u = 2 / (u' * u) * u;\n",
    "    \n",
    "    % reflection S applied to each column of A\n",
    "    T = A - gamma_u' * A .* u;\n",
    "    \n",
    "    % reflection S applied to each row of S*A\n",
    "    T = T - T * gamma_u .* u';\n",
    "    \n",
    "endfunction"
   ]
  },
  {
   "cell_type": "code",
   "execution_count": 2,
   "id": "behavioral-company",
   "metadata": {},
   "outputs": [
    {
     "name": "stdout",
     "output_type": "stream",
     "text": [
      "Elapsed time is 1.62633 seconds.\n",
      "Elapsed time is 38.0542 seconds.\n"
     ]
    }
   ],
   "source": [
    "n = 10000;\n",
    "u = [1:n]';\n",
    "A = reshape(1:n^2, n, n);\n",
    "\n",
    "% computation time of transformation formulae\n",
    "tic()\n",
    "T1 = transform(A, u);\n",
    "toc()\n",
    "\n",
    "% computation time of naive matrix multiplication\n",
    "tic()\n",
    "S = eye(n) - 2 / (u' * u) * u * u';\n",
    "T2 = S*A*S;\n",
    "toc()"
   ]
  },
  {
   "cell_type": "markdown",
   "id": "national-desire",
   "metadata": {},
   "source": [
    "$(\\textrm{iii})\\quad$ _Use_ $(\\textrm{ii})$ _to find a dense_ $10\\times10$ _matrix which has the eigenvalues_ $1,\\dots,10.$ _Explain why this matrix has the required eigenvalues and check it numerically._"
   ]
  },
  {
   "cell_type": "markdown",
   "id": "prescribed-inspiration",
   "metadata": {},
   "source": [
    "For a matrix $A$ there exists a $u\\in\\mathbb{R}^n$ such that $R=S(u)AS(u)$ is an upper triangular matrix with its eigenvalues on the diagonal. So conversely by applying the transformation for some $u\\in\\mathbb{R}^n\\setminus\\{0\\}$ to the diagonal matrix $D=\\textrm{diag}(1,\\dots,10)$ we get a Hermitian matrix $A$ with eigenvalues $1,\\dots,10$ that is probably dense."
   ]
  },
  {
   "cell_type": "code",
   "execution_count": 3,
   "id": "dramatic-spank",
   "metadata": {},
   "outputs": [
    {
     "name": "stdout",
     "output_type": "stream",
     "text": [
      "A =\n",
      "\n",
      " Columns 1 through 7:\n",
      "\n",
      "   1.071243   0.132096   0.182560   0.222635   0.252319   0.271614   0.280519\n",
      "   0.132096   2.243414   0.333952   0.403711   0.452690   0.480891   0.488312\n",
      "   0.182560   0.333952   3.454174   0.543228   0.601113   0.627829   0.623377\n",
      "   0.222635   0.403711   0.543228   4.641187   0.697588   0.712430   0.685714\n",
      "   0.252319   0.452690   0.601113   0.697588   5.742115   0.734694   0.675325\n",
      "   0.271614   0.480891   0.627829   0.712430   0.734694   6.694620   0.592208\n",
      "   0.280519   0.488312   0.623377   0.685714   0.675325   0.592208   7.436364\n",
      "   0.279035   0.474954   0.587755   0.617440   0.564007   0.427458   0.207792\n",
      "   0.267161   0.440816   0.520965   0.507607   0.400742   0.200371  -0.093506\n",
      "   0.244898   0.385900   0.423006   0.356215   0.185529  -0.089054  -0.467532\n",
      "\n",
      " Columns 8 through 10:\n",
      "\n",
      "   0.279035   0.267161   0.244898\n",
      "   0.474954   0.440816   0.385900\n",
      "   0.587755   0.520965   0.423006\n",
      "   0.617440   0.507607   0.356215\n",
      "   0.564007   0.400742   0.185529\n",
      "   0.427458   0.200371  -0.089054\n",
      "   0.207792  -0.093506  -0.467532\n",
      "   7.905009  -0.480891  -0.949907\n",
      "  -0.480891   8.038219  -1.536178\n",
      "  -0.949907  -1.536178   7.773655\n",
      "\n",
      "eigenvalues =\n",
      "\n",
      "   10.0000\n",
      "    1.0000\n",
      "    9.0000\n",
      "    8.0000\n",
      "    7.0000\n",
      "    2.0000\n",
      "    6.0000\n",
      "    3.0000\n",
      "    5.0000\n",
      "    4.0000\n",
      "\n"
     ]
    }
   ],
   "source": [
    "n = 10;\n",
    "u = [1:n]';\n",
    "D = diag(1:n);\n",
    "A = transform(D, u)\n",
    "eigenvalues = eig(A)"
   ]
  }
 ],
 "metadata": {
  "kernelspec": {
   "display_name": "Octave",
   "language": "octave",
   "name": "octave"
  },
  "language_info": {
   "file_extension": ".m",
   "help_links": [
    {
     "text": "GNU Octave",
     "url": "https://www.gnu.org/software/octave/support.html"
    },
    {
     "text": "Octave Kernel",
     "url": "https://github.com/Calysto/octave_kernel"
    },
    {
     "text": "MetaKernel Magics",
     "url": "https://metakernel.readthedocs.io/en/latest/source/README.html"
    }
   ],
   "mimetype": "text/x-octave",
   "name": "octave",
   "version": "6.2.0"
  }
 },
 "nbformat": 4,
 "nbformat_minor": 5
}
