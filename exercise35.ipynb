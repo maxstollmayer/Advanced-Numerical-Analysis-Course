{
 "cells": [
  {
   "cell_type": "markdown",
   "id": "5573f0e3-2dd0-41e8-a590-0adf12c8e0ac",
   "metadata": {},
   "source": [
    "# Advanced Numerical Analysis\n",
    "\n",
    "## Exercise 35"
   ]
  },
  {
   "cell_type": "code",
   "execution_count": null,
   "id": "73206ab5-19b2-4a05-aa5a-fccfd9ae7ecd",
   "metadata": {},
   "outputs": [],
   "source": []
  }
 ],
 "metadata": {
  "kernelspec": {
   "display_name": "Octave",
   "language": "octave",
   "name": "octave"
  },
  "language_info": {
   "file_extension": ".m",
   "help_links": [
    {
     "text": "GNU Octave",
     "url": "https://www.gnu.org/software/octave/support.html"
    },
    {
     "text": "Octave Kernel",
     "url": "https://github.com/Calysto/octave_kernel"
    },
    {
     "text": "MetaKernel Magics",
     "url": "https://metakernel.readthedocs.io/en/latest/source/README.html"
    }
   ],
   "mimetype": "text/x-octave",
   "name": "octave",
   "version": "6.2.0"
  }
 },
 "nbformat": 4,
 "nbformat_minor": 5
}
