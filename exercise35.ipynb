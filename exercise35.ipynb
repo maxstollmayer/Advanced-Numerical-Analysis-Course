{
 "cells": [
  {
   "cell_type": "markdown",
   "id": "5573f0e3-2dd0-41e8-a590-0adf12c8e0ac",
   "metadata": {},
   "source": [
    "# Advanced Numerical Analysis\n",
    "\n",
    "## Exercise 35"
   ]
  },
  {
   "cell_type": "markdown",
   "id": "4977bed4-2724-4371-8359-df76ac1a4d71",
   "metadata": {},
   "source": [
    "*To solve the two-point boundary value problem*\n",
    "\n",
    "$$\\begin{cases}\n",
    "y''(t) = q(t) y(t) + g(t) \\\\\n",
    "y(a) = \\alpha, y(b) = \\beta\n",
    "\\end{cases}$$\n",
    "\n",
    "*one may discretize the second derivatives on a grid* $t_i = a + i h,$ *where* $h := \\frac{b - a}{n + 1},$ *approximating them by central difference quotients* $\\Delta^2 y^i := \\frac{y^{i+1} - 2 y^i + y^{i-1}}{h^2},$ *where the* $y^i$ *are approximations to* $y(t_i)$ *for* $i = 1, \\dots, n.$"
   ]
  },
  {
   "cell_type": "markdown",
   "id": "9f7a25d3-f99d-4745-a810-b1f5733eba38",
   "metadata": {},
   "source": [
    "$$ $$\n",
    "$\\textrm{(i)} \\quad$ *Substitute the quotients* $\\Delta^2 y^i$ *into the differential equation and take account of the boundary conditions* $y^0 = \\alpha, y^{n+1} = \\beta$ *to derive a linear system of equations for* $y^1, \\dots, y^n.$"
   ]
  },
  {
   "cell_type": "markdown",
   "id": "f4de1701-b66e-4e3d-bada-54a241feac87",
   "metadata": {},
   "source": [
    "Substituting the approximation into the equation yields\n",
    "\n",
    "$$\\frac{y^{i+1} - 2 y^i + y^{i-1}}{h^2} = q(t_i) y^i + g(t_i) \\iff \\frac{y^{i+1} - \\big(h^2 q(t_i) + 2\\big) y^i + y^{i-1}}{h^2} = g(t_i) \\quad \\forall i = 2, \\dots, n-1$$\n",
    "\n",
    "and for the two boundary cases we have\n",
    "\n",
    "$$\n",
    "\\frac{y^2 - 2 y^1 + y^0}{h^2} = q(t_1) y^1 + g(t_1) \\iff \\frac{y^2 - \\big(h^2 q(t_1) + 2\\big) y^1}{h^2} = g(t_1) - \\frac{\\alpha}{h^2} \\\\\n",
    "\\frac{y^{n+1} - 2 y^n + y^{n-1}}{h^2} = q(t_n) y^n + g(t_n) \\iff \\frac{-\\big(h^2 q(t_n) + 2\\big) y^n + y^{n-1}}{h^2} = g(t_n) - \\frac{\\beta}{h^2}.\n",
    "$$\n",
    "\n",
    "Written as a linear system of equations:\n",
    "\n",
    "$$ \\frac{1}{h^2}\n",
    "\\begin{pmatrix}\n",
    "    -\\big(h^2 q(t_1) + 2\\big) & 1 & 0 & \\cdots & 0 \\\\\n",
    "    1 & -\\big(h^2 q(t_2) + 2\\big) & 1 & & \\vdots \\\\\n",
    "    0 & 1 & \\ddots & & 0 \\\\\n",
    "    \\vdots &  & & \\ddots & 1 \\\\\n",
    "    0 & \\cdots & 0 & 1 & -\\big(h^2 q(t_n) + 2\\big)\n",
    "\\end{pmatrix}\n",
    "\\begin{pmatrix}\n",
    "    y^1 \\\\\n",
    "    y^2 \\\\\n",
    "    \\vdots \\\\\n",
    "    y^{n-1} \\\\\n",
    "    y^n\n",
    "\\end{pmatrix}\n",
    "=\n",
    "\\begin{pmatrix}\n",
    "    g(t_1) - \\frac{\\alpha}{h^2} \\\\\n",
    "    g(t_2) \\\\\n",
    "    \\vdots \\\\\n",
    "    g(t_{n-1}) \\\\\n",
    "    g(t_n) - \\frac{\\beta}{h^2}\n",
    "\\end{pmatrix}\n",
    "$$"
   ]
  },
  {
   "cell_type": "markdown",
   "id": "f5ead460-0fe0-4fa6-ba8c-290bd17e16f1",
   "metadata": {},
   "source": [
    "$$ $$\n",
    "$\\textrm{(ii)} \\quad$ *Show that if* $q(t) > 0$ *for all* $t,$ *the system of equations is diagonally dominant, and hence always has a unique solution.*"
   ]
  },
  {
   "cell_type": "markdown",
   "id": "88e5be53-31cc-42d9-9901-bb559d495e31",
   "metadata": {},
   "source": [
    "The system is diagonally dominant since $\\big|- q(t_i) + \\frac{2}{h^2}\\big| = q(t_i) + \\frac{2}{h^2} > \\frac{2}{h^2}$ for all $i = 1, \\dots, n.$"
   ]
  }
 ],
 "metadata": {
  "kernelspec": {
   "display_name": "Octave",
   "language": "octave",
   "name": "octave"
  },
  "language_info": {
   "file_extension": ".m",
   "help_links": [
    {
     "text": "GNU Octave",
     "url": "https://www.gnu.org/software/octave/support.html"
    },
    {
     "text": "Octave Kernel",
     "url": "https://github.com/Calysto/octave_kernel"
    },
    {
     "text": "MetaKernel Magics",
     "url": "https://metakernel.readthedocs.io/en/latest/source/README.html"
    }
   ],
   "mimetype": "text/x-octave",
   "name": "octave",
   "version": "6.2.0"
  }
 },
 "nbformat": 4,
 "nbformat_minor": 5
}
