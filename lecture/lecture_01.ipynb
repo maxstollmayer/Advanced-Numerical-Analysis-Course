{
 "cells": [
  {
   "cell_type": "markdown",
   "metadata": {},
   "source": [
    "# Lecture 1\n",
    "\n",
    "$$\n",
    "\\global\\let\\phi=\\varphi\n",
    "\\gdef\\N{\\mathbb{N}}\n",
    "\\gdef\\F{\\mathbb{F}}\n",
    "\\gdef\\R{\\mathbb{R}}\n",
    "\\gdef\\C{\\mathbb{C}}\n",
    "\\gdef\\rank{\\mathrm{rank}\\,}\n",
    "\\gdef\\matrix#1{\\begin{pmatrix}#1\\end{pmatrix}}\n",
    "$$"
   ]
  },
  {
   "cell_type": "markdown",
   "metadata": {},
   "source": [
    "Throughout this course $\\F$ denotes a field. Further, for $m, n \\in \\N$, $\\F^n$ and $\\F^{m \\times n}$ denote the corresponding vector spaces of $n$-component column vectors and $(m \\times n)$-matrices with entries in $\\F$. For the purposes of this course, there is no disadvantage in assuming $\\F = \\R$, but we will keep notations a bit more general to cover the case of $\\F = \\C$ at the same time.\n",
    "\n",
    "In these notes matrix rank is recapitulated starting with the definition. Many properties of matrix rank trivially follow from the very first definition, and some are stated here right after the definition. Proving the equivalence of several other definitions of rank requires a general procedure for solving linear equation and eliminating any possible linear dependence along the way. When that procedure is developed in the language of vector spaces, a key result is the Steinitz exchange lemma. When the same is done in the language of matrices, a key result is the existence of the so-called row echelon form (or the reduced row echelon form) of a matrix. The echelon form is a direct analogue of the pivoted LU factorization."
   ]
  },
  {
   "cell_type": "markdown",
   "metadata": {},
   "source": [
    "## Matrix Rank"
   ]
  },
  {
   "cell_type": "markdown",
   "metadata": {},
   "source": [
    "#### Definition 1.1 (matrix rank)\n",
    "\n",
    "Let $m, n \\in \\N$, $A \\in \\F^{m \\times n}$. The **matrix rank** of $A$ denoted by $\\rank A$ is defined as the least number $r \\in \\N_0$ such that there exists $u_1 ,\\ \\dots ,\\ u_r \\in \\F^m$ and $v_1 ,\\ \\dots ,\\ v_r \\in \\F^n$ satisfying\n",
    "$$A = \\sum_{k=1}^r u_k \\, v_k^{\\top}$$\n",
    "\n",
    "We will use $\\F_r^{m \\times m}$ to denote the set of matrices from $\\F^{m \\times n}$ of rank not exceeding $r \\in \\N_0$:\n",
    "$$\\begin{align*} \\F_r^{m \\times n} &= \\{ A \\in \\F^{m \\times n} \\ | \\ \\rank A \\le r \\} \\\\ &= \\bigg\\{ \\sum_{k=1}^r u_k \\, v_k^{\\top} \\ \\bigg| \\ u_1 ,\\, \\dots ,\\, u_r \\in \\F^m ,\\ v_1 ,\\, \\dots ,\\, v_r \\in \\F^n \\bigg\\} \\end{align*}$$"
   ]
  },
  {
   "cell_type": "markdown",
   "metadata": {},
   "source": [
    "> Note that $\\rank A = 0$ holds if and only if $A = 0 \\in \\F^{m \\times n}$. So $\\F_0^{m \\times n}$ contains only one element, the corresponding zero matrix.\n",
    "> \n",
    "> The decomposition $A = \\sum_{k=1}^r u_k v_k^{\\top}$ in the definition 1.1 if often referred to as **$r$-term separation of variables**. Indeed the equality is equivalent to\n",
    "> $$ A_{ij} = \\sum_{k=1}^r (u_k)_i (v_k)_j \\quad \\forall i \\in \\{1 ,\\, \\dots ,\\, m\\},\\ j \\in \\{1, \\dots, n\\}$$\n",
    "> where the indices $i$ and $j$ separate in each term: each of the two enters only in the corresponding factor. Each term $u_k v_k^{\\top}$ with $k \\in \\{1,\\dots,r\\}$ is an outer product of two univariate functions.\n",
    "> \n",
    "> For any $A \\in \\F^{m \\times n}$ with $m, n \\in \\N$ a decomposition of the form in definition 1.1 can be constructed from the $n$ columns of $A$ which implies that $\\rank A$ does not exceed $n$."
   ]
  },
  {
   "cell_type": "markdown",
   "metadata": {},
   "source": [
    "#### Definition 1.2 (rank-$r$ factorization of a matrix)\n",
    "\n",
    "A representation of $A \\in \\F^{m \\times n}$ with $m, n \\in \\N$ of the form $A = UV^{\\top}$ with $U \\in \\F^{m \\times r}$ and $V \\in \\F^{n \\times r}$ for some $r \\in \\N$ is often called a **rank-$r$ factorization** of $A$."
   ]
  },
  {
   "cell_type": "markdown",
   "metadata": {},
   "source": [
    "#### Proposition 1.3 (rank-$r$ factorization and matrix rank)\n",
    "\n",
    "let $m, n \\in \\N$ and $A \\in \\F^{m \\times n}$. Then $A \\in \\F_r^{m \\times n}$ if and only if there exist matrices $U \\in \\F^{m \\times r}$ and $V \\in \\F^{n \\times r}$ such that $A = UV^{\\top}$."
   ]
  },
  {
   "cell_type": "markdown",
   "metadata": {},
   "source": [
    "> In the context of definition 1.2 the representation $A$ is often referred to as a rank-$r$ factorization of $A$ regardless of whether $\\rank A = r$ or $\\rank A < r$."
   ]
  },
  {
   "cell_type": "markdown",
   "metadata": {},
   "source": [
    "#### Remark 1.4 (non-uniqueness of rank-$r$ factorizations)\n",
    "\n",
    "Rank-$r$ factorizations are not unique since for any $U \\in F^{m \\times r}$ and $V \\in \\F^{n \\times r}$ with $m, n, r \\in \\N$ we have $UV^{\\top} = \\tilde{U} \\tilde{V}^{\\top}$ with $\\tilde{U} = UT \\in \\F^{m \\times r}$ and $\\tilde{V} = V(T^{-1})^{\\top} \\in \\F^{n \\times r}$ for any invertible matrix $T \\in \\F^{r \\times r}$."
   ]
  },
  {
   "cell_type": "markdown",
   "metadata": {},
   "source": [
    "#### Proposition 1.5 (matrix rank under transposition)\n",
    "\n",
    "Let $m, n \\in \\N$ and $A \\in \\F^{m \\times n}$. Then $\\rank A^{\\top} = \\rank A$."
   ]
  },
  {
   "cell_type": "markdown",
   "metadata": {},
   "source": [
    "#### Proposition 1.6 (matrix rank does not exceed any of the sizes)\n",
    "\n",
    "Let $m, n \\in \\N$. Then $\\rank A \\le \\min\\{m, n\\}$ for any $A \\in \\F^{m \\times n}$."
   ]
  },
  {
   "cell_type": "markdown",
   "metadata": {},
   "source": [
    "#### Proposition 1.7 (rank of a submatrix)\n",
    "\n",
    "Let $m, n \\in \\N$ and $A \\in \\F^{m \\times n}$. Then the rank of any submatrix of $A$ does not exceed the rank of $A$."
   ]
  },
  {
   "cell_type": "markdown",
   "metadata": {},
   "source": [
    "#### Proposition 1.8 (subadditivity of matrix rank)\n",
    "\n",
    "Let $m, n \\in \\N$. Consider $A \\in \\F_p^{m \\times n}$ and $B \\in \\F_q^{m \\times n}$ with $p,q \\in \\N_0$. Then $A + B \\in \\F_{p+q}^{m \\times n}$."
   ]
  },
  {
   "cell_type": "markdown",
   "metadata": {},
   "source": [
    "#### Proposition 1.9 (matrix rank under multiplication)\n",
    "\n",
    "Let $m, n, k \\in \\N$. Consider $A \\in \\F_p^{m \\times k}$ and $B \\in \\F_q^{k \\times n}$ with $p, q \\in \\N_0$. Then $A B \\in \\F_{\\min\\{p, q\\}}^{m \\times n}$."
   ]
  },
  {
   "cell_type": "markdown",
   "metadata": {},
   "source": [
    "#### Corollary 1.10 (matrix rank under multiplication by invertible matrices)\n",
    "\n",
    "Let $m, n \\in \\N$ and $A \\in \\F^{m \\times n}$. Then $\\rank PAQ = \\rank A$ for any invertible matrices $P \\in \\F^{m \\times m}$ and $Q \\in \\F^{n \\times n}$."
   ]
  },
  {
   "cell_type": "markdown",
   "metadata": {},
   "source": [
    "## LU Decomposition"
   ]
  },
  {
   "cell_type": "markdown",
   "metadata": {},
   "source": [
    "#### Lemma 1.11 (inversion of a single step of Gaussian elimination)\n",
    "\n",
    "For $m \\in \\N$ and $k \\in \\{1, \\dots, m\\}$ let $I$ denote the identity matrix of order $m$, $e_k \\in \\F^m$ be column $k$ of $I$ and $\\ell \\in \\F^m$ have zero as components 1 to $k$. Then the matrix $I - \\ell e_k^{\\top}$ is invertible with $(I - \\ell e_k^{\\top})^{-1} = I + \\ell e_k^{\\top}$."
   ]
  },
  {
   "cell_type": "markdown",
   "metadata": {},
   "source": [
    "> Let us consider arbitrary column vectors $\\ell_1, \\dots, \\ell_m \\in \\F^m$ such that components 1 to $k$ of $\\ell_k$ are all zero for each $k \\in \\{1, \\dots, m\\}$. In particular this means that $\\ell_m$ is the zero vector of $\\F^m$. For every $r \\in \\{0, \\dots, m\\}$ let us consider the matrix\n",
    "> $$ L^{(r)} = I + \\sum_{k=1}^r \\ell_k e_k^{\\top} $$\n",
    "> In particular $L^{(0)} = I$ and $L^{(m)} = L^{(m-1)}$.\n",
    "> \n",
    "> Let us set $\\ell_{ik} = (\\ell_k)i$ for all $i \\in \\{1, \\dots, m\\}$ such that $i > k$. Then $\\ell_1, \\dots, \\ell_{m-1}$ can be explicitly written as follows:\n",
    "> $$ \\ell_r = \\matrix{0 && \\cdots && 0 && \\ell_{r+1,r} && \\cdots && \\ell_{m,r}}^{\\top} \\in \\F^m $$\n",
    "> for each $r \\in \\{1, \\dots, m-1\\}$. Then each $L^{(r)}$ with $r \\in \\{1, \\dots, m-1\\}$ can be partitioned as\n",
    "> $$ L^{(r)} = \\matrix{\n",
    "    1            &&        &&                &&              &&   && && \\\\\n",
    "    \\ell_{2,1}   && \\ddots &&                &&              &&   && && \\\\\n",
    "    \\vdots       && \\ddots && \\ddots         &&              &&   && && \\\\\n",
    "    \\ell_{r,1}   && \\cdots && \\ell_{r,r-1}   && 1            &&   && && \\\\\n",
    "    \\ell_{r+1,1} && \\cdots && \\ell_{r+1,r-1} && \\ell_{r+1,r} && 1 && && \\\\\n",
    "    \\vdots       && \\cdots && \\vdots         && \\vdots       &&   && \\ddots && \\\\\n",
    "    \\ell_{m,1} && \\cdots && \\ell_{m,r-1} && \\ell_{m,r} && &&  && 1\n",
    "} = \\matrix{L_1^{(r)} && \\\\ L_2^{(r)} && I_r} $$\n",
    "> where $L_1^{(r)} \\in \\F^{r \\times r}$ is a unit lower-triangular matrix, $L_2^{(r)} \\in \\F^{(m-r) \\times r}$ and $I_r$ is the identity matrix of order $(m-r)$.\n",
    "> \n",
    "> The reason for considering the construction $L^{(r)}$ is that any unit lower-triangular matrix $L \\in \\F^{m \\times m}$ can be represented in that form. Indeed let $e_1, \\dots, e_m \\in \\F^m$ and $\\ell_1, \\dots, \\ell_m \\in \\F^m$ be the columns of the identity matrix $I$ of order $m$ and of the strictly lower-triangular matrix $L - I$ respectively. Then $\\ell_1, \\dots, \\ell_{m-1}$ are of the form as $\\ell_r$ from above and $\\ell_m$ is a zero vector. We have that $L = L^{(m-1)} = L^{(m)}$. So we can use them to decompose an arbitrary unit lower-triangular matrix $L$ into more elementary matrices. When we come to the general implementation and rigorous analysis of Gaussian eliminiation such matrices as $L^{(r)}$ with $r \\in \\{1, \\dots, m\\}$ will appear as representations of the first $r$ steps."
   ]
  },
  {
   "cell_type": "markdown",
   "metadata": {},
   "source": [
    "#### Lemma 1.12 (representation of $r$ steps of Gaussian elimination)\n",
    "\n",
    "For $m \\in \\N$ and $r \\in \\{1, \\dots, m\\}$ let $e_k$ and $\\ell_k$ be defined as in lemma 1.11. Then $$(I + \\ell_1 e_1^{\\top}) \\cdots (I + \\ell_r e_r^{\\top}) = I + \\sum_{k=1}^r \\ell_k e_k^{\\top}$$"
   ]
  },
  {
   "cell_type": "markdown",
   "metadata": {},
   "source": [
    "> For a matrix $A \\in \\F^{m \\times n}$ we are interested in finding a unit lower-triangular matrix $L \\in \\F^{m \\times m}$ and an upper-trapezoid matrix $U \\in \\F^{m \\times n}$ such that $A = LU$.\n",
    "> \n",
    "> This may be possible to accomplish by eliminating the entries below the diagonal in one column after another. To represent and analyze this process step by step we will also consider incomplete LU decompositions."
   ]
  },
  {
   "cell_type": "markdown",
   "metadata": {},
   "source": [
    "#### Definition 1.13 ($r$-step LU decomposition)\n",
    "\n",
    "Consider $m, n, r \\in \\N$ such that $r \\le \\min\\{m, n\\}$. $A = LU \\in \\F^{m \\times n}$ is called an **$r$-step LU decomposition** with $L$ and $U$ as **r-step LU factors** if\n",
    "\n",
    "- for $r < \\min\\{m, n\\}: \\quad L \\in \\F^{m \\times m}$ is of the form $L = \\matrix{ L_1 & \\\\ L_2 & I_2 }$ and $U \\in \\F^{m \\times n}$ is of the form $\\matrix{ U_1 & U_2 \\\\ & S }$, where $L_1 \\in \\F^{r \\times r}$ is a unit lower-triangular matrix, $U_1 \\in \\F^{r \\times r}$ an upper-triangular matrix with no zeros on the diagonal, $I_2$ the identity matrix of order $m-r$ and $L_2 \\in \\F^{(m-r) \\times r}$, $U_2 \\in \\F^{r \\times (m-r)}$ and $S \\in \\F^{(m-r) \\times (n-r)}$ are arbitrary.\n",
    "\n",
    "- for $r = \\min\\{m, n\\}: \\quad L$ is a unit lower-triangular matrix and $U$ is an upper-triangular matrix with no zeros on the diagonal.\n",
    "\n",
    "When $r < \\min\\{m, n\\}$ and $S$ is non-zero, $S$ is called **r-step Schur complement** and the $r$-step LU decomposition is called **incomplete**.\n",
    "When $r = \\min\\{m, n\\}$ and $S$ is zero then the $r$-step LU decomposition is called **complete**."
   ]
  },
  {
   "cell_type": "markdown",
   "metadata": {},
   "source": [
    "#### Definition 1.14 (leading principal submatrix)\n",
    "\n",
    "For any $m, n \\in \\N$, $p \\in \\{ 1, \\dots, m\\}$, $q \\in \\{1, \\dots, n\\}$ and $A \\in \\F^{m \\times n}$, the submatrix of $A$ formed by rows $1, \\dots, p$ and columns $1, \\dots, q$ is called the **leading principal submatrix** of size $p \\times q$ of $A$."
   ]
  },
  {
   "cell_type": "markdown",
   "metadata": {},
   "source": [
    "> For $m, n, r \\in \\N$ such that $r \\le \\min\\{m, n\\}$ let us consider an $r$-step LU decomposition $A = LU$ of a matrix $A \\in \\F^{m \\times n}$ in the sense of definition 1.13. Let us partition $A$ in the same way as $L$ and $U$:\n",
    "> $$ A = \\matrix{A_{11} && A_{12} \\\\ A_{21} && A_{22}}$$\n",
    "> with $A_{11} \\in \\F^{r \\times r}$ being the leading principal submatrix and the other sizes follow from that. For $r = m$ the second block row should be omitted. Similarly for $r = n$ the second block column should be omitted. Rewriting the $r$-step LU decomposition blockwise we obtain the following expressions for the blocks of $A$:\n",
    "> $$\\begin{align*}\n",
    "    A_{11} &= L_1 U_1 \\\\\n",
    "    A_{12} &= L_1 U_2 && r < n \\\\\n",
    "    A_{21} &= L_2 U_1 && r < m \\\\\n",
    "    A_{22} &= L_2 U_2 + S \\quad && r < \\min\\{m, n\\}\n",
    "\\end{align*}$$\n",
    "> We will use the notation of this block matrix in several proof below.\n",
    "> \n",
    "> Definition 1.13 introduces what we mean by LU decomposition but does not sed light on how such decompositions may be optained. In the following lemma, we obtain a one-step LU decomposition for every matrix under a certain condition. Second we show that if a $p$-step LU decomposition is available for a matrix and a $q$-step LU decomposition for the corresponding Schur complement is also available then the two decompositions can be explicitly combined to yield a $(p+q)$-step LU decomposition of the original matrix."
   ]
  },
  {
   "cell_type": "markdown",
   "metadata": {},
   "source": [
    "#### Lemma 1.15 (iterated Gaussian elimination)\n",
    "\n",
    "Let $k, m, n \\in \\N$ be such that $k \\le \\min\\{m, n\\}$ and $A \\in \\F^{m \\times n}$.\n",
    "\n",
    "- Let $I$ and $e_1$ denote the identiy matrix of order $m$ and its first column. Assume that $A_{11} \\ne 0$ and consider $\\ell = A_{11}^{-1} A e_1 - e_1$, $L = I + \\ell e_1^{\\top}$ and $U = (I - \\ell e_1^{\\top}) A$. Then A = LU is a one-step LU decomposition.\n",
    "\n",
    "- Let $p, q \\in \\N$ be such that $p + q \\le \\min\\{m, n\\}$. Assume that $A = LU$ is a $p$-step LU decomposition with $L = \\matrix{L_1 && \\\\ L_2 && I_2}$ and $U = \\matrix{U_1 && U_2 \\\\ && S}$, where $L_1 \\in \\F^{p \\times p}$, $L_2 \\in \\F^{(m-p) \\times p}$, $I_2$ is the identity matrix of order $m - p$, $U_1 \\in \\F^{p \\times p}$, $U_2 \\in \\F^{p \\times (m-p)}$ and $S \\in \\F^{(m-p) \\times (n-p)}$. \\\n",
    "Further assume that $S = \\tilde{U} \\tilde{V}$ is a $q$-step LU decomposition. Then $A = L_* U_*$ with $L_* = \\matrix{L_1 && \\\\ L_2 && \\tilde{L}}$ and $U_* = \\matrix{U_1 && U_2 \\\\ && \\tilde{U}}$ is a $(p+q)$-step LU decomposition."
   ]
  },
  {
   "cell_type": "markdown",
   "metadata": {},
   "source": [
    "> Lemma 1.15 allows, for example, to start with a one-step LU decomposition and iterating with respect to the number of steps, increasing it by one each time. This immediately gives a computational scheme, an algorithm for obtaining LU decompositions which is implemented below."
   ]
  },
  {
   "cell_type": "markdown",
   "metadata": {},
   "source": [
    "#### Algorithm 1.16 ($r$-step LU decomposition)"
   ]
  },
  {
   "cell_type": "code",
   "execution_count": 1,
   "metadata": {},
   "outputs": [
    {
     "data": {
      "text/plain": [
       "rStepLU (generic function with 2 methods)"
      ]
     },
     "metadata": {},
     "output_type": "display_data"
    }
   ],
   "source": [
    "function rStepLU(A::Matrix{T}, r::Union{Integer, Nothing}=nothing) where {T}\n",
    "    m, n = size(A)\n",
    "    min_dim = min(m, n)\n",
    "\n",
    "    # promotes the element type for correct float precision\n",
    "    UT = typeof(oneunit(T) - oneunit(T) * oneunit(T) / oneunit(T))\n",
    "    LT = typeof(oneunit(UT) / oneunit(UT))\n",
    "    S = promote_type(LT, UT)\n",
    "\n",
    "    # validate given rank\n",
    "    if r == nothing\n",
    "        r = min_dim\n",
    "    elseif r < 1 || r > min_dim\n",
    "        throw(ArgumentError(\"rank does not satisfy 1 ≤ r ≤ $min_dim: got $r\"))\n",
    "    end\n",
    "\n",
    "    # initialization of U and L\n",
    "    U = convert(Matrix{S}, copy(A))\n",
    "    L = zeros(S, (m, m))\n",
    "    for i = 1:m\n",
    "        L[i,i] = oneunit(S)\n",
    "    end\n",
    "\n",
    "    if m == 1:\n",
    "        # no entries to eliminate\n",
    "        return L, U\n",
    "    end\n",
    "\n",
    "    for k = 1:r\n",
    "        # step k of Gaussian elimination\n",
    "        for i = (k+1):m\n",
    "            if U[k,k] == zero(S)\n",
    "                return L, U\n",
    "            end\n",
    "\n",
    "            # compute elimination coefficient for row i\n",
    "            L[i,k] = U[i,k] / U[k,k]\n",
    "\n",
    "            # eliminate component i in the current column of U\n",
    "            U[i,k] = zero(S)\n",
    "\n",
    "            # update row i of U to compute the corresponding row of the Schur complement\n",
    "            for j = (k+1):n\n",
    "                U[i,j] = U[i,j] - L[i,k] * U[k,j]\n",
    "            end\n",
    "        end\n",
    "    end\n",
    "    return L, U\n",
    "end\n"
   ]
  },
  {
   "cell_type": "markdown",
   "metadata": {},
   "source": [
    "> Note that the algorithm may fail in runtime on line 28 when the entry by which we need to divide is zero. The following result precisely characterizes when that issue occurs and addresses the uniqueness of the decomposition in all other cases."
   ]
  },
  {
   "cell_type": "markdown",
   "metadata": {},
   "source": [
    "#### Theorem 1.17\n",
    "\n",
    "Let $m, n, r \\in \\N$ be such that $r \\le \\min\\{m, n\\}$ and $A \\in \\F^{m \\times n}$. Then an $r$-step LU decomposition of $A$ exists if and only if all leading principal submatrices of $A$ of size $k \\times k$ with $k \\in \\{1, \\dots, r\\}$ are invertible. Furthermore whenever an $r$-step LU decomposition of $A$ exists, it is unique and is constructed by the algorithm."
   ]
  },
  {
   "cell_type": "markdown",
   "metadata": {},
   "source": [
    "#### Definition 1.18 (truncated $r$-step LU decomposition)\n",
    "\n",
    "In the context of definition 1.13 the matrices $\\hat{L} = \\matrix{L_1 \\\\ L_2} \\in \\F^{m \\times r}$ and $\\hat{U} = \\matrix{U_1 && U_2} \\in \\F^{r \\times n}$, which consist of the first $r$ columns of $L$ and of the first $r$ rows of $U$ respectively, are often called the **truncated $r$-step LU factors** of $A$. The matrix $\\hat{A} = \\hat{L} \\hat{U} \\in \\F^{m \\times n}$ is often referred to as the **$r$-step LU approximation** of $A$."
   ]
  },
  {
   "cell_type": "markdown",
   "metadata": {},
   "source": [
    "#### Remark 1.19 (complete decomposition and exact approximation)\n",
    "\n",
    "In the context of definition 1.13 and 1.18 with $r < \\min\\{m, n\\}$ it is easy to see that an $r$-step LU decomposition $A = LU$ is complete if and only if the $r$-step LU approximation $\\hat{A} = \\hat{L} \\hat{U}$ is exact, which means that $S = 0$ and is equivalent to $\\hat{A} = A$."
   ]
  },
  {
   "cell_type": "markdown",
   "metadata": {},
   "source": [
    "#### Lemma 1.20 (LU approximation in terms of submatrices)\n",
    "\n",
    "In the context of definition 1.13 and 1.18 with $r < \\min\\{m, n\\}$ we have $A - \\hat{A} = \\matrix{O && \\\\ && S}$ and $S = A_{22} - A_{21} A_{11}^{-1} A_{12}$, where $O$ is the zero matrix of size $r \\times r$. Furthermore the truncated $r$-step LU factors and the $r$-step LU approximation of $A$ satisfy $\\hat{L} = \\matrix{A_{11} \\\\ A_{21}} U_1^{-1}$, $\\hat{U} = L_1^{-1} \\matrix{A_{11} && A_{12}}$ and $\\hat{A} = \\matrix{A_{11} \\\\ A_{21}} A_{11}^{-1} \\matrix{A_{11} && A_{12}}$."
   ]
  },
  {
   "cell_type": "markdown",
   "metadata": {},
   "source": [
    "## Pivoted LU Decomposition"
   ]
  },
  {
   "cell_type": "markdown",
   "metadata": {},
   "source": [
    "> In this section we consider the pivoted LU decomposition of a matrix which is nothing else than the LU decomposition of the same matrix with rows and columns permuted. The permutations are involved to address the occurrence of zero pivots (or equivalently of singular leading principal submatrices), which render the complete (non-pivoted) LU decomposition non-relevant."
   ]
  },
  {
   "cell_type": "markdown",
   "metadata": {},
   "source": [
    "#### Definition 1.21 (permutation matrix)\n",
    "\n",
    "Let $n \\in \\N$ and $\\sigma = (\\sigma_1, \\dots, \\sigma_n)$ be a permutation of $\\{1, \\dots, n\\}$. Consider the matrix $P \\in \\F^{n \\times n}$ defined as follows: for each $i \\in \\{i, \\dots, n\\}$, $P_{i,\\sigma_i} = 1$ and $P_{i,j} = 0$ for every $j \\in \\{1, \\dots, n\\}$ such that $j \\ne \\sigma_i$. Then $P$ is called the **permutation matrix** corresponding to the permutation $\\sigma$."
   ]
  },
  {
   "cell_type": "markdown",
   "metadata": {},
   "source": [
    "#### Definition 1.22 (exhange matrix)\n",
    "\n",
    "Let $n \\in \\N$ and $\\sigma = (\\sigma_1, \\dots, \\sigma_n)$ be the $(k,j)$-exchange permutation of $\\{1, \\dots, n\\}$ for $k, j \\in \\{1, \\dots, n\\}$. Then the permutation matrix corresponding to the permutation $\\sigma$ is called the **$(k,j)$-exchange matrix** of order $n$."
   ]
  },
  {
   "cell_type": "markdown",
   "metadata": {},
   "source": [
    "#### Lemma 1.23\n",
    "\n",
    "Let $n \\in \\N$ and $P, Q \\in \\F^{n \\times n}$ be permutation matrices. Then $PQ$ is also a permutation matrix."
   ]
  },
  {
   "cell_type": "markdown",
   "metadata": {},
   "source": [
    "#### Lemma 1.24\n",
    "\n",
    "Let $n \\in \\N$ and $P \\in \\F^{n \\times n}$ be a permutation matrix. Then $P$ is invertible and $P^{-1} = P^{\\top}$."
   ]
  },
  {
   "cell_type": "markdown",
   "metadata": {},
   "source": [
    "#### Definition 1.25 ($r$-step pivoted LU decomposition)\n",
    "\n",
    "Consider $m, n, r \\in \\N$ such that $r \\le \\min\\{m, n\\}$. For each $k \\in \\{1, \\dots, r\\}$, consider $\\pi_k \\in \\{k, \\dots, m\\}$ and $\\sigma_k \\in \\{k, \\dots, m\\}$ and let $\\Pi_k$ be the $(k, \\pi_k)$-exchange matrix of order $m$ and $\\Sigma_k$ be the $(k,\\sigma_k)$-exchange matrix of order $n$. Let $P = \\Pi_r \\cdots \\Pi_1$ and $Q = \\Sigma_r \\cdots \\Sigma_1$.\n",
    "\n",
    "For the matrix $\\tilde{A} = P A Q^{\\top}$ assume that $\\tilde{A} = LU$ is an $r$-step LU decomposition in the sense of definition 1.13. Then the equality $A = P^{\\top} LU Q$ as a representation of $A$ in terms of $P$, $L$, $U$ and $Q$ is called an **$r$-step pivoted LU decomposition** corresponding to the row- and column-exchange indices $\\pi_1, \\dots, \\pi_r$ and $\\sigma_1, \\dots, \\sigma_r$.\n",
    "\n",
    "When the $r$-step LU decomposition $\\tilde{A} = LU$ is incomplete or complete, the $r$-step pivoted LU decomposition $A = P^{\\top} LU Q$ is also called **incomplete** or **complete** respectively."
   ]
  },
  {
   "cell_type": "markdown",
   "metadata": {},
   "source": [
    "#### Definition 1.26 (truncated $r$-step pivoted LU decomposition)\n",
    "\n",
    "In the context of definition 1.25 the truncated $r$-step LU factors $\\hat{L}$ and $\\hat{U}$ of $P A Q^{\\top}$, introduced in definition 1.18, are called the **truncated $r$-step pivoted LU factors** of $A$ corresponding to the row- and column-exchange indices $\\pi_1, \\dots, \\pi_r$ and $\\sigma_1, \\dots, \\sigma_r$.\n",
    "\n",
    "The matrix $\\hat{A} = P^{\\top} \\hat{L} \\hat{U} Q$ is called the **$r$-step pivoted LU approximation** of $A$ corresponding to the row- and column-exchange indices $\\pi_1, \\dots, \\pi_r$ and $\\sigma_1, \\dots, \\sigma_r$."
   ]
  },
  {
   "cell_type": "markdown",
   "metadata": {},
   "source": [
    "#### Remark 1.27\n",
    "\n",
    "In the context of definitions 1.25 and 1.26 it is easy to see from definitin 1.13 that an $r$-step pivoted LU decomposition $A = P^{\\top} \\hat{L} \\hat{U} Q$ is complete if and only if the $r$-step pivoted LU approximation $\\hat{A} = P^{\\top} \\hat{L} \\hat{U} Q$ if $A$ is exact, i.e., $\\hat{A} = A$."
   ]
  },
  {
   "cell_type": "markdown",
   "metadata": {},
   "source": [
    "#### Lemma 1.28 (iterated Gaussian elimination with pivoting)\n",
    "\n",
    "Let $m, n \\in \\N$ and $A \\in \\F^{m \\times n}$ be non-zero.\n",
    "\n",
    "- Let $I$ and $e_1$ denote the identity matrix of order $m$ and its first column. Assume that $\\pi \\in \\{1, \\dots, m\\}$ and $\\sigma \\in \\{1, \\dots, n\\}$ are such that $A_{\\pi,\\sigma} \\ne 0$ and let $\\Pi$ be the $(1,\\pi)$-exchange matrix of order $m$ and $\\Sigma$ be the $(1,\\sigma)$-exchange matrix of order $n$. \\\n",
    "Consider $B = \\Pi A \\Sigma^{\\top}$, $\\ell = B_{11}^{-1} B e_1^{\\top} - e_1$, $L = I + \\ell e_1^{\\top}$ and $U = (I + \\ell e_1^{\\top}) B$. \\\n",
    "Then $A = \\Pi^{\\top} LU \\Sigma$ is a one-step pivoted LU decomposition corresponding to the row- and column-exchange indices $\\pi$ and $\\sigma$.\n",
    "\n",
    "- Let $p, q \\in \\N$ be such that $p + q \\le \\min\\{m, n\\}$. Assume that $A = P^{\\top} L U Q$ is a $p$-step pivoted LU decomposition corresponding to row- and column-exchange indices $\\pi_1, \\dots, \\pi_p$ and $\\sigma_1, \\dots, \\sigma_p$. Consider the following partitioning of $L$ and $U$: \\\n",
    "$L = \\matrix{L_1 && \\\\ L_2 && I_2}$ and $U = \\matrix{U_1 && U_2 \\\\ && S}$, \\\n",
    "where $L_1 \\in \\F^{p \\times p}$, $L_2 \\in \\F^{(m-p) \\times p}$, $I_2$ is the identity matrix of order $m-p$, $U_1 \\in \\F^{p \\times p}$, $U_2 \\in \\F^{p \\times (m-p)}$ and $S \\in \\F^{(m-p) \\times (n-p)}$. \\\n",
    "Further assume that $S = \\tilde{P}^{\\top} \\tilde{L} \\tilde{U} \\tilde{Q}$ is a $q$-step pivoted LU decomposition corresponding to row- and column-exchange indices $\\tilde{\\pi}_1, \\dots, \\tilde{\\pi}_p$ and $\\hat{\\sigma}_1, \\dots, \\hat{\\sigma}_p$. For each $k \\in \\{1, \\dots, q\\}$ let $\\pi_{p+k} = p + \\tilde{\\pi}_k$ and $\\sigma_{p+k} = p + \\tilde{\\sigma}_k$. Then $A$ has a $(p+q)$-step pivoted LU decomposition $A = P_*^{\\top} L_* U_* Q_*$ corresponding to row- and column-exchange indices $\\pi_1, \\dots, \\pi_{p+q}$ and $\\sigma_1, \\dots, \\sigma_{p+q}$ with \\\n",
    "$L_* = \\matrix{L_1 && \\\\ \\tilde{P} L_2 && \\tilde{L}}$ and $U_* = \\matrix{U_1 && U_2 \\tilde{Q}^{\\top} \\\\ \\tilde{U}}$."
   ]
  },
  {
   "cell_type": "markdown",
   "metadata": {},
   "source": [
    "> The following result, obtained by iterating the single-step procedure, is a logical sequel to lemma 1.28."
   ]
  },
  {
   "cell_type": "markdown",
   "metadata": {},
   "source": [
    "#### Lemma 1.29 (pivoted LU decomposition)\n",
    "\n",
    "Let $m, n \\in \\N$ and $A \\in \\F^{m \\times n}$ be non-zero. Then the iterative application of lemma 1.28 produces a complete pivoted LU decomposition of $A$.\n",
    "\n",
    "Specifically, the follwing statements hold with some number $r \\in \\N$ of steps such that $r \\le \\min\\{m, n\\}$.\n",
    "\n",
    "- Lemma 1.28 applied with $k = 1$ produces row- and columns-exchange indices $\\pi_1 \\in \\{1, \\dots, m\\}$ and $\\sigma \\in \\{1, \\dots, n\\}$ and a one-step pivoted LU decomposition of $A$ corresponding to these indices.\n",
    "\n",
    "- For every $k \\in \\{2, \\dots, r\\}$ lemma 1.28 produces row- and column-exchange indices $\\pi_k \\in \\{k, \\dots, m\\}$ and $\\sigma_k \\in \\{k, \\dots, n\\}$ and a $k$-step pivoted LU decomposition of $A$ corresponding to the row- and columns-exchange indices $\\pi_1, \\dots, \\pi_k$ and $\\sigma_1, \\dots, \\sigma_k$ from the previously produced $(k-1)$-step pivoted LU decomposition of $A$ corresponding to the previously produced row- and columns-exchange indices $\\pi_1, \\dots, \\pi_{k-1}$ and $\\sigma_1, \\dots, \\sigma_{k-1}$.\n",
    "\n",
    "- For every $k \\in \\{1, \\dots, r\\}$ the $k$-step pivoted LU decomposition that is optained as described in the previous two items is incomplete if $k < r$ and complete if $k = r$."
   ]
  },
  {
   "cell_type": "markdown",
   "metadata": {},
   "source": [
    "## Implications of the pivoted LU decomposition for matrix rank"
   ]
  },
  {
   "cell_type": "markdown",
   "metadata": {},
   "source": [
    "> As we will see in this section, the pivoted LU decomposition can server as a universal technique for understanding, calculating and computing the rank of any matrix. To start with, let us note that a complete $r$-step pivoted LU decomposition of a matrix provides an exact rank-$r$ factorization of the matrix."
   ]
  },
  {
   "cell_type": "markdown",
   "metadata": {},
   "source": [
    "#### Lemma 1.30 (complete $r$-step LU decomposition implies a rank-$r$ factorization)\n",
    "\n",
    "Let $m, n, r \\in \\N$ be such that $r \\le \\min\\{m, n\\}$ and $A \\in \\F^{m \\times n}$ be non-zero. Assume that $A$ has an $r$-step pivoted LU decomposition that is complete. Then $\\rank A \\le r$."
   ]
  },
  {
   "cell_type": "markdown",
   "metadata": {},
   "source": [
    "#### Lemma 1.31 (any invertible matrix has full rank)\n",
    "\n",
    "Let $n \\in \\N$ and $A \\in \\F^{n \\times n}$. Then $\\rank A = n$."
   ]
  },
  {
   "cell_type": "markdown",
   "metadata": {},
   "source": [
    "#### Lemma 1.32 (any full-rank square matrix is invertible)\n",
    "\n",
    "Let $n \\in \\N$ and $A \\in \\F^{n \\times n}$ be such that $\\rank A = n$. Then matrix $A$ is invertible."
   ]
  },
  {
   "cell_type": "markdown",
   "metadata": {},
   "source": [
    "> Using that the rank of a submatrix of a matrix does not exceed the rank of the matrix, we can strengthen the statement of lemma 1.31 as follows."
   ]
  },
  {
   "cell_type": "markdown",
   "metadata": {},
   "source": [
    "#### Corollary 1.33 (rank is at least the order of an invertible submatrix)\n",
    "\n",
    "Let $m, n, r \\in \\N$ be such that $r \\le \\min\\{m, n\\}$ and assume that $A \\in \\F^{m \\times n}$ has an invertible submatrix of size $r \\times r$. Then $r \\le \\rank A$."
   ]
  },
  {
   "cell_type": "markdown",
   "metadata": {},
   "source": [
    "#### Lemma 1.34 (number of steps in a pivoted LU decomposition and \"determinantal rank\")\n",
    "\n",
    "Let $m, n, r \\in \\N$ be such that $r \\le \\min\\{m ,n\\}$ and $A \\in \\F^{m \\times n}$ be non-zero. Assume that $A$ has a $r$-step pivoted LU decomposition. Then $A$ has an invertible submatrix of size $r \\times r$."
   ]
  },
  {
   "cell_type": "markdown",
   "metadata": {},
   "source": [
    "> Now we are ready to put the finishing touches on our result regarding the existence of complete LU decompositions: it is easy to show that the number of steps in a complete decomposition is always equal to the rank of the matrix."
   ]
  },
  {
   "cell_type": "markdown",
   "metadata": {},
   "source": [
    "#### Theorem 1.35 (pivoted LU decomposition and matrix rank)\n",
    "\n",
    "Let $m, n, r \\in \\N$ be such that $r \\le \\min\\{m, n\\}$ and $A \\in \\F^{m \\times n}$ be a non-zero matrix. Then the following statements hold:\n",
    "\n",
    "- $A$ has an invertible submatrix of size $r \\times r$ if and only if $r \\le \\rank A$.\n",
    "\n",
    "- An $r$-step pivoted LU decomposition of $A$ exists if and only if $r \\le \\rank A$.\n",
    "\n",
    "- An $r$-step pivoted LU decomposition of $A$ is complete if and only if $r = \\rank A$."
   ]
  },
  {
   "cell_type": "markdown",
   "metadata": {},
   "source": [
    "> We can now revisit lemma 1.29 and apply theorem 1.35 to specify that the number $r \\in \\N$ stated to exist in the lemma is actually nothing else than the rank of the matrix."
   ]
  },
  {
   "cell_type": "markdown",
   "metadata": {},
   "source": [
    "#### Theorem 1.36 (pivoted LU decomposition, revisited)\n",
    "\n",
    "The statement of lemma 1.29 hold with $r = \\rank A$."
   ]
  },
  {
   "cell_type": "markdown",
   "metadata": {},
   "source": [
    "> Theorems 1.35 and 1.36 lead to two important results.\n",
    "> - First, the rank of a matrix can be found for any matrix using the algorithm given in lemma 1.28. In fact it is not just the rank what it gives us: the algorithm produces a complete LU decomposition of the matrix with appropriately permutated rows and columns. This allows, for example, to solve linear systems with the matrix under consideration by inverting certain leading principal submatrices, which are in this case trianuglar and can therefore be inverted easily.\n",
    "> \n",
    "> - Second, we have established that the rank of a matrix is nothing else thatn the order of its largest invertible submatrix."
   ]
  },
  {
   "cell_type": "markdown",
   "metadata": {},
   "source": [
    "#### Lemma 1.37 (rank of a block-diagonal matrix)\n",
    "\n",
    "For $m_1, m_2, n_1, n_2 \\in \\N$ let us consider matrices $A_1 \\in \\F^{m_1 \\times n_1}$, $A_2 \\in \\F^{m_2 \\times n_2}$ and $A = \\matrix{A_1 && \\\\ && A_2} \\in \\F^{(m_1 + m_2) \\times (n_1 + n_2)}$.\n",
    "\n",
    " Then $\\rank A = \\rank A_1 + \\rank A_2$."
   ]
  },
  {
   "cell_type": "markdown",
   "metadata": {},
   "source": [
    "#### Theorem 1.38 (rank of the Schur complement)\n",
    "\n",
    "Let $m, n, p \\in \\N$ and $A \\in \\F^{m \\times n}$ be such that $p < \\rank A$. Assuming\n",
    "\n",
    "- $A = P^{\\top} L U Q$ is a $p$-step pivoted LU decomposition,\n",
    "- $S$ is the $p$-step Schur complement of $P A Q^{\\top}$,\n",
    "- and $\\hat{A} = P^{\\top} \\hat{L} \\hat{U} Q$ is the $p$-step pivoted LU approximation of $A$,\n",
    "\n",
    "then $\\rank(A - \\hat{A}) = \\rank S = \\rank A - p$."
   ]
  },
  {
   "cell_type": "markdown",
   "metadata": {},
   "source": [
    "#### Remark 1.39 (pivoted LU decomposition as the depletion of approximation error)\n",
    "\n",
    "Theorem 1.38 has an important implication for the interpretation of the pivoted LU decomposition. Consider a matrix $A \\in \\F^{m \\times n}$ with $m, n \\in \\N$ of rank $r = \\rank A \\ge 2$. By lemma 1.29 and theorem 1.36 matrix $A$ has a complete $r$-step pivoted LU decomposition. Consider the correspoding truncated decomposition $P A Q^{\\top} = \\hat{L} \\hat{U}$ with $\\hat{L} \\in \\F^{m \\times r}$ and $\\hat{U} \\in \\F^{r \\times n}$. Let $u_1, \\dots, u_r \\in \\F^m$ and $v_1, \\dots, v_r \\in \\F^n$ be the columns of $\\hat{L}$ and $\\hat{U}^{\\top}$ respectively. Then\n",
    "$$ P A Q^{\\top} = \\sum_{k=1}^r u_k v_k^{\\top} $$\n",
    "and $P A Q^{\\top}$ cannot be represented as a sum of fewer rank-one matrices because $\\rank P A Q^{\\top} = \\rank A = r$. For each $k \\in \\{1, \\dots, r\\}$, step $k$ of the pivoted LU decomposition consists in discovering the $k$th term of this sum, and the effect of this discovery is that the rank of the pivoted LU approximation is increased by one while the rank of the associated error is decreased by one."
   ]
  }
 ],
 "metadata": {
  "kernelspec": {
   "display_name": "Julia 1.8.0",
   "language": "julia",
   "name": "julia-1.8"
  },
  "language_info": {
   "file_extension": ".jl",
   "mimetype": "application/julia",
   "name": "julia",
   "version": "1.8.0"
  },
  "orig_nbformat": 4,
  "vscode": {
   "interpreter": {
    "hash": "b6278af3057b8c0d3effd5848de3f02e14695b743d24c023c07c32cca17740e4"
   }
  }
 },
 "nbformat": 4,
 "nbformat_minor": 2
}
