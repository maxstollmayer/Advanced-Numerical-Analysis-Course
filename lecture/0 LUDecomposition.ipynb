{
 "cells": [
  {
   "cell_type": "markdown",
   "metadata": {},
   "source": [
    "# LU Decomposition"
   ]
  },
  {
   "cell_type": "markdown",
   "metadata": {},
   "source": [
    "### Matrix Rank\n",
    "\n",
    "Let $\\mathbb{F}$ be a field and $m, n \\in \\mathbb{N}$. The __matrix rank__ of $A \\in \\mathbb{F}^{m \\times n}$, denoted $\\mathrm{rank} A$, is the least number $r \\in \\mathbb{N}_0$ such that there exist $u_1, \\dots, u_r \\in \\mathbb{F}^m$ and $v_1, \\dots, v_r \\in \\mathbb{F}^n$ satisfying\n",
    "\n",
    "$$ A = \\sum_{k=1}^r u_k v_k^\\top $$\n",
    "\n",
    "The set of matrices of rank not exceeding $r \\in \\mathbb{N}_0$ is denoted as\n",
    "\n",
    "$$ \\mathbb{F}^{m \\times n}_r = \\{ A \\in \\mathbb{F}^{m \\times n} \\ | \\ \\mathrm{rank} A \\le r \\} = \\bigg\\{ \\sum_{k=1}^r u_k v_k^\\top \\ \\bigg| \\ u_1, \\dots, u_r \\in \\mathbb{F}^m,\\ v_1,\\dots, v_r \\in \\mathbb{F}^n \\bigg\\} $$\n",
    "\n",
    "The only matrix with rank zero is the zero matrix, so $\\mathbb{F}^{m \\times n}_0 = \\{ 0 \\}$.\n",
    "\n",
    "Some properties of the matrix rank:\n",
    "\n",
    "- $\\mathrm{rank} A = \\mathrm{rank} A^\\top$\n",
    "- $\\mathrm{rank} A \\le \\min\\{m, n\\}$ for any $A \\in \\mathbb{F}^{m \\times n}$\n",
    "- the rank of any submatrix of $A$ does not exceed the rank of $A$\n",
    "- $A \\in \\mathbb{F}^{m \\times n}_p$ and $B \\in \\mathbb{F}^{m \\times n}_q$ with $p, q \\in \\mathbb{N}_0$ $\\implies$ $A + B \\in \\mathbb{F}^{m \\times n}_{p+q}$\n",
    "- $A \\in \\mathbb{F}^{m \\times k}_p$ and $B \\in \\mathbb{F}^{k \\times n}_q$ with $p, q \\in \\mathbb{N}_0$ $\\implies$ $AB \\in \\mathbb{F}^{m \\times n}_r$ with $r = \\min\\{p,q\\}$\n",
    "- $A \\in \\mathbb{F}^{m \\times n}$ then $\\mathrm{rank} A = \\mathrm{rank} PAQ$ for any invertible matrices $P \\in \\mathbb{F}^{m \\times m}$ and $Q \\in \\mathbb{F}^{n \\times n}$\n",
    "\n",
    "A representation of $A \\in \\mathbb{F}^{m \\times n}$ for $m, n \\in \\mathbb{N}$ of the form $A = UV^\\top$ with $U \\in \\mathbb{F}^{m \\times r}$ and $V \\in \\mathbb{F}^{n \\times r}$ for some $r \\in \\mathbb{N}$ is called __rank-r factorization__ of $A$.\n",
    "\n",
    "$A \\in \\mathbb{F}^{m \\times n}_r \\iff$ there exists a rank-$r$ factorization of $A$.\n",
    "\n",
    "The rank-$r$ factorization is not unique though since $UV^\\top = \\tilde{U} \\tilde{V}^\\top$ with $\\tilde{U} = UT$ and $\\tilde{V} = V(T^{-1})^\\top$ for any invertible matrix $T \\in \\mathbb{F}^{r \\times r}$."
   ]
  },
  {
   "cell_type": "markdown",
   "metadata": {},
   "source": [
    "### LU Decomposition\n",
    "\n",
    "__Lemma 1__ (inversion of a single step of Gaussian elimination) \\\n",
    "For $m \\in \\mathbb{N}$ and $k \\in \\{1, \\dots, m\\}$, let $I \\in \\mathbb{F}^{m \\times m}$ denote the identity matrix, $e_k \\in \\mathbb{F}^m$ be column $k$ of $I$ and $\\ell \\in \\mathbb{F}^m$ with zeroes as entries 1 to $k$. Then the matrix $I - \\ell e_k^\\top$ is invertible with $\\big(I - \\ell e_k^\\top \\big)^{-1} = I + \\ell e_k^\\top$.\n",
    "\n",
    "__Lemma 2__ (representation of $r$ steps of Gaussian elimination) \\\n",
    "For $m \\in \\mathbb{N}$ and $r \\in \\{1, \\dots, m\\}$ and $\\ell_1, \\dots, \\ell_r \\in \\mathbb{F}^m$ such that components 1 to $k$ of $\\ell_k$ are all zero for each $k \\in \\{1, \\dots, r\\}$. Then $(I + \\ell_1 e_1^\\top) \\cdots (I + \\ell_r e_r^\\top) = I + \\sum_{k=1}^r \\ell_k e_k^\\top$.\n",
    "\n",
    "$A = LU \\in \\mathbb{F}^{m \\times n}$ is called an __r-step LU decomposition__ with $L$ and $U$ as __r-step LU factors__ if\n",
    "- for $r < \\min\\{m, n\\}$: $L \\in \\mathbb{F}^{m \\times m}$ is of the form $L = \\begin{pmatrix} L_1 & \\\\ L_2 & I_2 \\end{pmatrix}$ and $U \\in \\mathbb{F}^{m \\times n}$ is of the form $\\begin{pmatrix} U_1 & U_2 \\\\ & S \\end{pmatrix}$, where $L_1 \\in \\mathbb{F}^{r \\times r}$ is a unit lower-triangular matrix, $U_1 \\in \\mathbb{F}^{r \\times r}$ an upper-triangular matrix with no zeros on the diagonal, $I_2$ the identity matrix of order $m-r$ and $L_2 \\in \\mathbb{F}^{(m-r) \\times r}$, $U_2 \\in \\mathbb{F}^{r \\times (m-r)}$ and $S \\in \\mathbb{F}^{(m-r) \\times (n-r)}$ are arbitrary.\n",
    "- for $r = \\min\\{m, n\\}$: $L$ is a unit lower-triangular matrix and $U$ is an upper-triangular matrix with no zeros on the diagonal.\n",
    "\n",
    "When $r < \\min\\{m, n\\}$ and $S$ is nonzero, $S$ is called __r-step Schur complement__ and the r-step LU decomposition is called __incomplete__.\n",
    "When $r = \\min\\{m, n\\}$ and $S$ is zero then the r-step LU decomposition is called __complete__.\n",
    "\n",
    "For any $m, n \\in \\mathbb{N}$, $p \\in \\{ 1, \\dots, m\\}$, $q \\in \\{1, \\dots, n\\}$ and $A \\in \\mathbb{F}^{m \\times n}$, the submatrix of $A$ formed by rows $1, \\dots, p$ and columns $1, \\dots, q$ is called the __leading principal submatrix__ of size $p \\times q$ of $A$."
   ]
  },
  {
   "cell_type": "markdown",
   "metadata": {},
   "source": []
  },
  {
   "cell_type": "code",
   "execution_count": 1,
   "metadata": {},
   "outputs": [
    {
     "data": {
      "text/plain": [
       "rStepLUDecomposition (generic function with 2 methods)"
      ]
     },
     "metadata": {},
     "output_type": "display_data"
    }
   ],
   "source": [
    "function rStepLU(A::Matrix{T}, r::Union{Integer, Nothing}=nothing) where {T}\n",
    "    m, n = size(A)\n",
    "    min_dim = min(m, n)\n",
    "\n",
    "    # promotes the element type of input matrix\n",
    "    UT = typeof(oneunit(T) - oneunit(T) * oneunit(T) / oneunit(T))\n",
    "    LT = typeof(oneunit(UT) / oneunit(UT))\n",
    "    T = promote_type(T, LT, UT)\n",
    "\n",
    "    # validate rank\n",
    "    if r == nothing\n",
    "        r = min_dim\n",
    "    elseif r < 1 || r > min_dim\n",
    "        throw(ArgumentError(\"rank does not satisfy 1 ≤ r ≤ $min_dim: got $r\"))\n",
    "    end\n",
    "\n",
    "    # initialization of U and L\n",
    "    U = convert(Matrix{T}, copy(A))\n",
    "    L = zeros(T, (m, m))\n",
    "    for i = 1:m\n",
    "        L[i,i] = oneunit(T)\n",
    "    end\n",
    "\n",
    "    for k = 1:r\n",
    "        # step k of Gaussian elimination\n",
    "        for i = (k+1):m\n",
    "            if U[k,k] == zero(T)\n",
    "                return L, U\n",
    "            end\n",
    "\n",
    "            # compute elimination coefficient for row i\n",
    "            L[i,k] = U[i,k] / U[k,k]\n",
    "\n",
    "            # eliminate component i in the current column of U\n",
    "            U[i,k] = zero(T)\n",
    "\n",
    "            # update row i of U to compute the corresponding row of the Schur complement\n",
    "            for j = (k+1):n\n",
    "                U[i,j] = U[i,j] - L[i,k] * U[k,j]\n",
    "            end\n",
    "        end\n",
    "    end\n",
    "    return L, U\n",
    "end\n"
   ]
  },
  {
   "cell_type": "code",
   "execution_count": 15,
   "metadata": {},
   "outputs": [
    {
     "name": "stdout",
     "output_type": "stream",
     "text": [
      "r-step approximation error\n",
      "r | MAE\n",
      "1 | 0.1995592386779962\n",
      "2 | 0.14329210369426387\n",
      "3 | 0.15589645438787275\n",
      "4 | 0.0839072980864766\n",
      "5 | 1.9825411154020653e-17\n"
     ]
    }
   ],
   "source": [
    "m = 7; n = 5\n",
    "A = rand(Float64, (m,n))\n",
    "\n",
    "println(\"r-step approximation error\")\n",
    "println(\"r | MAE\")\n",
    "for r = 1:min(m,n)\n",
    "    L, U = rStepLU(A, r)\n",
    "    println(r, \" | \", sum(abs.(A - L[:,1:r] * U[1:r,:])) / m / n)\n",
    "end"
   ]
  },
  {
   "cell_type": "markdown",
   "metadata": {},
   "source": []
  },
  {
   "cell_type": "markdown",
   "metadata": {},
   "source": [
    "## Pivoted LU Decomposition"
   ]
  },
  {
   "cell_type": "markdown",
   "metadata": {},
   "source": [
    "## Implications of the pivoted LU decomposition for matrix rank"
   ]
  }
 ],
 "metadata": {
  "kernelspec": {
   "display_name": "Julia 1.7.3",
   "language": "julia",
   "name": "julia-1.7"
  },
  "language_info": {
   "file_extension": ".jl",
   "mimetype": "application/julia",
   "name": "julia",
   "version": "1.7.3"
  },
  "orig_nbformat": 4,
  "vscode": {
   "interpreter": {
    "hash": "b6278af3057b8c0d3effd5848de3f02e14695b743d24c023c07c32cca17740e4"
   }
  }
 },
 "nbformat": 4,
 "nbformat_minor": 2
}
