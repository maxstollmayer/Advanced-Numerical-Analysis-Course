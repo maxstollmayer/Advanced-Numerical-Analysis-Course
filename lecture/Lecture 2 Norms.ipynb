{
 "cells": [
  {
   "cell_type": "markdown",
   "metadata": {},
   "source": [
    "# Lecture 2: Vector and Matrix Norms"
   ]
  },
  {
   "cell_type": "markdown",
   "metadata": {},
   "source": [
    "In this lecture we recapitulate the definitions and base properties of vector and matrix norms and of the eigenvalue decomposition. Norms will soon let us analyze the convergence of iterative methods for linear systems, which will be quantified in terms of the spectral properties of matrices."
   ]
  },
  {
   "cell_type": "markdown",
   "metadata": {},
   "source": [
    "#### Definiton 2.1\n",
    "\n",
    "Let $V$ be a vector space over a field $\\mathbb{F}$. A function $\\| \\cdot \\| : V \\to \\mathbb{R}$ is called a **norm** on $V$ if\n",
    "\n",
    "$$\\begin{alignat*}{2}\n",
    "    \\text{(i)} &\\quad \\text{(non-negativity)} \\quad && \\| v \\| \\ge 0 \\ \\forall v \\in V \\\\\n",
    "    \\text{(ii)} &\\quad \\text{(non-degeneracy)} \\quad && \\| v \\| \\ne 0 \\ \\forall v \\in V \\\\\n",
    "    \\text{(iii)} &\\quad \\text{(homogeneity)} \\quad && \\|\\alpha \\, v\\| = |\\alpha| \\, \\| v \\| \\ \\forall \\alpha \\in \\mathbb{F} \\ \\forall v \\in V \\\\\n",
    "    \\text{(iv)} &\\quad \\text{(triangle inequality)} \\quad && \\|u + v\\| \\le \\|u\\| + \\|v\\| \\ \\forall u,v \\in V\n",
    "\\end{alignat*}$$"
   ]
  },
  {
   "cell_type": "markdown",
   "metadata": {},
   "source": [
    "### Example 2.2\n",
    "\n",
    "Let $V = \\mathbb{F}^n$ for $n \\in \\mathbb{N}$.\n",
    "\n",
    "- $\\displaystyle \\| v \\|_\\infty = \\max_{i \\in \\{1, \\dots, n\\}} |v_i| \\quad \\forall v \\in V$\n",
    "\n",
    "- $\\displaystyle \\| v \\|_p = \\bigg( \\sum_{i=1}^n |v_i|^p \\bigg)^{\\frac{1}{p}}$ for $p \\in [1, \\infty)$\n",
    "\n",
    "These are called $p$**-norms** for $p \\in [1, \\infty]$."
   ]
  },
  {
   "cell_type": "markdown",
   "metadata": {},
   "source": [
    "### Definition 2.3\n",
    "\n",
    "Let $V = \\mathbb{F}^{m \\times n}$ for $m,n \\in \\mathbb{N}$.\n",
    "\n",
    "- $\\displaystyle \\|A\\|_{\\max} = \\max_{i \\in \\{1, \\dots, m\\} \\\\ j \\in \\{1, \\dots, n\\}} |a_{ij}| \\quad \\forall A \\in V$ is called **Chebyshev norm** in some sources\n",
    "\n",
    "- $\\displaystyle \\|A\\|_F = \\sqrt{\\sum_{i=1}^m \\sum_{j=1}^n |a_{ij}^2|} \\quad \\forall A \\in V$ is called **Frobenius norm**"
   ]
  },
  {
   "cell_type": "markdown",
   "metadata": {},
   "source": []
  }
 ],
 "metadata": {
  "kernelspec": {
   "display_name": "Julia 1.8.0",
   "language": "julia",
   "name": "julia-1.8"
  },
  "language_info": {
   "file_extension": ".jl",
   "mimetype": "application/julia",
   "name": "julia",
   "version": "1.8.0"
  },
  "orig_nbformat": 4
 },
 "nbformat": 4,
 "nbformat_minor": 2
}
