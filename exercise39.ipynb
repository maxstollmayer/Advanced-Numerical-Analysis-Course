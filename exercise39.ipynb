{
 "cells": [
  {
   "cell_type": "markdown",
   "id": "1a8a1a43-269e-4910-91a4-fcb3c6010412",
   "metadata": {},
   "source": [
    "# Advanced Numerical Analysis\n",
    "\n",
    "## Exercise 39"
   ]
  },
  {
   "cell_type": "markdown",
   "id": "c2c8bc4d-50c7-442b-9ca9-33426a00a47a",
   "metadata": {},
   "source": [
    "$\\textrm{(i)} \\quad$ *Find the relationship between the coefficients of the Fourier series for a function* $f(x)$ *with period* $2 \\pi$ *and* $g(x) := f(m x)$ *with* $m \\in \\mathbb{Z} \\setminus \\{0\\}.$"
   ]
  },
  {
   "cell_type": "markdown",
   "id": "27ab11e0-fee7-4de2-b253-8921cfc3bf04",
   "metadata": {},
   "source": [
    "$g$ has period $\\frac{2 \\pi}{|m|}$ since $g(x + \\frac{2 \\pi}{|m|}) = f(mx \\pm 2 \\pi) = f(mx) = g(x).$ Then\n",
    "\n",
    "$$\\begin{align*}\n",
    "g_k &= \\frac{1}{2 \\pi} \\int_0^{2 \\pi} g(x) e^{-i k x} \\, \\textrm{d}x \\\\\n",
    "&= \\sum_{l=0}^{|m|-1} \\frac{1}{2\\pi} \\int_{2\\pi l / |m|}^{2\\pi (l+1) / |m|} g(x) e^{-i k x} \\, \\textrm{d}x \\\\\n",
    "&= \\sum_{l=0}^{|m|-1} \\frac{1}{2\\pi} \\int_{0}^{2\\pi / |m|} g(2\\pi l / |m| + r) e^{-i k (2\\pi l / |m| + r)} \\, \\textrm{d}r \\\\\n",
    "&= \\sum_{l=0}^{|m|-1} e^{-2\\pi i k l / |m|} \\frac{1}{2\\pi} \\int_{0}^{2\\pi / |m|} g(r) e^{-i k r} \\, \\textrm{d}r \\\\\n",
    "&= \\frac{1 - e^{-2\\pi i k}}{1 - e^{-2\\pi i k/|m|}} \\frac{1}{2\\pi} \\int_{0}^{2\\pi / |m|} g(r) e^{-i k r} \\, \\textrm{d}r \\\\\n",
    "&= \\frac{1 - e^{-2\\pi i k}}{1 - e^{-2\\pi i k/|m|}} \\frac{1}{2\\pi} \\int_{0}^{2\\pi / |m|} g(r) e^{-i k r} \\, \\textrm{d}r\n",
    "\\end{align*}$$"
   ]
  },
  {
   "cell_type": "markdown",
   "id": "d209d2e5-e4fd-4e70-a4e1-205844a9f74f",
   "metadata": {},
   "source": [
    "$$ $$\n",
    "$\\textrm{(ii)} \\quad$ *Find the necessary and sufficient condition for the coefficients of a Fourier series to represent an even (and an odd) function* $f(x)$ *with period* $2 \\pi.$"
   ]
  },
  {
   "cell_type": "code",
   "execution_count": 2,
   "id": "88691841-6793-4906-89c6-6fa90cb61a50",
   "metadata": {},
   "outputs": [
    {
     "name": "stdout",
     "output_type": "stream",
     "text": [
      "ans =\n",
      "\n",
      " Columns 1 through 4:\n",
      "\n",
      "   1.0000 - 0.0000i   1.0000 - 0.0000i   1.0000 - 0.0000i   1.0000 - 0.0000i\n",
      "\n",
      " Columns 5 through 8:\n",
      "\n",
      "   1.0000 - 0.0000i   1.0000 -      0i   1.0000 + 0.0000i   1.0000 + 0.0000i\n",
      "\n",
      " Columns 9 through 11:\n",
      "\n",
      "   1.0000 + 0.0000i   1.0000 + 0.0000i   1.0000 + 0.0000i\n",
      "\n"
     ]
    }
   ],
   "source": [
    "exp(-2i * pi * [-5:5])"
   ]
  },
  {
   "cell_type": "code",
   "execution_count": null,
   "id": "6db90204-e869-4f8c-a144-6219056ea0b5",
   "metadata": {},
   "outputs": [],
   "source": []
  }
 ],
 "metadata": {
  "kernelspec": {
   "display_name": "Octave",
   "language": "octave",
   "name": "octave"
  },
  "language_info": {
   "file_extension": ".m",
   "help_links": [
    {
     "text": "GNU Octave",
     "url": "https://www.gnu.org/software/octave/support.html"
    },
    {
     "text": "Octave Kernel",
     "url": "https://github.com/Calysto/octave_kernel"
    },
    {
     "text": "MetaKernel Magics",
     "url": "https://metakernel.readthedocs.io/en/latest/source/README.html"
    }
   ],
   "mimetype": "text/x-octave",
   "name": "octave",
   "version": "6.2.0"
  }
 },
 "nbformat": 4,
 "nbformat_minor": 5
}
