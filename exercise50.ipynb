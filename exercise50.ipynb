{
 "cells": [
  {
   "cell_type": "markdown",
   "id": "df310648-1b59-4477-aaa1-2bfe536129e0",
   "metadata": {},
   "source": [
    "# Advanced Numerical Analysis\n",
    "\n",
    "## Exercise 50 - Error of central finite differences"
   ]
  },
  {
   "cell_type": "markdown",
   "id": "c2f25607-6908-47e9-97c7-5ebbdb449562",
   "metadata": {},
   "source": [
    "*Let* $\\Delta_h f(x) := f(x+h) - 2 f(x) + f(x-h)$.\n",
    "\n",
    "$\\textrm{(i)} \\quad$ *Find an explicit constant* $C > 0$ *for which you can prove that, for* $f \\in \\mathcal{C}^4([a,b])$ *and* $x \\in [a+h, b-h],$\n",
    "\n",
    "$$ |h^2 f''(x) - \\Delta_h f(x)| \\le C h^4 |\\!|f^{(4)}|\\!|_\\infty, $$\n",
    "\n",
    "*where* $|\\!|f^{(4)}|\\!|_\\infty = \\sup_{x \\in [a, b]} |f^{(4)}(x)|.$"
   ]
  },
  {
   "cell_type": "markdown",
   "id": "a4503334-82d8-4b7e-9687-9afe22782d64",
   "metadata": {},
   "source": [
    "There exists a $\\xi \\in [x, x+h]$ such that $f(x+h) = f(x) + h f'(x) + \\frac{h^2}{2} f''(x) + \\frac{h^3}{6} f'''(x) + \\frac{h^4}{24} f^{(4)}(\\xi)$ and a $\\eta \\in [x-h, x]$ such that $f(x-h) = f(x) - h f'(x) + \\frac{h^2}{2} f''(x) - \\frac{h^3}{6} f'''(x) + \\frac{h^4}{24} f^{(4)}(\\eta)$ for all $x \\in [a+h, b-h].$ Plugging these Taylor expansions into the left hand side from above and simplifying yields the desired constant.\n",
    "\n",
    "$$\\begin{align*}\n",
    "|h^2 f''(x) - \\Delta_h f(x)| &= |h^2 f''(x) - f(x+h) + 2 f(x) - f(x-h)| \\\\\n",
    "& \\begin{split} = \\big|h^2 f''(x) - \\big( f(x) + h f'(x) + \\frac{h^2}{2} f''(x) + \\frac{h^3}{6} f'''(x) + \\frac{h^4}{24} f^{(4)}(\\xi) \\big) \\\\\n",
    "+ 2 f(x) - \\big( f(x) - h f'(x) + \\frac{h^2}{2} f''(x) - \\frac{h^3}{6} f'''(x) + \\frac{h^4}{24} f^{(4)}(\\eta) \\big) \\big| \\end{split} \\\\\n",
    "&= \\big|h^2 f''(x) - h^2 f''(x) - \\frac{h^4}{24} \\big( f^{(4)}(\\xi) + f^{(4)}(\\eta) \\big) \\big| \\\\\n",
    "&=  \\frac{h^4}{24} \\big| f^{(4)}(\\xi) + f^{(4)}(\\eta) \\big| \\\\\n",
    "&\\le \\frac{h^4}{12} |\\!|f^{(4)}|\\!|_\\infty\n",
    "\\end{align*}$$\n",
    "\n",
    "Therefore the inequality holds with $C = \\frac{1}{12}.$"
   ]
  },
  {
   "cell_type": "markdown",
   "id": "a0f3f249-5e0d-40db-8ec6-31a55648e809",
   "metadata": {},
   "source": [
    "$$ $$\n",
    "$\\textrm{(ii)} \\quad$ *Check the quality of the error bound by evaluating the ratio of both sides for the special cases* $[a, b] = [−1, 1]$ *and* $f(x) = x^k,$ *where* $k = 1, \\dots, 6.$"
   ]
  },
  {
   "cell_type": "markdown",
   "id": "54b2d61e-6852-49a7-acc6-0a56c0efd147",
   "metadata": {},
   "source": [
    "Since $f^{(4)} \\equiv 0$ for $k = 1,2,3$ we have the trivial inequality $0 \\le 0.$\n",
    "\n",
    "For $k=4$ we obtain $|h^2 f''(x) - \\Delta_h f(x)| = |12 h^2 x^2 - 2 h^4 - 12 h^2 x^2| = 2 h^4$ and $C h^4 |\\!|f^{(4)}|\\!|_\\infty = \\frac{h^4}{12} f^{(4)}(1) = 2 h^4$. Thus the ratio is $\\frac{|h^2 f''(x) - \\Delta_h f(x)|}{C h^4 ||f^{(4)}||_\\infty} = 1 \\le 1.$\n",
    "\n",
    "Analogously we get $\\frac{10 h^4 |x|}{10 h^4} \\le \\frac{10 h^4 (1-h)}{10 h^4} = 1-h \\le 1$ for $k = 5$ and $\\frac{2 h^4 |15 x^2 + h^2|}{30 h^4} \\le \\frac{15 (1-h)^2 + h^2}{15} = \\frac{16}{15}h^2 - 2h + 1 \\le 1$ if $0 \\le h \\le \\frac{15}{8}$ for $k = 6.$"
   ]
  }
 ],
 "metadata": {
  "kernelspec": {
   "display_name": "Octave",
   "language": "octave",
   "name": "octave"
  },
  "language_info": {
   "file_extension": ".m",
   "help_links": [
    {
     "text": "GNU Octave",
     "url": "https://www.gnu.org/software/octave/support.html"
    },
    {
     "text": "Octave Kernel",
     "url": "https://github.com/Calysto/octave_kernel"
    },
    {
     "text": "MetaKernel Magics",
     "url": "https://metakernel.readthedocs.io/en/latest/source/README.html"
    }
   ],
   "mimetype": "text/x-octave",
   "name": "octave",
   "version": "6.2.0"
  }
 },
 "nbformat": 4,
 "nbformat_minor": 5
}
