{
 "cells": [
  {
   "cell_type": "markdown",
   "id": "65084f2f-2612-42c0-9567-ff05308e0d2d",
   "metadata": {},
   "source": [
    "# Advanced Numerical Analysis\n",
    "\n",
    "## Exercise 55 - Continuity of piecewise polynomials"
   ]
  },
  {
   "cell_type": "markdown",
   "id": "39f40fd1-a692-442e-a9b6-77dfba7bad4a",
   "metadata": {},
   "source": [
    "*Let* $\\Delta_1$ *and* $\\Delta_2$ *be two triangles intersecting in the common side* $\\overline{uv}.$ *Suppose that the polynomials* $f_1$ *and* $f_2$ *agree on* $k+1$ *distinct points of* $\\overline{uv}.$\n",
    "\n",
    "*Show that if* $f_1$ *and* $f_2$ *restricted to* $\\overline{uv}$ *have total degree* $\\le k$ *then*\n",
    "\n",
    "$$ f(x) := \\begin{cases}\n",
    "f_1(x) \\quad \\textrm{if} x \\in \\Delta_1, \\\\\n",
    "f_2(x) \\quad \\textrm{if} x \\in \\Delta_2\n",
    "\\end{cases}$$\n",
    "\n",
    "*defines a continuous function* $f : \\Delta_1 \\cup \\Delta_2 \\rightarrow \\mathbb{R}.$"
   ]
  },
  {
   "cell_type": "markdown",
   "id": "4501f8ea-bb54-41aa-9e62-c56d89d77b32",
   "metadata": {},
   "source": [
    "Suppose w.l.o.g. that $u = (0,0)$ and $v = (1,0)$ like in exercise 56. Then $f_1\\big|_\\overline{uv}$ and $f_2\\big|_\\overline{uv}$ are one-dimensional polynomials with degree $\\le k$ that agree on $k+1$ distinct points. Therefore $f_1\\big|_\\overline{uv} = f_2\\big|_\\overline{uv}$ and $f$ is continuous."
   ]
  }
 ],
 "metadata": {
  "kernelspec": {
   "display_name": "Octave",
   "language": "octave",
   "name": "octave"
  },
  "language_info": {
   "file_extension": ".m",
   "help_links": [
    {
     "text": "GNU Octave",
     "url": "https://www.gnu.org/software/octave/support.html"
    },
    {
     "text": "Octave Kernel",
     "url": "https://github.com/Calysto/octave_kernel"
    },
    {
     "text": "MetaKernel Magics",
     "url": "https://metakernel.readthedocs.io/en/latest/source/README.html"
    }
   ],
   "mimetype": "text/x-octave",
   "name": "octave",
   "version": "6.2.0"
  }
 },
 "nbformat": 4,
 "nbformat_minor": 5
}
