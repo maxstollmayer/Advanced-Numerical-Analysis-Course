{
 "cells": [
  {
   "cell_type": "markdown",
   "id": "clinical-christianity",
   "metadata": {},
   "source": [
    "# Advanced Numerical Analysis"
   ]
  },
  {
   "cell_type": "markdown",
   "id": "continent-scotland",
   "metadata": {},
   "source": [
    "## Exercise 8"
   ]
  },
  {
   "cell_type": "markdown",
   "id": "reflected-entertainment",
   "metadata": {},
   "source": [
    "_The spectral radius of_ $A\\in\\mathbb{C}^{n \\times n}$ _is defined as_ $\\rho(A) := {\\displaystyle \\max_{i=1:n}} \\ |\\lambda_i|,$ _where_ $\\lambda_i$ _are the eigenvalues of_ $A.$ _Show:_"
   ]
  },
  {
   "cell_type": "markdown",
   "id": "brave-inflation",
   "metadata": {},
   "source": [
    "$(\\textrm{i})\\quad$ _For each matrix norm_ $\\rho(A) \\le |\\!|A|\\!|.$\n",
    "\n",
    "Let $\\lambda$ be an eigenvalue of $A$ with corresponding eigenvector $v$ and let $|\\!|\\cdot|\\!|$ be a sub-multiplicative matrix norm. Then $|\\lambda||\\!|v|\\!| = |\\!|\\lambda v|\\!| = |\\!|Av|\\!| \\le |\\!|A|\\!||\\!|v|\\!|$ and since $v\\ne0$ it follows that $|\\lambda| \\le |\\!|A|\\!|$ for all eigenvalues $\\lambda$ of $A.$ Therefore $\\rho(A)\\le |\\!|A|\\!|.$"
   ]
  },
  {
   "cell_type": "markdown",
   "id": "conscious-chase",
   "metadata": {},
   "source": [
    "$(\\textrm{ii})\\quad$ _If $A$ is Hermitian then_ $\\rho(A) = |\\!|A|\\!|_2.$\n",
    "\n",
    "Since $A$ is Hermitian there exists a spectral decomposition $A = Q \\Lambda Q^{-1}$ with unitary matrix $Q$ and diagonal eigenvalue matrix $\\Lambda.$ Because of $(\\textrm{i})$ it suffices to show that $|\\!|A|\\!|_2 \\le \\rho(A):$\n",
    "\n",
    "$$\\begin{align*}\n",
    "|\\!|A|\\!|_2 &= |\\!|Q \\Lambda Q^{-1}|\\!|_2 \\le |\\!|Q|\\!|_2 |\\!|\\Lambda|\\!|_2 |\\!|Q^{-1}|\\!|_2 = |\\!|\\Lambda|\\!|_2 = \\sup_{|\\!|x|\\!|_2 = 1} |\\!|\\Lambda x|\\!|_2 = \\sup_{|\\!|x|\\!|_2 = 1} \\sqrt{\\sum_{i=1}^n |\\lambda_i x_i|^2} \\\\\n",
    "&\\le \\sup_{|\\!|x|\\!|_2 = 1} \\rho(A) \\sqrt{\\sum_{i=1}^n |x_i|^2} = \\rho(A) \\sup_{|\\!|x|\\!|_2 = 1} |\\!|x|\\!|_2 \\\\\n",
    "&= \\rho(A)\n",
    "\\end{align*}$$"
   ]
  }
 ],
 "metadata": {
  "kernelspec": {
   "display_name": "Octave",
   "language": "octave",
   "name": "octave"
  },
  "language_info": {
   "file_extension": ".m",
   "help_links": [
    {
     "text": "GNU Octave",
     "url": "https://www.gnu.org/software/octave/support.html"
    },
    {
     "text": "Octave Kernel",
     "url": "https://github.com/Calysto/octave_kernel"
    },
    {
     "text": "MetaKernel Magics",
     "url": "https://metakernel.readthedocs.io/en/latest/source/README.html"
    }
   ],
   "mimetype": "text/x-octave",
   "name": "octave",
   "version": "6.2.0"
  }
 },
 "nbformat": 4,
 "nbformat_minor": 5
}
