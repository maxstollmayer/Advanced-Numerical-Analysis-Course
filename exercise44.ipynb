{
 "cells": [
  {
   "cell_type": "markdown",
   "id": "b45d2ade-e51a-4fc5-8366-46a3a66f1e46",
   "metadata": {},
   "source": [
    "# Advanced Numerical Analysis\n",
    "\n",
    "## Exercise 44"
   ]
  },
  {
   "cell_type": "markdown",
   "id": "3d5b1305-ea0e-4029-83db-449303a3bc26",
   "metadata": {},
   "source": [
    "$\\textrm{(i)} \\quad$ *Discuss by hand the FFT for the case* $N = 6, T1 = 2, T2 = 3,$ *and compare the number of operations needed with the case* $N = 6, T1 = 3, T2 = 2$ *discussed in the lecture.*"
   ]
  },
  {
   "cell_type": "markdown",
   "id": "1b988532-def4-4cae-8fed-643ad101c522",
   "metadata": {},
   "source": []
  },
  {
   "cell_type": "markdown",
   "id": "314b2037-2882-43f4-83f5-fd6719d70032",
   "metadata": {},
   "source": [
    "$\\textrm{(i)} \\quad$ *Let* $\\hat{z} := F_N(z)$ *be the discrete Fourier transform of* $z \\in \\mathbb{C}^n.$ *Show that* $F^*_N(\\hat{z}) = Nz.$ *How can one efficiently recover the original vector* $z = \\tilde{F}_N(\\hat{z})$ *from* $\\hat{z}$*?*"
   ]
  },
  {
   "cell_type": "markdown",
   "id": "ac667dc9-a605-47d3-81d2-890a49657644",
   "metadata": {},
   "source": []
  }
 ],
 "metadata": {
  "kernelspec": {
   "display_name": "Octave",
   "language": "octave",
   "name": "octave"
  },
  "language_info": {
   "file_extension": ".m",
   "help_links": [
    {
     "text": "GNU Octave",
     "url": "https://www.gnu.org/software/octave/support.html"
    },
    {
     "text": "Octave Kernel",
     "url": "https://github.com/Calysto/octave_kernel"
    },
    {
     "text": "MetaKernel Magics",
     "url": "https://metakernel.readthedocs.io/en/latest/source/README.html"
    }
   ],
   "mimetype": "text/x-octave",
   "name": "octave",
   "version": "6.2.0"
  }
 },
 "nbformat": 4,
 "nbformat_minor": 5
}
