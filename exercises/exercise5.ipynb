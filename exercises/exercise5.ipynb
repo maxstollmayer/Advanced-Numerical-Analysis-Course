{
 "cells": [
  {
   "cell_type": "markdown",
   "id": "clinical-christianity",
   "metadata": {},
   "source": [
    "# Advanced Numerical Analysis"
   ]
  },
  {
   "cell_type": "markdown",
   "id": "tropical-reform",
   "metadata": {},
   "source": [
    "## Exercise 5"
   ]
  },
  {
   "cell_type": "markdown",
   "id": "fundamental-capture",
   "metadata": {},
   "source": [
    "_Consider the block diagonal matrix_ $A = \\big(\\begin{smallmatrix} A_1 & 0 \\\\ 0 & A_2 \\end{smallmatrix}\\big).$ _Suppose that_ $A_i$ _has a spectral factorization_ $A_i = S_i \\Lambda_i S_i^{-1}$ for $i= 1,2.$\n",
    "\n",
    "$(\\textrm{i})\\quad$ _What is the spectral factorization of $A$?_\n",
    "\n",
    "Let $\\Lambda = \\big(\\begin{smallmatrix} \\Lambda_1 & 0 \\\\ 0 & \\Lambda_2 \\end{smallmatrix}\\big)$ and $S=\\big(\\begin{smallmatrix} S_1 & 0 \\\\ 0 & S_2 \\end{smallmatrix}\\big).$ Then $S$ is unitary since $S^* = \\big(\\begin{smallmatrix} S_1^* & 0 \\\\ 0 & S_2^* \\end{smallmatrix}\\big) = \\big(\\begin{smallmatrix} S_1^{-1} & 0 \\\\ 0 & S_2^{-1} \\end{smallmatrix}\\big) = S^{-1}.$ Therefore the spectral factorization of $A$ is $S\\Lambda S^{-1} = \\big(\\begin{smallmatrix} S_1 & 0 \\\\ 0 & S_2 \\end{smallmatrix}\\big) \\big(\\begin{smallmatrix} \\Lambda_1 & 0 \\\\ 0 & \\Lambda_2 \\end{smallmatrix}\\big) \\big(\\begin{smallmatrix} S_1^{-1} & 0 \\\\ 0 & S_2^{-1} \\end{smallmatrix}\\big) = \\big(\\begin{smallmatrix} S_1\\Lambda_1 S_1^{-1} & 0 \\\\ 0 & S_2\\Lambda_2 S_2^{-1} \\end{smallmatrix}\\big) = \\big(\\begin{smallmatrix} A_1 & 0 \\\\ 0 & A_2 \\end{smallmatrix}\\big) = A.$"
   ]
  },
  {
   "cell_type": "markdown",
   "id": "governing-oregon",
   "metadata": {},
   "source": [
    "$(\\textrm{ii})\\quad$ _Suppose_ $\\lambda$ _is an eigenvalue of_ $A_1$ _or_ $A_2.$ _Describe the eigenvectors of_ $A$ _belonging to_ $\\lambda.$\n",
    "\n",
    "If $A \\big(\\begin{smallmatrix} v_1 \\\\ v_2 \\end{smallmatrix}\\big) = \\big(\\begin{smallmatrix} A_1 v_1 \\\\ A_2 v_2 \\end{smallmatrix}\\big) = \\big(\\begin{smallmatrix} \\lambda v_1 \\\\ \\lambda v_2 \\end{smallmatrix}\\big)$ then $v_1$ and $v_2$ must be in the respective eigenspaces of $A_1$ and $A_2$ corresponding to $\\lambda.$ Therefore $v = \\big(\\begin{smallmatrix} v_1 \\\\ v_2 \\end{smallmatrix}\\big)$ is an eigenvector of $A$ corresponding to $\\lambda$ if and only if either both $v_1$ and $v_2$ are respective eigenvectors or just one is an eigenvector and the other the zero vector."
   ]
  },
  {
   "cell_type": "markdown",
   "id": "stainless-advocate",
   "metadata": {},
   "source": [
    "$(\\textrm{iii})\\quad$ _Answer the corresponding questions for_ $A = \\big(\\begin{smallmatrix} A_{11} & A_{12} \\\\ 0 & A_{22} \\end{smallmatrix}\\big)$ _and the Schur decomposition of_ $A.$\n",
    "\n",
    "- Let $A_{ii} = Q_{ii} R_{ii} Q_{ii}^*$ for unitary matrices $Q_{ii}$ and upper triangular matrices $R_{ii},\\ i=1,2$ and $Q = \\big(\\begin{smallmatrix} Q_{11} & 0 \\\\ 0 & Q_{22} \\end{smallmatrix}\\big),\\ R = \\big(\\begin{smallmatrix} R_{11} & Q_{11}^* A_{12} Q_{22} \\\\ 0 & R_{22} \\end{smallmatrix}\\big).$ Then $Q$ is unitary, $R$ is an upper triangular matrix and the Schur decomposition of $A$ is $QRQ^* = \\big(\\begin{smallmatrix} Q_{11} R_{11} Q_{11}^* & Q_{11} Q_{11}^* A_{12} Q_{22} Q_{22}^* \\\\ 0 & Q_{22} R_{22} Q_{22}^* \\end{smallmatrix}\\big) = A.$\n",
    "\n",
    "\n",
    "\n",
    "- Let $\\lambda$ be an eigenvalue of $A.$ If $v_1\\in\\textrm{E}(A_{11},\\lambda)$ and $v_2\\in\\textrm{E}(A_{22},\\lambda)\\cap \\textrm{ker}(A_{12})$ then $A \\big(\\begin{smallmatrix} v_1 \\\\ v_2 \\end{smallmatrix}\\big) = \\big(\\begin{smallmatrix} A_{11} v_1 + A_{12} v_2 \\\\ A_2 v_2 \\end{smallmatrix}\\big) = \\big(\\begin{smallmatrix} \\lambda v_1 \\\\ \\lambda v_2 \\end{smallmatrix}\\big)$ "
   ]
  }
 ],
 "metadata": {
  "kernelspec": {
   "display_name": "Octave",
   "language": "octave",
   "name": "octave"
  },
  "language_info": {
   "file_extension": ".m",
   "help_links": [
    {
     "text": "GNU Octave",
     "url": "https://www.gnu.org/software/octave/support.html"
    },
    {
     "text": "Octave Kernel",
     "url": "https://github.com/Calysto/octave_kernel"
    },
    {
     "text": "MetaKernel Magics",
     "url": "https://metakernel.readthedocs.io/en/latest/source/README.html"
    }
   ],
   "mimetype": "text/x-octave",
   "name": "octave",
   "version": "6.2.0"
  }
 },
 "nbformat": 4,
 "nbformat_minor": 5
}
