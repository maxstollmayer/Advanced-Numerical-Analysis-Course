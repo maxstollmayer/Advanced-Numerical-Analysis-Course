{
 "cells": [
  {
   "cell_type": "markdown",
   "id": "0436ec29-8d3e-4943-9b8f-eb9abce5a128",
   "metadata": {},
   "source": [
    "# Advanced Numerical Analysis\n",
    "\n",
    "## Exercise 29"
   ]
  },
  {
   "cell_type": "markdown",
   "id": "cc882bdc-7592-4247-ba3d-c0c2b55ffa28",
   "metadata": {},
   "source": [
    "$\\textrm{(i)} \\quad$ *Show that the second half step method* $y^{i+1} = y^i + \\frac{h}{2} \\big( F(y^i) + F(y^i + h F(y^i)) \\big)$ *has order of consistency 2.*"
   ]
  },
  {
   "cell_type": "markdown",
   "id": "4f87acf7-33ea-4753-af96-2facdcc3f76e",
   "metadata": {},
   "source": [
    "Consider a single step $y^1 = y^0 + \\frac{h}{2} \\big( F(y^0) + F(y^0 + h F(y^0)) \\big)$ from $t$ to $t+h,$ where $y^0 = y(t)$ is known exactly. Then the order of the local discretization error can be determined using Taylor expansions.\n",
    "\n",
    "$$\\begin{align*}\n",
    "y(t+h) - y^1 &= y(t+h) - y(t) - \\frac{h}{2} \\big( F(y(t)) + F(y(t) + h F(y(t))) \\big) \\\\\n",
    "&= y(t+h) - y(t) - \\frac{h}{2} \\big( y'(t) + F(y(t) + h y'(t)) \\big) \\\\\n",
    "&= y(t+h) - y(t) - \\frac{h}{2} \\big( y'(t) + F(y(t+h) + \\mathcal{O}(h^2)) \\big) \\\\\n",
    "&= y(t+h) - y(t) - \\frac{h}{2} \\big( y'(t) + y'(t+h) + \\mathcal{O}(h^2) \\big) \\\\\n",
    "&= \\big( y(t) + h y'(t) + \\frac{h^2}{2} y''(t) + \\mathcal{O}(h^3) \\big) - y(t) - \\frac{h}{2} \\big( y'(t) + y'(t) + h y''(t) + \\mathcal{O}(h^2) \\big) \\\\\n",
    "&= h y'(t) + \\frac{h^2}{2} y''(t) - \\frac{h^2}{2} y''(t) + \\mathcal{O}(h^3) \\\\\n",
    "&= \\mathcal{O}(h^3)\n",
    "\\end{align*}$$\n",
    "\n",
    "Therefore we conclude that the second half step method is consistent of order 2."
   ]
  },
  {
   "cell_type": "markdown",
   "id": "717006b8-34e6-425f-bd66-1c1e6952edbd",
   "metadata": {},
   "source": [
    "$$ $$\n",
    "$\\textrm{(ii)} \\quad$ *Derive the corresponding formula for the nonautonomous case.*"
   ]
  },
  {
   "cell_type": "markdown",
   "id": "738c7283-43aa-494d-9a7d-679c5738b9b7",
   "metadata": {},
   "source": [
    "Integrating the differential equation $y'(t) = F(t, y(t))$ from $t$ to $t+h$ for some $h > 0,$ approximating the integral with the trapezoidal rule and $y(t+h)$ with Euler's method yields formula for the nonautonomous case.\n",
    "\n",
    "$$\n",
    "y'(t) = F(t, y(t)) \\Rightarrow \\int_t^{t+h} y'(s) \\, \\textrm{d}s = \\int_t^{t+h} F(s, y(s)) \\, \\textrm{d}s \\\\\n",
    "\\Rightarrow y(t+h) - y(t) \\approx \\frac{h}{2} \\big( F(t, y(t)) + F(t+h, y(t+h)) \\big) \\\\\n",
    "\\Rightarrow y(t+h) \\approx y(t) + \\frac{h}{2} \\bigg( F\\big(t,\\ y(t)\\big) + F\\big(t+h,\\ y(t) + h F(t,\\ y(t))\\big) \\bigg)\n",
    "$$"
   ]
  }
 ],
 "metadata": {
  "kernelspec": {
   "display_name": "Octave",
   "language": "octave",
   "name": "octave"
  },
  "language_info": {
   "file_extension": ".m",
   "help_links": [
    {
     "text": "GNU Octave",
     "url": "https://www.gnu.org/software/octave/support.html"
    },
    {
     "text": "Octave Kernel",
     "url": "https://github.com/Calysto/octave_kernel"
    },
    {
     "text": "MetaKernel Magics",
     "url": "https://metakernel.readthedocs.io/en/latest/source/README.html"
    }
   ],
   "mimetype": "text/x-octave",
   "name": "octave",
   "version": "6.2.0"
  }
 },
 "nbformat": 4,
 "nbformat_minor": 5
}
