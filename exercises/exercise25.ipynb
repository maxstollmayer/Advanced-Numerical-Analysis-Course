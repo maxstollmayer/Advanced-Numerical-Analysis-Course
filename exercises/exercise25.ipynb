{
 "cells": [
  {
   "cell_type": "markdown",
   "id": "791a6ae2",
   "metadata": {},
   "source": [
    "# Advanced Numerical Analysis"
   ]
  },
  {
   "cell_type": "markdown",
   "id": "b8db37c9",
   "metadata": {},
   "source": [
    "## Exercise 25"
   ]
  },
  {
   "cell_type": "markdown",
   "id": "81ad6762",
   "metadata": {},
   "source": [
    "*Consider the initial value problem*\n",
    "$$\\begin{cases}\n",
    "y' = 2 y \\\\\n",
    "y(0) = 1.\n",
    "\\end{cases}$$"
   ]
  },
  {
   "cell_type": "markdown",
   "id": "bc10f10d",
   "metadata": {},
   "source": [
    "$\\textrm{(i)} \\quad$ *Write down a solution to the initial value problem.*"
   ]
  },
  {
   "cell_type": "markdown",
   "id": "8498f8a4",
   "metadata": {},
   "source": [
    "By seperating the variables we obtain the following solution.\n",
    "\n",
    "$$\\begin{align*}\n",
    "\\frac{\\textrm{d}y}{\\textrm{d}t} = 2y &\\iff \\frac{1}{y} \\, \\textrm{d}y = 2 \\, \\textrm{d}t \\\\\n",
    "&\\iff \\int_{y(0)}^{y(t)} \\frac{1}{y} \\, \\textrm{d}y = \\int_0^t 2 \\, \\textrm{d}s \\\\\n",
    "&\\iff \\log(y(t)) - log(y(0)) = 2 t \\\\\n",
    "&\\iff y(t) = y(0) e^{2t} = e^{2t}\n",
    "\\end{align*}$$"
   ]
  },
  {
   "cell_type": "markdown",
   "id": "a8ca0341",
   "metadata": {},
   "source": [
    "$$ $$\n",
    "\n",
    "$\\textrm{(ii)} \\quad$ *Write down a closed expression for the approximate values* $y^j$ *obtained with Euler’s method with step size* $h$"
   ]
  },
  {
   "cell_type": "markdown",
   "id": "5ed00753",
   "metadata": {},
   "source": [
    "Let $h > 0.$ Then by Euler's method $y^{j+1} := y^j + h F(y^j) = y^j + 2 h y^j = (1+2h) y^j.$ Iteratively we obtain the closed expression $y^j = (1+2h)^j y^0 = (1+2h)^j y(0) = (1+2h)^j.$"
   ]
  },
  {
   "cell_type": "markdown",
   "id": "dbcbf039",
   "metadata": {},
   "source": [
    "$$ $$\n",
    "\n",
    "$\\textrm{(iii)} \\quad$ *How small must* $h$ *be for the relative error to be less or equal to* $\\frac{1}{2} 10^{-4}$ *in* $[0,1]$*?*"
   ]
  },
  {
   "cell_type": "markdown",
   "id": "46cfbe54",
   "metadata": {},
   "source": [
    "The relative error is $\\frac{|y(t_j) - y^j|}{y(t_j)} = \\big| e^{2\\frac{j}{N}} - (1+\\frac{2}{N})^j \\big| \\, e^{-2\\frac{j}{N}} \\le \\big(e^2 - (1+\\frac{2}{N})^N\\big) e^{-2}$ where $N = \\frac{1}{h}$ since it is increasing in $j \\in \\{0,\\dots,N\\}$ and $(1+\\frac{2}{N})^N$ converges to $e^2$ from below."
   ]
  },
  {
   "cell_type": "code",
   "execution_count": 1,
   "id": "8e2698db",
   "metadata": {},
   "outputs": [],
   "source": [
    "tolerance = 1e-4 / 2;\n",
    "\n",
    "function retval = y(t, lambda=2, y0=1)\n",
    "    retval = y0 * exp(lambda * t);\n",
    "endfunction\n",
    "\n",
    "function retval = Euler_method(t, N=1000, lambda=2, y0=1)\n",
    "    retval = y0 * (1 + lambda / N).^(N*t);\n",
    "endfunction"
   ]
  },
  {
   "cell_type": "code",
   "execution_count": 2,
   "id": "7dd7bad9",
   "metadata": {},
   "outputs": [
    {
     "name": "stdout",
     "output_type": "stream",
     "text": [
      "N = 39998\n"
     ]
    }
   ],
   "source": [
    "for N = 1 : 100000\n",
    "    if (y(1) - Euler_method(1, N)) / y(1) <= tolerance\n",
    "        N\n",
    "        break\n",
    "    endif\n",
    "endfor"
   ]
  },
  {
   "cell_type": "code",
   "execution_count": 3,
   "id": "c9ecceeb",
   "metadata": {},
   "outputs": [
    {
     "name": "stdout",
     "output_type": "stream",
     "text": [
      "h = 2.5001e-05\n"
     ]
    }
   ],
   "source": [
    "h = 1/N"
   ]
  },
  {
   "cell_type": "markdown",
   "id": "d39d6a87",
   "metadata": {},
   "source": [
    "$$ $$\n",
    "\n",
    "$\\textrm{(iv)} \\quad$ *Do ten steps with the step size determined in* $\\textrm{(iii)}$."
   ]
  },
  {
   "cell_type": "code",
   "execution_count": 21,
   "id": "2dc236c1",
   "metadata": {},
   "outputs": [
    {
     "name": "stdout",
     "output_type": "stream",
     "text": [
      "approximation =\n",
      "\n",
      "   1.000050002500125\n",
      "   1.000100007500500\n",
      "   1.000150015001250\n",
      "   1.000200025002500\n",
      "   1.000250037504376\n",
      "   1.000300052507001\n",
      "   1.000350070010502\n",
      "   1.000400090015003\n",
      "   1.000450112520629\n",
      "   1.000500137527505\n",
      "\n",
      "largest_error = 1.250708492328556e-08\n",
      "largest_relative_error = 1.250083263141256e-08\n"
     ]
    }
   ],
   "source": [
    "format long\n",
    "t = [1 : 10] / N;\n",
    "approximation = Euler_method(t, N)'\n",
    "largest_error = max(abs(y(t)' - approximation))\n",
    "largest_relative_error = largest_error / max(y(t))"
   ]
  }
 ],
 "metadata": {
  "kernelspec": {
   "display_name": "Octave",
   "language": "octave",
   "name": "octave"
  },
  "language_info": {
   "file_extension": ".m",
   "help_links": [
    {
     "text": "GNU Octave",
     "url": "https://www.gnu.org/software/octave/support.html"
    },
    {
     "text": "Octave Kernel",
     "url": "https://github.com/Calysto/octave_kernel"
    },
    {
     "text": "MetaKernel Magics",
     "url": "https://metakernel.readthedocs.io/en/latest/source/README.html"
    }
   ],
   "mimetype": "text/x-octave",
   "name": "octave",
   "version": "6.2.0"
  }
 },
 "nbformat": 4,
 "nbformat_minor": 5
}
