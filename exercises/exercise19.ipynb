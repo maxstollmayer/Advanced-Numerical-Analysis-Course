{
 "cells": [
  {
   "cell_type": "markdown",
   "id": "9539cf6e",
   "metadata": {},
   "source": [
    "# Advanced Numerical Analysis"
   ]
  },
  {
   "cell_type": "markdown",
   "id": "7b9246cb",
   "metadata": {},
   "source": [
    "## Exercise 19"
   ]
  },
  {
   "cell_type": "markdown",
   "id": "64760a93",
   "metadata": {},
   "source": [
    "*Suppose that* $A$ *has the singular values* $\\sigma_1 \\ge \\dots \\ge \\sigma_r > 0.$ *Find for every* $s < r$ *a\n",
    "matrix* $A_s$ *of rank* $s$ *for which* $|\\!|A − A_s|\\!|_2 ≤ \\sigma_{s+1}.$"
   ]
  },
  {
   "cell_type": "markdown",
   "id": "3638fcc3",
   "metadata": {},
   "source": [
    "Let $A = U \\Sigma V^*$ be the singular value decomposition of $A$ and define $A_s = U \\Sigma_s V^*,$ where $\\Sigma_s = \\textrm{diag}(\\sigma_1,\\dots,\\sigma_s).$ Then $\\textrm{rank} A_s = \\textrm{rank} U \\Sigma_s V^* = \\textrm{rank} \\Sigma_s = s$ since $U$ and $V$ have full rank. Finally\n",
    "\n",
    "$$\\begin{align*}\n",
    "|\\!|A − A_s|\\!|_2 &= |\\!|U(\\Sigma - \\Sigma_s)V^*|\\!|_2 = |\\!|\\textrm{diag}(\\sigma_{s+1},\\dots,\\sigma_r)|\\!|_2 \\\\\n",
    "&= \\sup_{||x||=1} |\\!|\\textrm{diag}(\\sigma_{s+1},\\dots,\\sigma_r)x|\\!|_2 = \\sqrt{\\sigma_{s+1}^2 x_{s+1}^2+\\dots+\\sigma_r^2 x_r^2} \\\\\n",
    "&\\le \\sigma_{s+1} \\sqrt{x_{s+1}^2+\\dots+x_r^2} = \\sigma_{s+1}\n",
    "\\end{align*}$$"
   ]
  }
 ],
 "metadata": {
  "kernelspec": {
   "display_name": "Octave",
   "language": "octave",
   "name": "octave"
  },
  "language_info": {
   "file_extension": ".m",
   "help_links": [
    {
     "text": "GNU Octave",
     "url": "https://www.gnu.org/software/octave/support.html"
    },
    {
     "text": "Octave Kernel",
     "url": "https://github.com/Calysto/octave_kernel"
    },
    {
     "text": "MetaKernel Magics",
     "url": "https://metakernel.readthedocs.io/en/latest/source/README.html"
    }
   ],
   "mimetype": "text/x-octave",
   "name": "octave",
   "version": "6.2.0"
  }
 },
 "nbformat": 4,
 "nbformat_minor": 5
}
