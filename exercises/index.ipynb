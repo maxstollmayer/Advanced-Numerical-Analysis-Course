{
 "cells": [
  {
   "cell_type": "markdown",
   "id": "military-income",
   "metadata": {},
   "source": [
    "# Advanced Numerical Analysis\n",
    "#### Exercises solved by Max Stollmayer\n",
    "Solutions marked with *** may be presented."
   ]
  },
  {
   "cell_type": "markdown",
   "id": "statistical-coordinator",
   "metadata": {},
   "source": [
    "### [Exercise 1](exercise1.html)\n",
    "\n",
    "- 2021-03-17 uploaded solution"
   ]
  },
  {
   "cell_type": "markdown",
   "id": "moderate-killer",
   "metadata": {},
   "source": [
    "### [Exercise 2](exercise2.html)\n",
    "\n",
    "- 2021-03-17 uploaded solution"
   ]
  },
  {
   "cell_type": "markdown",
   "id": "short-velvet",
   "metadata": {},
   "source": [
    "### [Exercise 3](exercise3.html)\n",
    "\n",
    "- 2021-03-17 uploaded solution"
   ]
  },
  {
   "cell_type": "markdown",
   "id": "supreme-papua",
   "metadata": {},
   "source": [
    "### [Exercise 5](exercise5.html)\n",
    "\n",
    "- 2021-03-17 uploaded solution"
   ]
  },
  {
   "cell_type": "markdown",
   "id": "collaborative-harmony",
   "metadata": {},
   "source": [
    "### [Exercise 8***](exercise8.html)\n",
    "\n",
    "- 2021-03-17 uploaded solution\n",
    "- 2021-03-19 updated Latex"
   ]
  },
  {
   "cell_type": "markdown",
   "id": "operational-diana",
   "metadata": {},
   "source": [
    "### [Exercise 10***](exercise10.html)\n",
    "\n",
    "- 2021-03-17 uploaded solution\n",
    "- 2021-03-19 updated Latex"
   ]
  }
 ],
 "metadata": {
  "kernelspec": {
   "display_name": "Python 3",
   "language": "python",
   "name": "python3"
  },
  "language_info": {
   "codemirror_mode": {
    "name": "ipython",
    "version": 3
   },
   "file_extension": ".py",
   "mimetype": "text/x-python",
   "name": "python",
   "nbconvert_exporter": "python",
   "pygments_lexer": "ipython3",
   "version": "3.8.8"
  }
 },
 "nbformat": 4,
 "nbformat_minor": 5
}
