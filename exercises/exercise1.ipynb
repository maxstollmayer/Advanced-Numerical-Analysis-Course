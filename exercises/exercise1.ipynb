{
 "cells": [
  {
   "cell_type": "markdown",
   "id": "clinical-christianity",
   "metadata": {},
   "source": [
    "# Advanced Numerical Analysis"
   ]
  },
  {
   "cell_type": "markdown",
   "id": "included-punishment",
   "metadata": {},
   "source": [
    "## Exercise 1"
   ]
  },
  {
   "cell_type": "markdown",
   "id": "handled-peoples",
   "metadata": {},
   "source": [
    "$(\\textrm{i})\\quad$ _For which_ $s\\in\\mathbb{R}$ _do the eigenvalues of the matrix_ $A=\\big(\\begin{smallmatrix}1+3s & 4|s| \\\\ 4|s| & 1−3s \\end{smallmatrix}\\big)$ _depend continuously on_ $s$_? When can the eigenvectors be normalized such that they depend continuously on_ $s$_?_"
   ]
  },
  {
   "cell_type": "markdown",
   "id": "owned-peninsula",
   "metadata": {},
   "source": [
    "The solution of $\\det(A-\\lambda I) = \\lambda^2 - \\textrm{tr}(A) \\lambda + \\det(A) = 0$ is $\\lambda_{1,2} = 1 \\pm 5|s|,$ which are continuous for all $s\\in\\mathbb{R}.$\n",
    "\n",
    "If $s\\ne0$ then by solving $A \\big(\\begin{smallmatrix} x \\\\ y \\end{smallmatrix}\\big) = \\lambda_{1,2}\\big(\\begin{smallmatrix} x \\\\ y \\end{smallmatrix}\\big)$ we obtain the relation $y = \\frac{-6\\pm10}{8} \\frac{s}{|s|} \\, x = \\begin{cases} \\frac{1}{2}\\, \\textrm{sgn}(s)\\, x \\\\ -2\\, \\textrm{sgn}(s)\\, x \\end{cases}.$ Normalizing yields the eigenvectors $\\big(\\frac{2}{\\sqrt{5}},\\, \\frac{\\textrm{sgn}(s)}{\\sqrt{5}}\\big)^\\top$ for $\\lambda_1$ and $\\big( \\frac{1}{\\sqrt{5}},\\ -\\frac{2\\,\\textrm{sgn}(s)}{\\sqrt{5}}\\big)^\\top$ for $\\lambda_2$. Therefore the normalized eigenvectors are continuous on $\\mathbb{R}\\setminus\\{0\\}$ but discontinuous at $s=0$ since the eigenvectos for $s=0$ are $\\big(\\begin{smallmatrix} 1 \\\\ 0 \\end{smallmatrix}\\big)$ and $\\big(\\begin{smallmatrix} 0 \\\\ 1 \\end{smallmatrix}\\big).$"
   ]
  },
  {
   "cell_type": "markdown",
   "id": "persistent-winter",
   "metadata": {},
   "source": [
    "$(\\textrm{ii})\\quad$ _What is the appropriate criterion for a general_ $2\\times2$ _matrix_ $A$ _depending on_ $s$_?_"
   ]
  },
  {
   "cell_type": "markdown",
   "id": "respiratory-cooling",
   "metadata": {},
   "source": [
    "Let the entries of $A = \\big(\\begin{smallmatrix} a & b \\\\ c & d \\end{smallmatrix}\\big)$ depend on $s\\in\\mathbb{C}.$ \n",
    "\n",
    "The eigenvalues of $A$ are $\\lambda_{1,2} = \\frac{1}{2}\\big(a+d\\pm\\sqrt{D}\\big),$ where $D=(a-d)^2+4bc.$ Thus if $a,\\ b,\\ c$ and $d$ are continuous then so are $\\lambda_{1,2}.$\n",
    "\n",
    "The corresponding normalized eigenvectors are $\\big(\\sqrt{(d-a\\pm\\sqrt{D}\\,)^2+4b^2}\\big)^{-1} \\big( \\begin{smallmatrix} 2b \\\\ d-a\\pm\\sqrt{D} \\end{smallmatrix} \\big)$ if $b(s)\\ne0,\\ \\Big\\{\\big(\\sqrt{(a-d)^2+c^2}\\big)^{-1} \\big( \\begin{smallmatrix} a-d \\\\ c \\end{smallmatrix} \\big),\\, \\big( \\begin{smallmatrix} 0 \\\\ 1 \\end{smallmatrix} \\big) \\Big\\}$ if $b(s)=0$ as well as $c(s)\\ne0$ and finally $\\big\\{ \\big( \\begin{smallmatrix} 1 \\\\ 0 \\end{smallmatrix} \\big),\\, \\big( \\begin{smallmatrix} 0 \\\\ 1 \\end{smallmatrix} \\big) \\big\\}$ if $b(s)=c(s)=0.$\n",
    "\n",
    "<em style=\"color:red\">Check $b\\rightarrow0$ in the first case and $c\\rightarrow0$ in the second.</em>"
   ]
  }
 ],
 "metadata": {
  "kernelspec": {
   "display_name": "Octave",
   "language": "octave",
   "name": "octave"
  },
  "language_info": {
   "file_extension": ".m",
   "help_links": [
    {
     "text": "GNU Octave",
     "url": "https://www.gnu.org/software/octave/support.html"
    },
    {
     "text": "Octave Kernel",
     "url": "https://github.com/Calysto/octave_kernel"
    },
    {
     "text": "MetaKernel Magics",
     "url": "https://metakernel.readthedocs.io/en/latest/source/README.html"
    }
   ],
   "mimetype": "text/x-octave",
   "name": "octave",
   "version": "6.2.0"
  }
 },
 "nbformat": 4,
 "nbformat_minor": 5
}
