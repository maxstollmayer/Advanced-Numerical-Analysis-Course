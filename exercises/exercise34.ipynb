{
 "cells": [
  {
   "cell_type": "markdown",
   "id": "07f2eb45-5e73-4641-81f0-4dd7ce460a41",
   "metadata": {},
   "source": [
    "# Advanced Numerical Analysis\n",
    "\n",
    "## Exercise 34"
   ]
  },
  {
   "cell_type": "markdown",
   "id": "2eadfb96-805e-4975-b697-689e90a23bb4",
   "metadata": {},
   "source": [
    "*To solve two-point boundary value problems (BVP) of the form*\n",
    "\n",
    "$$\\begin{cases}\n",
    "y'' = F(y, y') \\\\\n",
    "y(a) = \\alpha, y(b) = \\beta\n",
    "\\end{cases}$$\n",
    "\n",
    "*one may consider the initial value problems (IVP)*\n",
    "\n",
    "$$\\begin{cases}\n",
    "y'' = F(y, y') \\\\\n",
    "y(a) = \\alpha, y'(a) = s\n",
    "\\end{cases}$$\n",
    "\n",
    "*with* $s \\in \\mathbb{R}.$ *Let the solution of the IVP be* $y(t; s).$ *If one can find an initial slope* $s^*$ *for which* $y(b; s^*) = \\beta,$ *the function* $y(t) := y(t; s^*)$ *solves the boundary value problem. The desired initial slope is computed iteratively as a root of the residual function* $F(s) := y(b;s) - \\beta.$ *To do that, the IVP must be solved in every iteration.*\n",
    "\n",
    "*Determine the two solutions to the BVP*\n",
    "\n",
    "$$\\begin{cases}\n",
    "y'' = 1.5 y^2 \\\\\n",
    "y(0) = 4, y(1) = 1\n",
    "\\end{cases}$$\n",
    "\n",
    "*with the shooting method described above. The roots of $F(s)$ may be computed, e.g., via the secant method, using the initial approximations* $2s_0 := 0, s_1 := -10$ and $s_0 := -30, s_1 := -40$ *respectively. In each case solve the IVP with the classical Runge-Kutta method with step size* $h = \\frac{1}{32}.$ *For both solutions print both the computed initial slopes* $y'(0)$ *and the values* $y(i h)$ *for* $i = 0, \\dots, 32.$"
   ]
  },
  {
   "cell_type": "code",
   "execution_count": 52,
   "id": "936f9ef2-bdf1-4d9c-ae20-b8bc0605f51d",
   "metadata": {},
   "outputs": [],
   "source": [
    "function y_prime = F(t, y)\n",
    "    # function of BVP\n",
    "    y_prime = [y(2); 1.5 * y(1)^2];\n",
    "endfunction\n",
    "\n",
    "h = 1/32;\n",
    "t = 0 : h : 1;\n",
    "\n",
    "y0 = [4; 1];\n",
    "s0_1 = [0, -10];\n",
    "s0_2 = [-30, -40];"
   ]
  },
  {
   "cell_type": "code",
   "execution_count": 53,
   "id": "ff093ee5-6d26-479a-bacd-e4a7cca262d7",
   "metadata": {},
   "outputs": [],
   "source": [
    "function y = RK4(F, y0, t)    \n",
    "    m = length(y0);\n",
    "    n = length(t);\n",
    "    y = zeros(m, n);\n",
    "    y(:,1) = y0;\n",
    "    \n",
    "    for k = 1 : n-1\n",
    "        h = t(k+1) - t(k);\n",
    "        k1 = F(t(k), y(:,k));\n",
    "        k2 = F(t(k) + h/2, y(:,k) + h/2 * k1);\n",
    "        k3 = F(t(k) + h/2, y(:,k) + h/2 * k2);\n",
    "        k4 = F(t(k+1), y(:,k) + h * k3);\n",
    "        y(:,k+1) = y(:,k) + h/6 * (k1 + 2*k2 + 2*k3 + k4);\n",
    "    endfor\n",
    "endfunction\n",
    "\n",
    "\n",
    "function solution = solve_BVP(F, y0, t, s0, solver = @RK4, tolerance = 1e-8, max_iterations = 1000)\n",
    "    slope_1 = s0(1);\n",
    "    slope_2 = s0(2);\n",
    "    alpha = y0(1);\n",
    "    beta = y0(2);\n",
    "    \n",
    "    # initial slope 1\n",
    "    init_val = [alpha, slope_1];\n",
    "    y = solver(@F, init_val, t)(1,:);\n",
    "    residual_1 = y(end) - beta;\n",
    "    \n",
    "    if abs(residual_1) <= tolerance\n",
    "        solution = [y, slope_1];\n",
    "        return\n",
    "    endif\n",
    "    \n",
    "    # initial slope 2\n",
    "    init_val = [alpha, slope_2];\n",
    "    y = solver(@F, init_val, t)(1,:);\n",
    "    residual_2 = y(end) - beta;\n",
    "    \n",
    "    if abs(residual_2) <= tolerance\n",
    "        solution = [y, slope_2];\n",
    "        return\n",
    "    endif\n",
    "    \n",
    "    # secant method\n",
    "    for _ = 1 : max_iterations\n",
    "        slope = (slope_1 * residual_2 - slope_2 * residual_1) / (residual_2 - residual_1);\n",
    "        \n",
    "        init_val = [alpha; slope];\n",
    "        y = solver(@F, init_val, t)(1,:);\n",
    "        residual = y(end) - beta;\n",
    "        \n",
    "        if abs(residual) <= tolerance\n",
    "            solution = [y, slope];\n",
    "            return\n",
    "        endif\n",
    "        \n",
    "        slope_1 = slope_2;\n",
    "        slope_2 = slope;\n",
    "        residual_1 = residual_2;\n",
    "        residual_2 = residual;\n",
    "    endfor\n",
    "    \n",
    "    solution = [y, slope];\n",
    "endfunction"
   ]
  },
  {
   "cell_type": "code",
   "execution_count": 54,
   "id": "bed72d57-890a-4e5e-8b97-670e56ded59f",
   "metadata": {},
   "outputs": [
    {
     "name": "stdout",
     "output_type": "stream",
     "text": [
      "slope_1 = -8.0000\n",
      "slope_2 = -35.859\n"
     ]
    },
    {
     "data": {
      "image/png": "[encoded data removed]",
      "text/plain": [
       "<IPython.core.display.Image object>"
      ]
     },
     "metadata": {},
     "output_type": "display_data"
    }
   ],
   "source": [
    "%plot -s 1280,720\n",
    "\n",
    "solution_1 = solve_BVP(@F, y0, t, s0_1);\n",
    "y_1 = solution_1(1:end-1);\n",
    "slope_1 = solution_1(end)\n",
    "\n",
    "solution_2 = solve_BVP(@F, y0, t, s0_2);\n",
    "y_2 = solution_2(1:end-1);\n",
    "slope_2 = solution_2(end)\n",
    "\n",
    "hold on;\n",
    "plot(t, y_1)\n",
    "plot(t, y_2)\n",
    "str_1 = sprintf(\"s0 = %g, s1 = %g\", s0_1(1), s0_1(2));\n",
    "str_2 = sprintf(\"s0 = %g, s1 = %g\", s0_2(1), s0_2(2));\n",
    "legend(str_1, str_2, \"location\", \"southwest\");"
   ]
  }
 ],
 "metadata": {
  "kernelspec": {
   "display_name": "Octave",
   "language": "octave",
   "name": "octave"
  },
  "language_info": {
   "file_extension": ".m",
   "help_links": [
    {
     "text": "GNU Octave",
     "url": "https://www.gnu.org/software/octave/support.html"
    },
    {
     "text": "Octave Kernel",
     "url": "https://github.com/Calysto/octave_kernel"
    },
    {
     "text": "MetaKernel Magics",
     "url": "https://metakernel.readthedocs.io/en/latest/source/README.html"
    }
   ],
   "mimetype": "text/x-octave",
   "name": "octave",
   "version": "6.2.0"
  }
 },
 "nbformat": 4,
 "nbformat_minor": 5
}
