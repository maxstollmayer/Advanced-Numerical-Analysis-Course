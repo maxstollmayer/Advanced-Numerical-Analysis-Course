{
 "cells": [
  {
   "cell_type": "markdown",
   "id": "sonic-strengthening",
   "metadata": {},
   "source": [
    "# Advanced Numerical Analysis"
   ]
  },
  {
   "cell_type": "markdown",
   "id": "decimal-mercy",
   "metadata": {},
   "source": [
    "## Exercise 16"
   ]
  },
  {
   "cell_type": "markdown",
   "id": "thick-status",
   "metadata": {},
   "source": [
    "*A rod with circular cross section, supported and hinged at both ends, is loaded with a force* $P$ *along its symmetry axis. Physics tells us that the rod buckles once this force exceeds a value* $P_1,$ *given by the smallest eigenvalue of the boundary-eigenvalue problem\n",
    "\n",
    "$$\\begin{cases}\n",
    "\\alpha^{-1} P y(x) + y''(x) = 0\\\\\n",
    "y(0) = y(1) = 0\n",
    "\\end{cases}$$\n",
    "for the displacement* $y(x)$ *from the unloaded position.*\n",
    "\n",
    "*For* $\\alpha = 10.132115$ *and* $n = 15$ *approximately determine its smallest eigenvalue by inverse iteration with the Rayleigh quotient shift* $\\sigma_k = \\frac{(u^{(k)})^* A u^{(k)}}{(u^{(k)})^* u^{(k)}}.$ *In each iteration give the values of* $\\sigma_k$ *and the corresponding error bound* $\\Delta_k = \\frac{||A u^{(k)} - \\sigma_k u^{(k)}||}{||u^{(k)}||_2}.$ *Compare with* $P = 100.$"
   ]
  },
  {
   "cell_type": "markdown",
   "id": "preliminary-analyst",
   "metadata": {},
   "source": [
    "For $n\\in\\mathbb{N}$ let $h := \\frac{1}{n+1}$ and for $k\\in\\{0,\\dots,n+1\\}$ define the discretization $x_k := kh$ and $y_k := y(x_k).$ Then $y''(x_k)$ can be approximated by the second-order central difference $y''(x_k) \\approx \\frac{y_{k-1}-2y_k+y_{k+1}}{h^2}.$\n",
    "\n",
    "Substituting into the differential equation yields $\\alpha^{-1} P y_k + \\frac{y_{k-1}-2y_k+y_{k+1}}{h^2} = 0 \\iff P y_k = \\frac{\\alpha}{h^2} (2y_k -y_{k-1}-y_{k+1}) \\ \\forall k \\in \\{1,\\dots,n\\},$ also $y_0 = y_{n+1} = 0.$ Therefore we can write this as an eigenvalue problem $Au = Pu$ for $u=(y_1,\\dots,y_n)^\\top$ and\n",
    "$$ A = \\frac{\\alpha}{h^2}\n",
    "\\begin{pmatrix}\n",
    " 2 & -1  \\\\\n",
    "-1 &  2 & -1  \\\\\n",
    "   & -1 &  2 & -1 \\\\\n",
    "   &    &    & \\ddots \\\\\n",
    "   &    &    & -1 &  2\n",
    "\\end{pmatrix}.$$"
   ]
  },
  {
   "cell_type": "markdown",
   "id": "built-native",
   "metadata": {},
   "source": [
    "Using the inverse iteration function for $\\alpha = 10.132115$ and $n=15$ we get the following estimations and errors."
   ]
  },
  {
   "cell_type": "code",
   "execution_count": 24,
   "id": "spectacular-valve",
   "metadata": {
    "scrolled": false
   },
   "outputs": [
    {
     "name": "stdout",
     "output_type": "stream",
     "text": [
      "shift_1 = 345.8428586666667,  error_bound_1 = 2.625258e+02\n",
      "shift_2 = 118.4813274184680,  error_bound_2 = 1.902161e+01\n",
      "shift_3 =  99.6901631786867,  error_bound_3 = 1.105995e-02\n",
      "shift_4 =  99.6791033073803,  error_bound_4 = 2.243581e-12\n",
      "shift_5 =  99.6791033073781,  error_bound_5 = 3.323782e-13\n",
      "\n",
      "difference to P: 0.320897"
     ]
    }
   ],
   "source": [
    "alpha = 10.132115;\n",
    "n = 15;\n",
    "P = 100;\n",
    "\n",
    "h = 1 / (n+1);\n",
    "u = ones(n, 1);\n",
    "A = alpha / h^2 * spdiags(-ones(n, 2), [-1, 1], 2 * speye(n));\n",
    "\n",
    "max_iterations = 1000;\n",
    "error_bound_old = 0;\n",
    "\n",
    "for k = 1 : 1000\n",
    "    shift = (u' * A * u) / (u' * u);\n",
    "    \n",
    "    u = (A - shift * speye(n)) \\ u;\n",
    "    [max_value, index] = max(abs(u));\n",
    "    u = u / u(index);\n",
    "    \n",
    "    error_bound = norm(A * u - shift * u) / norm(u);\n",
    "    \n",
    "    printf(\"shift_%d = %17.13f,  error_bound_%d = %e\\n\", k, shift, k, error_bound)\n",
    "    \n",
    "    if abs(error_bound - error_bound_old) <= 1e-8\n",
    "        break\n",
    "    endif\n",
    "    \n",
    "    error_bound_old = error_bound;\n",
    "endfor\n",
    "\n",
    "printf(\"\\ndifference to P: %g\", abs(shift - P))"
   ]
  },
  {
   "cell_type": "markdown",
   "id": "a1cad2af",
   "metadata": {},
   "source": [
    "Observe that the shift very quickly converges but the difference to $P$ is larger than the error bounds because for $n=15$ the discretization error is quite large."
   ]
  }
 ],
 "metadata": {
  "kernelspec": {
   "display_name": "Octave",
   "language": "octave",
   "name": "octave"
  },
  "language_info": {
   "file_extension": ".m",
   "help_links": [
    {
     "text": "GNU Octave",
     "url": "https://www.gnu.org/software/octave/support.html"
    },
    {
     "text": "Octave Kernel",
     "url": "https://github.com/Calysto/octave_kernel"
    },
    {
     "text": "MetaKernel Magics",
     "url": "https://metakernel.readthedocs.io/en/latest/source/README.html"
    }
   ],
   "mimetype": "text/x-octave",
   "name": "octave",
   "version": "6.2.0"
  }
 },
 "nbformat": 4,
 "nbformat_minor": 5
}
