{
 "cells": [
  {
   "cell_type": "markdown",
   "id": "61097ae7",
   "metadata": {},
   "source": [
    "# Advanced Numerical Analysis"
   ]
  },
  {
   "cell_type": "markdown",
   "id": "08258900",
   "metadata": {},
   "source": [
    "## Exercise 24"
   ]
  },
  {
   "cell_type": "markdown",
   "id": "746a1c91",
   "metadata": {},
   "source": [
    "*Given the initial value problem*\n",
    "$$\\begin{cases}\n",
    "y'' = -y \\\\\n",
    "y(0) = 1,\\ y'(0) = 0\n",
    "\\end{cases}$$\n",
    "\n",
    "*compute an approximation to* $y(0.4)$ *with constant step size* $h := 0.1$ *by*"
   ]
  },
  {
   "cell_type": "markdown",
   "id": "b3ef230a",
   "metadata": {},
   "source": [
    "$\\textrm{(i)} \\quad$ *rewriting the differential equation as a system of first order differential equations and\n",
    "using Euler’s method;*"
   ]
  },
  {
   "cell_type": "markdown",
   "id": "97ee9025",
   "metadata": {},
   "source": [
    "The system of above is equivalent to the following first order system for $y = (y_1, y_2)^\\top.$\n",
    "\n",
    "$$\\begin{cases}\n",
    "y' = \\big(\\begin{smallmatrix} 0 & 1 \\\\ -1 & 0 \\end{smallmatrix}\\big) y \\\\\n",
    "y(0) = (1,0)^\\top\n",
    "\\end{cases}$$"
   ]
  },
  {
   "cell_type": "code",
   "execution_count": 26,
   "id": "8ba13598",
   "metadata": {},
   "outputs": [],
   "source": [
    "t0 = 0;\n",
    "tN = 0.4;\n",
    "h = 0.1;\n",
    "t = t0 : h : tN;\n",
    "exact = cos(t);\n",
    "\n",
    "y0 = [1; 0];\n",
    "\n",
    "function y_pp = f(t, y, y_prime)\n",
    "    % function of y'' = -y\n",
    "    y_pp = -y;\n",
    "endfunction\n",
    "\n",
    "function y_prime = F(t, y)\n",
    "    % function of system y' = A y\n",
    "    y_prime = [[0, 1]; [-1, 0]] * y;\n",
    "endfunction"
   ]
  },
  {
   "cell_type": "code",
   "execution_count": 27,
   "id": "095dda5e",
   "metadata": {},
   "outputs": [],
   "source": [
    "function y = Euler_method(F, y0, t)\n",
    "    n = length(t);\n",
    "    m = length(y0);\n",
    "    y = zeros(n, m);\n",
    "    y(1,:) = y0;\n",
    "    \n",
    "    for k = 1 : n-1\n",
    "        h = t(k+1) - t(k);\n",
    "        y(k+1,:) = y(k,:) + h * F(t(k), y(k,:)')';\n",
    "    endfor\n",
    "endfunction"
   ]
  },
  {
   "cell_type": "code",
   "execution_count": 28,
   "id": "1cc6a02b",
   "metadata": {},
   "outputs": [
    {
     "name": "stdout",
     "output_type": "stream",
     "text": [
      "y(0.4) is approximately 0.9401 by Euler's method with an error of 1.90e-02."
     ]
    }
   ],
   "source": [
    "approximation1 = Euler_method(@F, y0, t)(:,1);\n",
    "printf(\"y(0.4) is approximately %.4f by Euler's method with an error of %.2e.\", approximation1(end), max(abs(exact - approximation1')))"
   ]
  },
  {
   "cell_type": "markdown",
   "id": "417c6cb3",
   "metadata": {},
   "source": [
    "$$ $$\n",
    "$\\textrm{(ii)} \\quad$ *using the following rules for solving* $y''(t) = F(t, y(t))$ *derived from a truncated Taylor expansion for* $i = 0, \\dots, 3:$\n",
    "\n",
    "$$\\begin{align*}\n",
    "y^0 &:= y(0), \\\\\n",
    "\\dot{y}^0 &:= y'(0), \\\\\n",
    "y^{j+1} &:= y^j + h \\dot{y}^j + \\frac{h^2}{2} F(t_j, y^j), \\\\\n",
    "\\dot{y}^{j+1} &:= \\dot{y}^j + h F(t_j, y^j)\n",
    "\\end{align*}$$\n",
    "\n",
    "*Interpret the rule geometrically.*"
   ]
  },
  {
   "cell_type": "markdown",
   "id": "f731d822-39a0-4084-9668-7234ed2a770e",
   "metadata": {},
   "source": [
    "Geometrically Euler's method takes a step of size $h$ along the tangent of the previous point to compute the next. This truncated Taylor expansion does the same for the derivative $\\dot{y}^j$ and thus also takes the curvature of $y^j$ into account to compute $y^{j+1}$."
   ]
  },
  {
   "cell_type": "code",
   "execution_count": 29,
   "id": "31c0135b",
   "metadata": {},
   "outputs": [],
   "source": [
    "function y = second_order_method(F, y0, t)    \n",
    "    n = length(t);\n",
    "    m = length(y0(1,:));\n",
    "    \n",
    "    y = zeros(n, m);\n",
    "    y(1,:) = y0(1,:);\n",
    "    \n",
    "    y_prime = zeros(n, m);\n",
    "    y_prime(1,:) = y0(2,:);\n",
    "    \n",
    "    for k = 1 : n-1\n",
    "        h = t(k+1) - t(k);\n",
    "        y(k+1,:) = y(k,:) + h * y_prime(k,:) + h^2 / 2 * F(t(k), y(k,:)', y_prime(k,:)')';\n",
    "        y_prime(k+1,:) = y_prime(k,:) + h * F(t(k), y(k,:)', y_prime(k,:)')';\n",
    "    endfor\n",
    "endfunction"
   ]
  },
  {
   "cell_type": "code",
   "execution_count": 30,
   "id": "e66cff4f",
   "metadata": {},
   "outputs": [
    {
     "name": "stdout",
     "output_type": "stream",
     "text": [
      "y(0.4) is approximately 0.9206 by the truncated Taylor expansion with an error of 4.12e-04."
     ]
    }
   ],
   "source": [
    "approximation2 = second_order_method(@f, y0, t);\n",
    "printf(\"y(0.4) is approximately %.4f by the truncated Taylor expansion with an error of %.2e.\", approximation2(end), max(abs(exact - approximation2')))"
   ]
  },
  {
   "cell_type": "code",
   "execution_count": 31,
   "id": "e4610be4",
   "metadata": {},
   "outputs": [
    {
     "data": {
      "image/png": "[encoded data removed]",
      "text/plain": [
       "<IPython.core.display.Image object>"
      ]
     },
     "metadata": {},
     "output_type": "display_data"
    }
   ],
   "source": [
    "%plot -s 1280,720\n",
    "hold on\n",
    "plot(t, approximation1)\n",
    "plot(t, approximation2)\n",
    "t2 = linspace(0, 0.4, 100);\n",
    "plot(t2, cos(t2))\n",
    "legend(\"Euler's method\", \"truncated Taylor expansion\", \"exact solution\", \"location\", \"southwest\");"
   ]
  }
 ],
 "metadata": {
  "kernelspec": {
   "display_name": "Octave",
   "language": "octave",
   "name": "octave"
  },
  "language_info": {
   "file_extension": ".m",
   "help_links": [
    {
     "text": "GNU Octave",
     "url": "https://www.gnu.org/software/octave/support.html"
    },
    {
     "text": "Octave Kernel",
     "url": "https://github.com/Calysto/octave_kernel"
    },
    {
     "text": "MetaKernel Magics",
     "url": "https://metakernel.readthedocs.io/en/latest/source/README.html"
    }
   ],
   "mimetype": "text/x-octave",
   "name": "octave",
   "version": "6.2.0"
  }
 },
 "nbformat": 4,
 "nbformat_minor": 5
}
