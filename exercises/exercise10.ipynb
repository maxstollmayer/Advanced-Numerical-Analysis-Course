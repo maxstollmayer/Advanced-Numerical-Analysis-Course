{
 "cells": [
  {
   "cell_type": "markdown",
   "id": "clinical-christianity",
   "metadata": {},
   "source": [
    "# Advanced Numerical Analysis"
   ]
  },
  {
   "cell_type": "markdown",
   "id": "loved-lafayette",
   "metadata": {},
   "source": [
    "## Exercise 10"
   ]
  },
  {
   "cell_type": "markdown",
   "id": "generous-tribute",
   "metadata": {},
   "source": [
    "_Show that the zeros of a polynomial_ $p(x)$ _represented in a Chebyshev basis as_ $p(x) = \\sum_{i=0}^n a_i T_i(x),$ _where_ $a_n \\ne 0,$ _are precisely the halved eigenvalues of the lower Hessenberg matrix_\n",
    "\n",
    "$$ A =\n",
    "\\begin{pmatrix}\n",
    "0 & 2 & 0 & \\cdots & \\cdots & 0\\\\\n",
    "1 & 0 & 1 & \\ddots & & \\vdots \\\\\n",
    "0 & 1 & 0 & 1 & \\ddots & \\vdots \\\\\n",
    "\\vdots & & \\ddots & \\ddots & \\ddots & 0 \\\\\n",
    "0 & \\cdots & 0 & 1 & 0 & 1 \\\\\n",
    "b_1 & \\cdots & \\cdots & \\cdots & \\cdots & b_n\n",
    "\\end{pmatrix},$$\n",
    "\n",
    "_where_ $b_i = −\\frac{a_{i−1}}{a_n}$ _for_ $i\\ne n-1$ _and_ $b_{n−1} = 1 − \\frac{a_{n−2}}{a_n}.$"
   ]
  },
  {
   "cell_type": "markdown",
   "id": "limiting-latvia",
   "metadata": {},
   "source": [
    "The Chebyshev polynomials satisfy the following recurrence relation:\n",
    "\n",
    "$$\\begin{cases} T_{i+1}(x) = 2xT_i(x)-T_{i-1}(x) \\\\ T_0(x) = 1,\\ T_1(x) = x \\end{cases}$$\n",
    "\n",
    "Let $\\lambda$ be an eigenvalue of $A$ and $v$ a corresponding eigenvector. Then $\\lambda v_1 = (Av)_1 = 2v_2,\\ \\lambda v_i = (Av)_i = v_{i-1} + v_{i+1}$ for $i=2,\\dots,n-1$ and $\\lambda v_n = (Av)_n = \\sum_{j=1}^n b_j v_j.$ Also $v_1$ cannot be zero since otherwise $v$ would be the zero vector and not an eigenvector because $v_2 = \\frac{\\lambda}{2} v_1 = 0$ and $v_{i+1} = \\lambda v_i - v_{i-1} = 0$ for all $i=3,\\dots,n.$\n",
    "\n",
    "Now let $x=\\frac{\\lambda}{2}.$ Then $T_1(x)v_1 = \\frac{\\lambda}{2} v_1 = v_2$ and $T_i(x) v_1 = \\big(\\lambda T_{i-1}(x) - T_{i-2}(x)\\big) v_1 = \\lambda v_i - v_{i-1} = v_{i+1}.$ Thus we have $v_i = T_{i-1}(x) v_1$ for $i=2,\\dots,n.$ Substituting this relation into the equation for $v_n$ yields\n",
    "\n",
    "$$\\begin{align*}\n",
    "0 &= \\lambda z_n - \\sum_{j=1}^n b_j v_j = (\\lambda - b_n) v_n - b_{n-1} v_{n-1} - \\sum_{i=1}^{n-2} b_i v_i \\\\\n",
    "&= \\big(\\lambda + \\frac{a_{n-1}}{a_n}\\big) v_n - \\big(1 - \\frac{a_{n-2}}{a_n}\\big) v_{n-1} + \\sum_{i=1}^{n-2} \\frac{a_{i-1}}{a_n} v_i \\\\\n",
    "\\iff 0 &= (a_n \\lambda + a_{n-1}) T_{n-1}(x) v_1 - (a_n - a_{n-2}) T_{n-2}(x) v_1 + \\sum_{i=1}^{n-2} a_{i-1} T_{i-1}(x) v_1 \\\\\n",
    "\\iff 0 &= a_n \\big(\\lambda T_{n-1}(x) - T_{n-2}(x)\\big) + a_{n-1} T_{n-1}(x) + a_{n-2} T_{n-2}(x) + \\sum_{i=0}^{n-3} a_i T_i(x) \\\\\n",
    "&= a_n T_n(x) + \\sum_{i=0}^{n-1} a_i T_i(x) \\\\\n",
    "&= \\sum_{i=0}^n a_i T_i(x) = p\\big(\\frac{\\lambda}{2}\\big).\n",
    "\\end{align*}$$\n",
    "\n",
    "Therefore $\\frac{\\lambda}{2}$ is a zero of $p.$"
   ]
  }
 ],
 "metadata": {
  "kernelspec": {
   "display_name": "Octave",
   "language": "octave",
   "name": "octave"
  },
  "language_info": {
   "file_extension": ".m",
   "help_links": [
    {
     "text": "GNU Octave",
     "url": "https://www.gnu.org/software/octave/support.html"
    },
    {
     "text": "Octave Kernel",
     "url": "https://github.com/Calysto/octave_kernel"
    },
    {
     "text": "MetaKernel Magics",
     "url": "https://metakernel.readthedocs.io/en/latest/source/README.html"
    }
   ],
   "mimetype": "text/x-octave",
   "name": "octave",
   "version": "6.2.0"
  }
 },
 "nbformat": 4,
 "nbformat_minor": 5
}
