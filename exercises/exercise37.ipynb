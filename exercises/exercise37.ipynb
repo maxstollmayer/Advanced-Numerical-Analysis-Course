{
 "cells": [
  {
   "cell_type": "markdown",
   "id": "b367a901-ab4a-4d77-9b97-88e6972e4bfd",
   "metadata": {},
   "source": [
    "# Advanced Numerical Analysis\n",
    "\n",
    "## Exercise 37"
   ]
  },
  {
   "cell_type": "markdown",
   "id": "05854ee0-8eb2-4dcb-9d80-9d5bccb76fb9",
   "metadata": {},
   "source": [
    "$\\textrm{(i)} \\quad$ *Find the explicit solution of the singular limit ε = 0 of the van der Pol equation* $\\varepsilon y'' = (1 - y^2) y' - y$ *in Liénhard coordinates (see Exercise 36) and describe its singular jump behavior at the impasse points.*"
   ]
  }
 ],
 "metadata": {
  "kernelspec": {
   "display_name": "Octave",
   "language": "octave",
   "name": "octave"
  },
  "language_info": {
   "file_extension": ".m",
   "help_links": [
    {
     "text": "GNU Octave",
     "url": "https://www.gnu.org/software/octave/support.html"
    },
    {
     "text": "Octave Kernel",
     "url": "https://github.com/Calysto/octave_kernel"
    },
    {
     "text": "MetaKernel Magics",
     "url": "https://metakernel.readthedocs.io/en/latest/source/README.html"
    }
   ],
   "mimetype": "text/x-octave",
   "name": "octave",
   "version": "6.2.0"
  }
 },
 "nbformat": 4,
 "nbformat_minor": 5
}
