{
 "cells": [
  {
   "cell_type": "markdown",
   "id": "4e0f9ed0-580b-4394-864e-86c0ee3a7d17",
   "metadata": {},
   "source": [
    "# Advanced Numerical Analysis\n",
    "\n",
    "## Exercise 56 - Differentiability of piecewise polynomials"
   ]
  },
  {
   "cell_type": "markdown",
   "id": "9c78ba2c-2b7d-45cd-9c87-9bbf9c98bfeb",
   "metadata": {},
   "source": [
    "*Let* $\\Delta_1$ *and* $\\Delta_2$ *be two triangles intersecting in the common side* $\\overline{uv}.$ *Suppose that two polynomials* $f_1$ *and* $f_2$ *and their gradients agree on* $u, v,$ *and for some point in the interior of* $\\overline{uv},$ *the normal derivatives*\n",
    "$n \\cdot \\nabla f_1$ *and* $n \\cdot \\nabla f_2$ *have opposite sign and agree in absolute value. Show that if* $f_1$ *and* $f_2$ *are cubic polynomials then*\n",
    "\n",
    "$$ f(x) := \\begin{cases}\n",
    "f_1(x) \\quad \\textrm{if} x \\in \\Delta_1, \\\\\n",
    "f_2(x) \\quad \\textrm{if} x \\in \\Delta_2\n",
    "\\end{cases}$$\n",
    "\n",
    "*defines a continuously differentiable function* $f : \\Delta_1 \\cup \\Delta_2 \\rightarrow \\mathbb{R}.$"
   ]
  },
  {
   "cell_type": "markdown",
   "id": "7b095190-ac74-470d-851b-c31ffc448e44",
   "metadata": {},
   "source": []
  }
 ],
 "metadata": {
  "kernelspec": {
   "display_name": "Octave",
   "language": "octave",
   "name": "octave"
  },
  "language_info": {
   "file_extension": ".m",
   "help_links": [
    {
     "text": "GNU Octave",
     "url": "https://www.gnu.org/software/octave/support.html"
    },
    {
     "text": "Octave Kernel",
     "url": "https://github.com/Calysto/octave_kernel"
    },
    {
     "text": "MetaKernel Magics",
     "url": "https://metakernel.readthedocs.io/en/latest/source/README.html"
    }
   ],
   "mimetype": "text/x-octave",
   "name": "octave",
   "version": "6.2.0"
  }
 },
 "nbformat": 4,
 "nbformat_minor": 5
}
