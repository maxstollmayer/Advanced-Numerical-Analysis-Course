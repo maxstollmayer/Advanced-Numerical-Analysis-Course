{
 "cells": [
  {
   "cell_type": "markdown",
   "id": "f2ed55d1",
   "metadata": {},
   "source": [
    "# Advanced Numerical Analysis"
   ]
  },
  {
   "cell_type": "markdown",
   "id": "ac2345e9",
   "metadata": {},
   "source": [
    "## Exercise 26"
   ]
  },
  {
   "cell_type": "markdown",
   "id": "df2fef98",
   "metadata": {},
   "source": [
    "*The function* $y(t) = \\dfrac{t^4}{4}$ *is a solution to the initial value problem*\n",
    "$$\\begin{cases}\n",
    "y' = \\sqrt{y} \\\\\n",
    "y(0) = 0\n",
    "\\end{cases}.$$\n",
    "\n",
    "*However, Euler’s method gives* $y^j = 0$ *for all* $j$ *and* $h > 0.$ *Explain why this behavior does not contradict the fact that Eulers method has consistency order* $1.$"
   ]
  },
  {
   "cell_type": "markdown",
   "id": "182b5020",
   "metadata": {},
   "source": [
    "Since $F(t, y) = \\sqrt{y}$ is not locally Lipschitz at $y = 0$ it has no unique solution. $y(t) = 0$ for all $t$ is another solution which Euler's method approximates without errors and thus the method can still be considered to be consistent of order $1.$"
   ]
  }
 ],
 "metadata": {
  "kernelspec": {
   "display_name": "Octave",
   "language": "octave",
   "name": "octave"
  },
  "language_info": {
   "file_extension": ".m",
   "help_links": [
    {
     "text": "GNU Octave",
     "url": "https://www.gnu.org/software/octave/support.html"
    },
    {
     "text": "Octave Kernel",
     "url": "https://github.com/Calysto/octave_kernel"
    },
    {
     "text": "MetaKernel Magics",
     "url": "https://metakernel.readthedocs.io/en/latest/source/README.html"
    }
   ],
   "mimetype": "text/x-octave",
   "name": "octave",
   "version": "6.2.0"
  }
 },
 "nbformat": 4,
 "nbformat_minor": 5
}
