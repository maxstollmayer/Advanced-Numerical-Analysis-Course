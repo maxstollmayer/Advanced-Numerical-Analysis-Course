{
 "cells": [
  {
   "cell_type": "markdown",
   "id": "64592507",
   "metadata": {},
   "source": [
    "# Advanced Numerical Analysis"
   ]
  },
  {
   "cell_type": "markdown",
   "id": "31905e59",
   "metadata": {},
   "source": [
    "## Exercise 20"
   ]
  },
  {
   "cell_type": "markdown",
   "id": "6564e3b8",
   "metadata": {},
   "source": [
    "*Denote by* $W^\\bot$ *the vector space of vectors othogonal to all vectors in a subspace* $W$ *of* $\\mathbb{C}^n.$ *Write* $\\sigma_k(A)$ *for the* $k$*-th singular value of* $A\\in\\mathbb{C}^{m \\times n}.$ *Show:*"
   ]
  },
  {
   "cell_type": "markdown",
   "id": "2935b942",
   "metadata": {},
   "source": [
    "$\\displaystyle\\textrm{(i)} \\quad \\sigma_k(A) = \\min_{\\dim W < k} \\max_{x\\in W^\\bot\\setminus\\{0\\}} \\frac{|\\!|Ax|\\!|_2}{|\\!|x|\\!|_2}$"
   ]
  },
  {
   "cell_type": "markdown",
   "id": "34089ab8",
   "metadata": {},
   "source": [
    "Let $A = U \\Sigma V^*$ be the singular value decomposition of $A.$ Since $\\max_{x\\in W^\\bot,||x||=1} |\\!|Ax|\\!|_2 = \\max |\\!|U \\Sigma V^* x|\\!|_2 = \\max |\\!|\\Sigma V^* x|\\!|_2 = \\max_{y\\in W^\\bot,||y||=1} |\\!|\\Sigma y|\\!|_2.$ we can only consider diagonal matrices with non-increasing diagonals.\n",
    "\n",
    "Let $A$ now be a rectangular diagonal matrix with entries $\\sigma_1 \\ge \\dots \\ge \\sigma_n$ which are also its singular values. Then $\\max_{x\\in W^\\bot, ||x||=1} |\\!|A x|\\!|_2 \\le |\\!|A e_k|\\!|_2 = \\sigma_j$ for $j=\\min\\{i \\in \\{1,\\dots,n\\} \\ | \\ e_i \\in W^\\bot\\}.$ Since the $\\sigma_i$ are non-increasing the minimum is obtained by setting $W=\\textrm{span}\\{e_1,\\dots,e_{k-1}\\}$ and therefore $\\min_{\\dim W < k} \\max_{x\\in W^\\bot, ||x||=1} |\\!|A x|\\!|_2 = \\sigma_k$"
   ]
  },
  {
   "cell_type": "markdown",
   "id": "f11da042",
   "metadata": {},
   "source": [
    "$\\displaystyle\\textrm{(ii)} \\quad \\sigma_{i+k-1}(A+B) \\le \\sigma_i(A) + \\sigma_k(B) \\quad \\forall A, B \\in \\mathbb{C}^{m \\times n}$"
   ]
  },
  {
   "cell_type": "markdown",
   "id": "601c6ace",
   "metadata": {},
   "source": [
    "If $U_1 + U_2 \\subset W$ then $W^\\bot \\subset U_1^\\bot + U_2^\\bot.$ Therefore we can split the minimum to both summands in the following calculation.\n",
    "\n",
    "$$\\begin{align*}\n",
    "\\sigma_{i+k-1}(A+B) &= \\min_{\\dim W < i+k-1} \\max_{x\\in W^\\bot\\\\ ||x||=1} |\\!|(A+B)x|\\!|_2 \\\\\n",
    "&\\le \\min \\big( \\max |\\!|Ax|\\!|_2 + \\max |\\!|Bx|\\!|_2 \\big) \\\\\n",
    "&\\le \\min_{\\dim W < i+k-1\\\\ U_1+U_2\\subset W} \\big( \\max_{x\\in U_1^\\bot\\\\ ||x||=1} |\\!|Ax|\\!|_2 + \\max_{x\\in U_2^\\bot\\\\ ||x||=1} |\\!|Bx|\\!|_2 \\big)\\\\\n",
    "&\\le \\min_{\\dim U_1 < i} \\max |\\!|Ax|\\!|_2 + \\min_{\\dim U_2 < k} \\max |\\!|Bx|\\!|_2\\\\\n",
    "&= \\sigma_i(A) + \\sigma_k(A)\n",
    "\\end{align*}$$"
   ]
  },
  {
   "cell_type": "markdown",
   "id": "e9d14e44",
   "metadata": {},
   "source": [
    "$\\displaystyle\\textrm{(iii)} \\quad \\sigma_k(AB) \\le \\min\\{\\sigma_k(A) |\\!|B|\\!|_2,\\ |\\!|A|\\!|_2 \\sigma_k(B)\\} \\quad \\forall A \\in \\mathbb{C}^{m \\times n},\\ B \\in \\mathbb{C}^{n \\times p}$"
   ]
  },
  {
   "cell_type": "markdown",
   "id": "3ef6239e",
   "metadata": {},
   "source": [
    "$$\\begin{align*}\n",
    "\\sigma_k(A B) &= \\min \\max |\\!|A B x|\\!|_2 \\le \\min \\max |\\!|A|\\!|_2 |\\!|Bx|\\!|_2 = |\\!|A|\\!|_2 \\sigma_k(B) \\\\\n",
    "\\sigma_k(A B) &= \\sigma(B^* A^*) = \\min \\max |\\!|B^* A^*x|\\!|_2 \\le |\\!|B^*|\\!|_2 \\sigma_k(A^*) = |\\!|B|\\!|_2 \\sigma_k(A) \\\\\n",
    "\\Rightarrow \\sigma_k(AB) &\\le \\min\\{\\sigma_k(A) |\\!|B|\\!|_2,\\ |\\!|A|\\!|_2 \\sigma_k(B)\\}\n",
    "\\end{align*}$$\n",
    "\n",
    "Where we used $\\sigma_k(A) = \\sigma_k(A^*)$ and $|\\!|A|\\!|_2 = \\sigma_1(A) = |\\!|A^*|\\!|_2$ in the second estimate."
   ]
  }
 ],
 "metadata": {
  "kernelspec": {
   "display_name": "Octave",
   "language": "octave",
   "name": "octave"
  },
  "language_info": {
   "file_extension": ".m",
   "help_links": [
    {
     "text": "GNU Octave",
     "url": "https://www.gnu.org/software/octave/support.html"
    },
    {
     "text": "Octave Kernel",
     "url": "https://github.com/Calysto/octave_kernel"
    },
    {
     "text": "MetaKernel Magics",
     "url": "https://metakernel.readthedocs.io/en/latest/source/README.html"
    }
   ],
   "mimetype": "text/x-octave",
   "name": "octave",
   "version": "6.2.0"
  }
 },
 "nbformat": 4,
 "nbformat_minor": 5
}
