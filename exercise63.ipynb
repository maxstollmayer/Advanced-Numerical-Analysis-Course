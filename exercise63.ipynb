{
 "cells": [
  {
   "cell_type": "markdown",
   "id": "ffb8841b-cade-4d63-b553-ad75502f4284",
   "metadata": {},
   "source": [
    "# Advanced Numerical Analysis\n",
    "\n",
    "## Exercise 63 - Lanczos algorithm"
   ]
  },
  {
   "cell_type": "markdown",
   "id": "74d467c7-5bcf-4b66-9805-43bd67044cac",
   "metadata": {},
   "source": [
    "Let $A$ be a real, symmetric $n \\times n$ matrix and let $q_1$ be a starting vector of Euclidean norm 1. The Lanczos recursion\n",
    "\n",
    "$$\\beta_{i+1} q_{i+1} := A q_i - \\alpha_i q_i - \\beta_i q_{i-1},$$\n",
    "\n",
    "where $\\beta_1 := 0, q_0 := 0, \\alpha_i := q_i^\\top A q_i, \\beta_{i+1} := q_{i+1}^\\top A q_i$ for $i=1,2,\\dots,$ generates a sequence $T_k$ of real, symmetric tridiagonal $k \\times k$ matrices with diagonal entries $\\alpha_i$ and subdiagonal entries $(T_k)_{i-1,i} = \\beta_i.$ The eigenvalues of $T_k$ approximate the eigenvalues of $A.$"
   ]
  },
  {
   "cell_type": "code",
   "execution_count": null,
   "id": "db6407e7-4808-40ca-a59d-7e0e598611ed",
   "metadata": {},
   "outputs": [],
   "source": [
    "function Lanczos(f, q1, N=100)\n",
    "    # initialization\n",
    "    \n",
    "    \n",
    "    # loop\n",
    "    for i = 1 : N\n",
    "        \n",
    "    endfor\n",
    "endfunction"
   ]
  }
 ],
 "metadata": {
  "kernelspec": {
   "display_name": "Octave",
   "language": "octave",
   "name": "octave"
  },
  "language_info": {
   "file_extension": ".m",
   "help_links": [
    {
     "text": "GNU Octave",
     "url": "https://www.gnu.org/software/octave/support.html"
    },
    {
     "text": "Octave Kernel",
     "url": "https://github.com/Calysto/octave_kernel"
    },
    {
     "text": "MetaKernel Magics",
     "url": "https://metakernel.readthedocs.io/en/latest/source/README.html"
    }
   ],
   "mimetype": "text/x-octave",
   "name": "octave",
   "version": "6.2.0"
  }
 },
 "nbformat": 4,
 "nbformat_minor": 5
}
