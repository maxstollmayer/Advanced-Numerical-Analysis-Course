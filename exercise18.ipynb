{
 "cells": [
  {
   "cell_type": "markdown",
   "id": "settled-advisory",
   "metadata": {},
   "source": [
    "# Advanced Numerical Analysis"
   ]
  },
  {
   "cell_type": "markdown",
   "id": "corrected-remark",
   "metadata": {},
   "source": [
    "## Exercise 18"
   ]
  },
  {
   "cell_type": "markdown",
   "id": "concerned-future",
   "metadata": {},
   "source": [
    "*Show that the matrix*\n",
    "$$ A =\n",
    "\\begin{pmatrix}\n",
    "2 & 1 & 1 \\\\\n",
    "1 & 2 & 1 \\\\\n",
    "1 & 1 & 2\n",
    "\\end{pmatrix}$$\n",
    "\n",
    "*has the singular values 4, 1 and 1. Find two singular value decompositions of A such that the right singular vectors of the first SVD are not parallel to those of the second SVD.*"
   ]
  },
  {
   "cell_type": "markdown",
   "id": "australian-gibson",
   "metadata": {},
   "source": [
    "To find the singular values of $A$ we solve $\\det(A^*A-\\lambda I) = (\\lambda - 16)(\\lambda - 1)^2 = 0$ for $\\lambda$ and set $\\sigma = \\sqrt{\\lambda}.$ Thus $A^*A$ has eigenvalues $16,1,1$ and $A$ singular values $4,1,1.$"
   ]
  },
  {
   "cell_type": "markdown",
   "id": "backed-spray",
   "metadata": {},
   "source": [
    "Solving $(A^*A-\\lambda I) v = 0$ gives us the eigenvectors $(1, 1, 1)^\\top, (-1, 0, 1)^\\top$ and $(-1, 1, 0)^\\top.$ Using Gram-Schmidt we get an orthonormal basis which is written as the following matrix.\n",
    "$$ V_1 =\n",
    "\\begin{pmatrix}\n",
    "\\frac{1}{\\sqrt{3}} & -\\frac{1}{\\sqrt{2}} & -\\frac{1}{\\sqrt{6}} \\\\\n",
    "\\frac{1}{\\sqrt{3}} & 0 & \\sqrt{\\frac{2}{3}} \\\\\n",
    "\\frac{1}{\\sqrt{3}} & \\frac{1}{\\sqrt{2}} & - \\frac{1}{\\sqrt{6}}\n",
    "\\end{pmatrix}$$"
   ]
  },
  {
   "cell_type": "markdown",
   "id": "thirty-effectiveness",
   "metadata": {},
   "source": [
    "Since $(-1, 1, 0)^\\top$ is not orthogonal to $(-1, 0, 1)^\\top$ we can instead use Gram Schmidt on a different order and get a different orthonormal basis.\n",
    "$$ V_2 =\n",
    "\\begin{pmatrix}\n",
    "\\frac{1}{\\sqrt{3}} & \\frac{1}{\\sqrt{6}} & \\frac{1}{\\sqrt{2}} \\\\\n",
    "\\frac{1}{\\sqrt{3}} & \\frac{1}{\\sqrt{6}} & -\\frac{1}{\\sqrt{2}} \\\\\n",
    "\\frac{1}{\\sqrt{3}} & -\\sqrt{\\frac{2}{3}} & 0\n",
    "\\end{pmatrix}$$"
   ]
  },
  {
   "cell_type": "markdown",
   "id": "global-brown",
   "metadata": {},
   "source": [
    "The left singular vectors can be calculated by $u=\\sigma^{-1} A v$ and thus the two different singular value decompositions for A."
   ]
  }
 ],
 "metadata": {
  "kernelspec": {
   "display_name": "Octave",
   "language": "octave",
   "name": "octave"
  },
  "language_info": {
   "file_extension": ".m",
   "help_links": [
    {
     "text": "GNU Octave",
     "url": "https://www.gnu.org/software/octave/support.html"
    },
    {
     "text": "Octave Kernel",
     "url": "https://github.com/Calysto/octave_kernel"
    },
    {
     "text": "MetaKernel Magics",
     "url": "https://metakernel.readthedocs.io/en/latest/source/README.html"
    }
   ],
   "mimetype": "text/x-octave",
   "name": "octave",
   "version": "6.2.0"
  }
 },
 "nbformat": 4,
 "nbformat_minor": 5
}
