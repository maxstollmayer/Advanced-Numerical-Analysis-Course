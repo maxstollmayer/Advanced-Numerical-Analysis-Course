{
 "cells": [
  {
   "cell_type": "markdown",
   "id": "15bfdb12",
   "metadata": {},
   "source": [
    "# Advanced Numerical Analysis\n",
    "\n",
    "## Exercise 23"
   ]
  },
  {
   "cell_type": "markdown",
   "id": "544c1d26",
   "metadata": {},
   "source": [
    "$\\textrm{(i)} \\quad$ *Show that the ODE* $y'(t) = A y(t)$ *satisfies the one-sided Lipschitz condition with constant* $\\mu$ *iff all eigenvalues of the Hermitian part* $A_+$ *are less or equal than* $\\mu.$"
   ]
  },
  {
   "cell_type": "markdown",
   "id": "c9e68287",
   "metadata": {},
   "source": [
    "Any matrix can be decomposed as $A = A_+ + A_-,$ where $A_+ := \\frac{A+A^*}{2}$ is the Hermitian and $A_- := \\frac{A-A^*}{2}$ the anti-Hermitian part. Since $A_+$ is naturally Hermitian $x^* A_+ x \\in\\mathbb{R} \\quad\\forall x \\in\\mathbb{C}^n$ and because $A_-$ is anti-Hermitian $x^* A_- x = \\omega i \\quad\\forall x \\in\\mathbb{C}^n$ for a suitable $\\omega\\in\\mathbb{R}.$ Therefore $\\textrm{Re}(x^* A x) = x^* A_+ x \\quad\\forall x \\in\\mathbb{C}^n$\n",
    "\n",
    "$(\\Rightarrow) \\quad$ Let $x$ be an eigenvector to the eigenvalue $\\lambda$ of $A_+.$ Then $\\lambda |\\!|x|\\!|_2^2 = \\lambda x^* x = x^* A_+ x = \\textrm{Re}(x^* A x) \\le \\mu |\\!|x|\\!|_2^2$ and thus $\\lambda \\le \\mu$ for every eigenvalue of the Hermitian part.\n",
    "\n",
    "$(\\Leftarrow) \\quad$ Let $\\lambda_\\max(M)$ be the largest and $\\lambda_\\min(M)$ the smallest eigenvalue of a matrix $M$ which has only real eigenvalues. Then we can write\n",
    "\n",
    "$$\\begin{align*}\n",
    "\\textrm{Re}(x^* A x) &= x^* A_+ x = \\lambda_\\max(A_+) x^* x + x^* (A_+ - \\lambda_\\min(A_+) I) x \\\\\n",
    "&\\le \\lambda_\\min(A_+) \\ |\\!|x|\\!|_2^2 + |\\!|x|\\!|_2 \\ |\\!|A_+ - \\lambda_\\min(A_+) I|\\!|_2 \\ |\\!|x|\\!|_2 \\\\\n",
    "&\\le \\lambda_\\min(A_+) \\ |\\!|x|\\!|_2^2 + |\\!|x|\\!|_2 \\ |\\lambda_\\max(A_+ - \\lambda_\\min I)| \\ |\\!|x|\\!|_2 \\\\\n",
    "&= \\lambda_\\min(A_+) \\ |\\!|x|\\!|_2^2 + \\lambda_\\max(A_+ - \\lambda_\\min I) \\ |\\!|x|\\!|_2^2 \\\\\n",
    "&= \\lambda_\\min(A_+) \\ |\\!|x|\\!|_2^2 + \\lambda_\\max(A_+) - \\lambda_\\min(A_+)) \\ |\\!|x|\\!|_2^2 \\\\\n",
    "&= \\lambda_\\max(A_+) \\ |\\!|x|\\!|_2^2 \\\\\n",
    "&\\le \\mu |\\!|x|\\!|_2^2\n",
    "\\end{align*}$$\n",
    "\n",
    "since $A_+ - \\lambda_\\min(A_+) I$ only has eigenvalues that are greater or equal to 0."
   ]
  },
  {
   "cell_type": "markdown",
   "id": "8ebd14eb",
   "metadata": {},
   "source": [
    "$$ $$\n",
    "$\\textrm{(ii)} \\quad$ *Show that the matrix* $A = \\big(\\begin{smallmatrix} 1 & 2 \\\\ −1 & −2 \\end{smallmatrix}\\big)$ *is stable but the one-sided Lipschitz constant* $\\mu$ *is strictly greater than $1.$*"
   ]
  },
  {
   "cell_type": "markdown",
   "id": "cb969172",
   "metadata": {},
   "source": [
    "$\\bullet$ Since $A_+ = \\bigg(\\begin{smallmatrix} 1 & \\frac{1}{2} \\\\ \\frac{1}{2} & −2 \\end{smallmatrix}\\bigg)$ has eigenvalues $\\lambda_{1,2} = \\frac{-1 \\pm \\sqrt{10}}{2} \\approx \\{1.08114, -2.08114\\}$ we know from $\\textrm{(i)}$ that $\\mu \\ge \\lambda_{1,2}$ and thus $\\mu > 1.$\n",
    "\n",
    "$\\bullet$ If the eigenvalues of $A$ satisfy $\\textrm{Re}(\\lambda) < 0$ then $A$ is stable but because they are $0$ and $-1$ we will instead show that the associated differential equation $y' = A y$ is stable.\n",
    "\n",
    "For $y(0) = y_\\varepsilon = (\\varepsilon_1,\\, \\varepsilon_2)^\\top$ the solution to the initial value problem is $y(t) = \\exp(t A) \\, y_\\varepsilon.$ Because $A^2 = \\big(\\begin{smallmatrix} -1 & -2 \\\\ 1 & 2 \\end{smallmatrix}\\big)$ and $A^3 = A$ we know that for even exponents we always get $A^2$ and for odd ones $A.$ We can then write the matrix exponential as\n",
    "$$\\exp(t A) = A^0 + A \\sum_{k \\ge 0} \\frac{t^{2k+1}}{(2k+1)!} + A^2 \\sum_{k \\ge 1} \\frac{t^{2k}}{(2k)!} = I + \\sinh(t) A + (cosh(t) - 1) A^2$$\n",
    "and the solution as\n",
    "$$y(t) = (I-A^2) y_\\varepsilon + (\\varepsilon_1 + 2 \\varepsilon_2) (cosh(t) - sinh(t)) \\big(\\begin{smallmatrix} -1 \\\\ 1 \\end{smallmatrix}\\big) = (I-A^2) y_\\varepsilon + e^{-t} (\\varepsilon_1 + 2 \\varepsilon_2) \\big(\\begin{smallmatrix} -1 \\\\ 1 \\end{smallmatrix}\\big).$$\n",
    "\n",
    "For all $t \\ge 0$ the solution $y(t)$ is bounded and for $y_\\varepsilon \\rightarrow 0$ the solution $y(t)$ approaches $0.$ Thus the system and $A$ are stable.\n",
    "\n",
    "Therefore the one-sided Lipschitz condition in Theorem 2.2.3 is sufficient for stability but not necessary in general."
   ]
  },
  {
   "cell_type": "markdown",
   "id": "4181a41f",
   "metadata": {},
   "source": [
    "$$ $$\n",
    "$\\textrm{(iii)} \\quad$ *Find a symmetric, positive definite matrix* $B$ *such that the transformed function* $z(t) := B y(t)$ *has the one-sided Lipschitz constant* $\\mu = 0.$"
   ]
  },
  {
   "cell_type": "markdown",
   "id": "c5080c42",
   "metadata": {},
   "source": [
    "$A$ has eigenvectors $(2, -1)^\\top$ and $(-1, 1)^\\top.$ Let $B = \\big( \\begin{smallmatrix} 2 & -1 \\\\ -1 & 1 \\end{smallmatrix} \\big)$ then $B$ is symmetric, positive definite and has inverse $B^{-1} = \\big( \\begin{smallmatrix} 2 & -1 \\\\ -1 & 1 \\end{smallmatrix} \\big).$ Now the transformed system is $z' = B A B^{-1} z = \\big( \\begin{smallmatrix} 0 & 0 \\\\ 0 & -1 \\end{smallmatrix} \\big) z,$ whose matrix is diagonal, thus Hermitian and has eigenvalues $0$ and $-1$. Therefore $\\mu$ can be chosen as $0.$\n",
    "\n",
    "In general for an $A \\in \\mathbb{C}^{n \\times n}$ and an eigenbasis transformation $B$ of $A$ we have $z' = B y' = B A y = B A B^{-1} z = \\Lambda z,$ where $\\Lambda$ is the eigenvalue diagonalization of $A.$ Then $\\textrm{Re}(x^* \\Lambda x) = \\textrm{Re}(\\sum_{j=1}^n \\lambda_j |x_j|^2) = \\sum_{j=1}^n \\textrm{Re}(\\lambda_j) |x_j|^2 \\le \\textrm{Re}(\\lambda_\\max) |\\!|x|\\!|_2^2 = \\mu |\\!|x|\\!|_2^2,$ where $\\lambda_\\max$ is the eigenvalue of $A$ with the largest real part."
   ]
  }
 ],
 "metadata": {
  "kernelspec": {
   "display_name": "Octave",
   "language": "octave",
   "name": "octave"
  },
  "language_info": {
   "file_extension": ".m",
   "help_links": [
    {
     "text": "GNU Octave",
     "url": "https://www.gnu.org/software/octave/support.html"
    },
    {
     "text": "Octave Kernel",
     "url": "https://github.com/Calysto/octave_kernel"
    },
    {
     "text": "MetaKernel Magics",
     "url": "https://metakernel.readthedocs.io/en/latest/source/README.html"
    }
   ],
   "mimetype": "text/x-octave",
   "name": "octave",
   "version": "6.2.0"
  }
 },
 "nbformat": 4,
 "nbformat_minor": 5
}
